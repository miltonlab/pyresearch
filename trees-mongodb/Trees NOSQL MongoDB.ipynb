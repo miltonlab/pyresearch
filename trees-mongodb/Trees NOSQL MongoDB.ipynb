{
 "cells": [
  {
   "cell_type": "code",
   "execution_count": 2,
   "metadata": {
    "collapsed": true
   },
   "outputs": [],
   "source": [
    "from pymongo import MongoClient"
   ]
  },
  {
   "cell_type": "code",
   "execution_count": 3,
   "metadata": {
    "collapsed": true
   },
   "outputs": [],
   "source": [
    "client = MongoClient('mongodb://localhost:27017')"
   ]
  },
  {
   "cell_type": "code",
   "execution_count": 4,
   "metadata": {
    "collapsed": true
   },
   "outputs": [],
   "source": [
    "bd = client.biblioteca"
   ]
  },
  {
   "cell_type": "code",
   "execution_count": 5,
   "metadata": {
    "collapsed": true
   },
   "outputs": [],
   "source": [
    "from timeit import Timer"
   ]
  },
  {
   "cell_type": "markdown",
   "metadata": {},
   "source": [
    "![Ejemplo estructura](http://docs.mongodb.org/manual/_images/data-model-tree.png)"
   ]
  },
  {
   "cell_type": "markdown",
   "metadata": {},
   "source": [
    "##Model Tree Structures with Parent References (Parent Links)\n",
    "Almacena cada nodo del árbol en un documento; adicionalmente a la información del nodo del árbol el documento almacena el 'id' of the nodo padre."
   ]
  },
  {
   "cell_type": "markdown",
   "metadata": {},
   "source": [
    "| Pros        | Cons           \n",
    "| ------------- |:-------------:|\n",
    "| Consulta para recuperar el padre de un nodo más rápida y sencilla|   |\n",
    "| Provee una solución simple para el almacenamiento | Se requiere múltimples consultas para recuperar subárboles|\n",
    "| Se puede crear un índice sobre el campo 'parent' para permitir búsquedas rápidas |       |\n",
    "| Se puede consultar por el campo 'parent' para encontrar inmediatamente los nodos hijos |       |"
   ]
  },
  {
   "cell_type": "code",
   "execution_count": 7,
   "metadata": {
    "collapsed": true
   },
   "outputs": [],
   "source": [
    "def test_parent_references():\n",
    "    bd.categorias.drop()\n",
    "    bd.categorias.insert( { '_id': \"MongoDB\", 'parent': \"Databases\" } ) \n",
    "    bd.categorias.insert( { '_id': \"dbm\", 'parent': \"Databases\" } ) \n",
    "    bd.categorias.insert( { '_id': \"Databases\", 'parent': \"Programming\" } ) \n",
    "    bd.categorias.insert( { '_id': \"Languages\", 'parent': \"Programming\" } ) \n",
    "    bd.categorias.insert( { '_id': \"Programming\", 'parent': \"Books\" } ) \n",
    "    bd.categorias.insert( { '_id': \"Books\", 'parent': None } )"
   ]
  },
  {
   "cell_type": "code",
   "execution_count": 8,
   "metadata": {
    "collapsed": false
   },
   "outputs": [
    {
     "name": "stdout",
     "output_type": "stream",
     "text": [
      "0.31 \n"
     ]
    }
   ],
   "source": [
    "t = Timer(lambda: test_parent_references())\n",
    "time = t.timeit(number=100)\n",
    "print('%.2f ' % time)"
   ]
  },
  {
   "cell_type": "code",
   "execution_count": 25,
   "metadata": {
    "collapsed": false
   },
   "outputs": [
    {
     "data": {
      "text/plain": [
       "'Databases'"
      ]
     },
     "execution_count": 25,
     "metadata": {},
     "output_type": "execute_result"
    }
   ],
   "source": [
    "bd.categorias.find_one({'_id': 'MongoDB'}).get('parent')"
   ]
  },
  {
   "cell_type": "code",
   "execution_count": 29,
   "metadata": {
    "collapsed": false
   },
   "outputs": [
    {
     "data": {
      "text/plain": [
       "'parent_1'"
      ]
     },
     "execution_count": 29,
     "metadata": {},
     "output_type": "execute_result"
    }
   ],
   "source": [
    "bd.categorias.create_index('parent')"
   ]
  },
  {
   "cell_type": "code",
   "execution_count": 31,
   "metadata": {
    "collapsed": false
   },
   "outputs": [
    {
     "name": "stdout",
     "output_type": "stream",
     "text": [
      "{'_id': 'MongoDB', 'parent': 'Databases'}\n",
      "{'_id': 'dbm', 'parent': 'Databases'}\n"
     ]
    }
   ],
   "source": [
    "cursor = bd.categorias.find({'parent' : 'Databases'})\n",
    "for c in cursor:\n",
    "    print(c)"
   ]
  },
  {
   "cell_type": "markdown",
   "metadata": {},
   "source": [
    "##Model Tree Structures with Child References"
   ]
  },
  {
   "cell_type": "markdown",
   "metadata": {},
   "source": [
    "El patrón \"Child References\" almacena cada nodo del árbol en un documento; adicionalmente a la información del nodo de árbol, el documento almacena en un arreglo los id(s) de los nodos hijos."
   ]
  },
  {
   "cell_type": "code",
   "execution_count": 32,
   "metadata": {
    "collapsed": true
   },
   "outputs": [],
   "source": [
    "def test_parent_references():\n",
    "    bd.categorias.drop()\n",
    "    bd.categorias.insert( { \"_id\": \"MongoDB\", \"children\": [] } ) \n",
    "    bd.categorias.insert( { \"_id\": \"dbm\", \"children\": [] } ) \n",
    "    bd.categorias.insert( { \"_id\": \"Databases\", \"children\": [\"MongoDB\", \"dbm\"] } ) \n",
    "    bd.categorias.insert( { \"_id\": \"Languages\", \"'children\": [] } ) \n",
    "    bd.categorias.insert( { \"_id\": \"Programming\", \"children\": [\"Databases\", \"Languages\"] } ) \n",
    "    bd.categorias.insert( { \"_id\": \"Books\", \"children\": [\"Programming\"] } )"
   ]
  }
 ],
 "metadata": {
  "kernelspec": {
   "display_name": "Python 3",
   "language": "python",
   "name": "python3"
  },
  "language_info": {
   "codemirror_mode": {
    "name": "ipython",
    "version": 3
   },
   "file_extension": ".py",
   "mimetype": "text/x-python",
   "name": "python",
   "nbconvert_exporter": "python",
   "pygments_lexer": "ipython3",
   "version": "3.4.0"
  }
 },
 "nbformat": 4,
 "nbformat_minor": 0
}
