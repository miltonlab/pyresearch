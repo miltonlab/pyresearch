{
 "cells": [
  {
   "cell_type": "markdown",
   "metadata": {},
   "source": [
    "##Index\n",
    "\n",
    "* [Initial Configurations](#configs)\n",
    "* ####Patterns\n",
    "  * [Parent references](#parent_references)\n",
    "  * [Child references](#child_references)\n",
    "  * [Materialized Paths](#materialized_paths)\n",
    "  * [Nested Sets](#nested_sets) "
   ]
  },
  {
   "cell_type": "markdown",
   "metadata": {},
   "source": [
    "##Metodología"
   ]
  },
  {
   "cell_type": "markdown",
   "metadata": {},
   "source": [
    "### Sobre el Dataset\n",
    "El dataset fue obtenido, el día 25 de junio del 2015, del servicio de libros electónicos \"Cambridge Books Online\" creado por la \"Cambridge University Press (CUP)\" la casa editorial más antigua y la segunda editorial universitaria más grande en el mundo después de la Editorial de la Universidad de Oxford. Este conjunto de datos  http://ebooks.cambridge.org/download?f=titlelist_csv&prodCode=CBO&type=titlelist contiene 20242 registros de los cuales luego con la herramienta de hoja de cálculo Libre Office Calc:\n",
    "1. Se filtraron unicamente aquellos que pertenecen a la categoría de \"Ciencias de la Computación\" para luego obtener un dataset definitivo de 297 títulos y 3 columnas (Titulo del libro, Categría y Subcategoría).\n",
    "2. Se realizó la limpieza de algunos datos, especialmente en lo que tiene que ver con la eliminación de espacios duplicados."
   ]
  },
  {
   "cell_type": "markdown",
   "metadata": {},
   "source": [
    "![Dataset](./images/dataset.png)"
   ]
  },
  {
   "cell_type": "markdown",
   "metadata": {},
   "source": [
    "##Conclusiones y Resultados"
   ]
  },
  {
   "cell_type": "markdown",
   "metadata": {},
   "source": [
    "* La librería python para Análisis de Datos Pandas permite procesar cómodamente datos jerárquicos\n",
    "* Al aplicar el patron Child References se tuvo problemas de repetición de datos en el segundo nivel del árbol\n",
    "* El modelamiento de datos relacionales o categorizados en estructuras jerárquicas como los árboles pasa por modelar jerárquicamente en primer lugar."
   ]
  },
  {
   "cell_type": "markdown",
   "metadata": {},
   "source": [
    "##Trabajos Futuros"
   ]
  },
  {
   "cell_type": "markdown",
   "metadata": {},
   "source": [
    "* Automatizar el proceso de inserción de la estructura arbol en la base de datos MongoDB utilizando por ejemplo la libreria ete2 para procesamiento de estructuras de árbol.\n",
    "* Usar la libreria pytables en el caso de tener datos realmente grandes y mapear al formato HDF5"
   ]
  },
  {
   "cell_type": "markdown",
   "metadata": {},
   "source": [
    "**Prerequisitos de Software para la experimentación:**\n",
    "    * MongoDB 3.0.4 (on MongoLab cloud)\n",
    "    * pymongo 3.02\n",
    "    * Python 3.4\n",
    "    * Pandas 0.16.2"
   ]
  },
  {
   "cell_type": "markdown",
   "metadata": {},
   "source": [
    "<a id=\"configs\"><h2> Configuraciones iniciales </h2></a>"
   ]
  },
  {
   "cell_type": "code",
   "execution_count": 4,
   "metadata": {
    "collapsed": false
   },
   "outputs": [],
   "source": [
    "import pandas as pd\n",
    "from pymongo import MongoClient\n",
    "from configparser import ConfigParser\n",
    "import unittest\n",
    "\n",
    "# First copy 'config.ini.tmpl' to 'config.ini' and set the MongoDB database credentials\n",
    "conf = ConfigParser()\n",
    "conf.read('config.ini')\n",
    "experiments = list()\n",
    "\n",
    "def load():\n",
    "    \"\"\" Load the dataset en returns a pandas.DataFrame \"\"\"\n",
    "    data = pd.read_csv('datasets/cambridge-cs-titles.csv', dtype={'eISBN': str})\n",
    "    return data\n",
    "\n",
    "def connect():\n",
    "    \"\"\" Connect to MongoDB database and return a object reference this connection \"\"\"\n",
    "    uri = 'mongodb://{0}:{1}@{2}:{3}/library'.format(\n",
    "            conf.get('database', 'user'), conf.get('database', 'password'), \n",
    "            conf.get('database', 'host'), conf.get('database', 'port'))\n",
    "    client = MongoClient(uri)\n",
    "    db = client['library']\n",
    "    return db"
   ]
  },
  {
   "cell_type": "markdown",
   "metadata": {},
   "source": [
    "<a id=\"parent_references\"> <h2> Model Tree Structures with Parent References (Parent Links) </h2> </a> \n",
    "<p/>\n",
    "Almacena cada nodo del árbol en un documento; adicionalmente a la información del nodo del árbol el documento almacena el 'id' del nodo padre."
   ]
  },
  {
   "cell_type": "code",
   "execution_count": 2,
   "metadata": {
    "collapsed": true
   },
   "outputs": [],
   "source": [
    "class ParentReferences(unittest.TestCase):\n",
    "\n",
    "    @classmethod\n",
    "    def setUpClass(cls):\n",
    "        db = connect()\n",
    "        db.subjects1.drop()\n",
    "        \n",
    "    def setUp(self):\n",
    "        self.db = connect()\n",
    "        self.data = load()\n",
    "\n",
    "    def test_insert(self):\n",
    "        db = self.db\n",
    "        data = self.data\n",
    "        db.subjects1.drop()\n",
    "        # Setting dataframe multiindex\n",
    "        data = data.set_index(['MainSubject', 'SubSubject'])\n",
    "        data.index.sortlevel()\n",
    "\n",
    "        # Store titles with parent reference\n",
    "        for indexes, row in data.iterrows():\n",
    "            db.subjects1.insert( { '_id': str(row['eISBN']), 'name': row['Title'], 'parent': indexes[1] } )\n",
    "\n",
    "        # Store subsubjects with parent reference\n",
    "        for mainsubject, subsubject in data.index.unique():\n",
    "            db.subjects1.insert( { \"_id\": subsubject, \"parent\": mainsubject } )\n",
    "\n",
    "        # Store mainsubject with parent (root) reference\n",
    "        for mainsubject in data.index.levels[0]:\n",
    "            db.subjects1.insert( { '_id': mainsubject, 'parent': 'eBooks Cambridge'})\n",
    "        \n",
    "        assert db.subjects1.count() == 313\n",
    "\n",
    "    def test_indexing(self):\n",
    "        result = self.db.subjects1.create_index('parent')\n",
    "        assert result == 'parent_1'\n",
    "        \n",
    "    def test_query(self):\n",
    "        result = self.db.subjects1.find_one({'_id': '9781139084789'}).get('parent')\n",
    "        assert result == 'Knowledge management'\n",
    "        \n",
    "    def test_query_by_index(self):\n",
    "        children = self.db.subjects1.find({'parent' : 'Knowledge management'})\n",
    "        assert children.count() > 0"
   ]
  },
  {
   "cell_type": "code",
   "execution_count": 5,
   "metadata": {
    "collapsed": false
   },
   "outputs": [
    {
     "name": "stdout",
     "output_type": "stream",
     "text": [
      "1 loops, best of 3: 32.7 s per loop\n",
      "10 loops, best of 3: 100 ms per loop\n",
      "10 loops, best of 3: 100 ms per loop\n",
      "10 loops, best of 3: 101 ms per loop\n"
     ]
    }
   ],
   "source": [
    "ParentReferences.setUpClass()\n",
    "pattern1 = ParentReferences()\n",
    "pattern1.setUp()\n",
    "t1 = %timeit -o pattern1.test_insert()\n",
    "t2 = %timeit -o pattern1.test_query()\n",
    "t3 = %timeit -o pattern1.test_indexing()\n",
    "t4 = %timeit -o pattern1.test_query_by_index()\n",
    "times = [r.best for r in (t1, t2, t3, t4)]\n",
    "experiments.append(['Parent References'] + times)"
   ]
  },
  {
   "cell_type": "markdown",
   "metadata": {},
   "source": [
    "| Pros        | Cons           \n",
    "| ------------- |:-------------:|\n",
    "| Consulta para recuperar el padre de un nodo más rápida y sencilla|   |\n",
    "| Provee una solución simple para el almacenamiento | Se requiere múltimples consultas para recuperar subárboles|\n",
    "| Se puede crear un índice sobre el campo 'parent' para permitir búsquedas rápidas |       |\n",
    "|||\n",
    "|Se puede consultar por el campo 'parent' para encontrar inmediatamente los nodos hijos |       |"
   ]
  },
  {
   "cell_type": "markdown",
   "metadata": {},
   "source": [
    "<a id=\"child_references\"><h2> Model Tree Structures with Child References </h2> </a>"
   ]
  },
  {
   "cell_type": "markdown",
   "metadata": {},
   "source": [
    "El patrón \"Child References\" almacena cada nodo del árbol en un documento; adicionalmente a la información del nodo de árbol, el documento almacena en un arreglo los id(s) de los nodos hijos."
   ]
  },
  {
   "cell_type": "code",
   "execution_count": 6,
   "metadata": {
    "collapsed": false
   },
   "outputs": [],
   "source": [
    "class ChildReferences(unittest.TestCase):\n",
    "\n",
    "    @classmethod\n",
    "    def setUpClass(cls):\n",
    "        db = connect()\n",
    "        db.subjects2.drop()\n",
    "\n",
    "    def setUp(self):\n",
    "        self.db = connect()\n",
    "        self.data = load()    \n",
    "\n",
    "    def test_insert(self):\n",
    "        db = self.db #alias\n",
    "        data = self.data #alias\n",
    "        db.subjects2.drop()\n",
    "        # Setting dataframe multiindex\n",
    "        data = data.set_index(['MainSubject', 'SubSubject'])\n",
    "        data.index.sortlevel()\n",
    "\n",
    "        # Store titles  whitout chlidren\n",
    "        titles = data[['Title', 'eISBN']]\n",
    "        for indexes, row in titles.iterrows():\n",
    "            db.subjects2.insert( {'_id': row['eISBN'], 'name': row['Title'], 'children': [] } )\n",
    "\n",
    "        # Store the subsubject with your titles children\n",
    "        for mainsubject, subsubject in data.index.unique():\n",
    "            # Get all titles in this subsubject\n",
    "            children = data.ix[(mainsubject, subsubject)]['eISBN'].tolist()\n",
    "            db.subjects2.insert( { \"_id\": subsubject, \"children\": children } )\n",
    "\n",
    "        # Store the mainsubject with your subsubjects children\n",
    "        mainsubject = data.index.levels[0][0]\n",
    "        subsubjects = data.index.levels[1].tolist()\n",
    "        db.subjects2.insert( { \"_id\": mainsubject, \"children\": subsubjects } )\n",
    "\n",
    "        # Store the root with mainsubject children\n",
    "        db.subjects2.insert( { \"_id\": \"eBooks Cambridge\", \"children\": [mainsubject] } )\n",
    "        \n",
    "        assert db.subjects2.count() == 314\n",
    "\n",
    "    def test_indexing(self):\n",
    "        result = self.db.subjects2.create_index(\"children\")\n",
    "        assert result == 'children_1'\n",
    "    \n",
    "    def test_query(self):\n",
    "        result = self.db.subjects2.find_one( { \"_id\": \"Knowledge management\" } ).get(\"children\")\n",
    "        assert result is not None and '9781139084789' in result\n",
    "            \n",
    "    def test_query_by_index(self):\n",
    "        result = self.db.subjects2.find( { \"children\":  [\"9780511583919\", \"9780511547065\"] } )\n",
    "        assert result.count() > 0"
   ]
  },
  {
   "cell_type": "code",
   "execution_count": 7,
   "metadata": {
    "collapsed": false
   },
   "outputs": [
    {
     "name": "stdout",
     "output_type": "stream",
     "text": [
      "1 loops, best of 3: 38.7 s per loop\n",
      "10 loops, best of 3: 101 ms per loop\n",
      "10 loops, best of 3: 100 ms per loop\n",
      "10 loops, best of 3: 101 ms per loop\n"
     ]
    },
    {
     "name": "stderr",
     "output_type": "stream",
     "text": [
      "/home/miltonlab/anaconda3/lib/python3.4/site-packages/pandas/core/index.py:5091: PerformanceWarning: indexing past lexsort depth may impact performance.\n",
      "  PerformanceWarning)\n"
     ]
    }
   ],
   "source": [
    "ChildReferences.setUpClass()\n",
    "pattern2 = ChildReferences()\n",
    "pattern2.setUp()\n",
    "t1 = %timeit -o pattern2.test_insert()\n",
    "t2 = %timeit -o pattern2.test_query()\n",
    "t3 = %timeit -o pattern2.test_indexing()\n",
    "t4 = %timeit -o pattern2.test_query_by_index()\n",
    "times = [r.best for r in (t1, t2, t3, t4)]\n",
    "experiments.append(['Child References'] + times)"
   ]
  },
  {
   "cell_type": "markdown",
   "metadata": {},
   "source": [
    "| Pros        | Cons           \n",
    "| ------------- |:-------------:|\n",
    "| La consulta para recuperar los hijos inmediatos de un nodo es más rápida y sencilla |   |\n",
    "| Se puede crear un índice sobre el campo 'children' para permitir búsquedas rápidas por los nodos hijos| |\n",
    "| Se puede consultar por un nodo en el campo 'children' para encontrar su *nodo padre así como sus nodos hermanos* |       |\n",
    "|||\n",
    "|Provee una solución adecuada para almacenamiento de árboles siempre y cuando no sean necesarias las operaciones en subárboles||\n",
    "|Puede proveer una solución adecuada para almacenar grafos donde un nodo puede tener múltiples padres||"
   ]
  },
  {
   "cell_type": "markdown",
   "metadata": {},
   "source": [
    "<a id=\"array_ancestors\"><h2> Model Tree Structures with an Array of Ancestor </h2> </a>"
   ]
  },
  {
   "cell_type": "markdown",
   "metadata": {
    "collapsed": true
   },
   "source": [
    "El patrón \"Arreglo de Ancestros\" almacena cada nodo del árbol en un documento; adicionalmente al nodo de árbol, el documento almacena en un arreglo los id(s) de los nodos ancestros o camino."
   ]
  },
  {
   "cell_type": "code",
   "execution_count": 14,
   "metadata": {
    "collapsed": false
   },
   "outputs": [],
   "source": [
    "class ArrayAncestors(unittest.TestCase):\n",
    "\n",
    "    @classmethod\n",
    "    def setUpClass(cls):\n",
    "        db = connect()\n",
    "        db.subjects3.drop()\n",
    "\n",
    "    def setUp(self):\n",
    "        self.db = connect()\n",
    "        self.data = load()    \n",
    "\n",
    "    def test_insert(self):\n",
    "        db = self.db\n",
    "        data = self.data\n",
    "        db.subjects3.drop()\n",
    "        # Setting dataframe multiindex\n",
    "        data = data.set_index(['MainSubject', 'SubSubject'])\n",
    "\n",
    "        # Store titles with ancestors from iterrows index\n",
    "        for indexes, row in data.iterrows():\n",
    "            db.subjects3.insert( { \"_id\": row[\"eISBN\"],\n",
    "                                \"name\": row[\"Title\"],\n",
    "                                \"ancestors\": [\"eBooks Cambride\", indexes[0], indexes[1]],\n",
    "                                \"parent\": indexes[1]\n",
    "                                } )\n",
    "        \n",
    "        # Store subsubjects with ancestors from index level 1\n",
    "        for subsubject in data.index.levels[1].tolist():\n",
    "            db.subjects3.insert( { \"_id\": subsubject, \n",
    "                                  \"ancestors\": [\"eBooks Cambridge\", data.index.levels[0][0]], \n",
    "                                  \"parent\": data.index.levels[0][0]\n",
    "                                  } )\n",
    "\n",
    "        # Store mainsubject with ancestor\n",
    "        db.subjects3.insert( { \"_id\": data.index.levels[0][0], \n",
    "                             \"ancestors\": [\"eBooks Cambridge\"], \n",
    "                             \"parent\": \"eBooks Cambridge\" \n",
    "                             } )\n",
    "\n",
    "        # Store the root\n",
    "        db.subjects3.insert( { \"_id\": \"eBooks Cambridge\", \"ancestors\": [], \"parent\": None } )\n",
    "        \n",
    "        assert db.subjects3.count() == 314\n",
    "        \n",
    "    def test_query(self):\n",
    "        result = self.db.subjects3.find_one( { \"_id\": \"Knowledge management\" } ).get(\"ancestors\")\n",
    "        assert result is not None and \"Computer science\" in result\n",
    "    \n",
    "    def test_indexing(self):\n",
    "        result = self.db.subjects3.create_index(\"ancestors\")\n",
    "        assert result == 'ancestors_1'\n",
    "\n",
    "    def test_query_by_index(self):\n",
    "        result = self.db.subjects3.find( { \"ancestors\": [\"eBooks Cambride\", \n",
    "                                                         \"Computer science\", \n",
    "                                                         \"IT management and e-commerce\"]\n",
    "                                          } )\n",
    "        assert result.count() > 0"
   ]
  },
  {
   "cell_type": "code",
   "execution_count": 15,
   "metadata": {
    "collapsed": false
   },
   "outputs": [
    {
     "name": "stdout",
     "output_type": "stream",
     "text": [
      "1 loops, best of 3: 32.1 s per loop\n",
      "10 loops, best of 3: 99.6 ms per loop\n",
      "1 loops, best of 3: 99.7 ms per loop\n",
      "10 loops, best of 3: 101 ms per loop\n"
     ]
    }
   ],
   "source": [
    "ArrayAncestors.setUpClass()\n",
    "pattern3 = ArrayAncestors()\n",
    "pattern3.setUp()\n",
    "t1 = %timeit -o pattern3.test_insert()\n",
    "t2 = %timeit -o pattern3.test_query()\n",
    "t3 = %timeit -o pattern3.test_indexing()\n",
    "t4 = %timeit -o pattern3.test_query_by_index()\n",
    "times = [r.best for r in (t1, t2, t3, t4)]\n",
    "experiments.append([\"Array Ancestors\"] + times)"
   ]
  },
  {
   "cell_type": "markdown",
   "metadata": {},
   "source": [
    "| Pros        | Cons           \n",
    "| ------------- |:-------------:|\n",
    "| | Adicionalmente al campo \"ancestors\" se necesita almacenar la referencia a la categoría del padre inmediata en el campo 'parent' |\n",
    "| La consulta para recuperar los ancestros o el camino de un nodo es rápida y sencilla| |\n",
    "| Se puede crear un índice sobre el campo 'ancestors' para permitir búsquedas rápidas por los nodos ancestros|       |\n",
    "|Se puede consultar por el campo 'ancestros' para encontrar todos sus **descendientes**||\n",
    "|||\n",
    "|El patrón \"Array of Ancestors\" provee una solución rápida y eficiente para encontrar todos los descendientes y los ancestros de un nodo creando un índice sobre los elementos del campo 'ancestors'. Esto hace a este patrón una buena elección para trabajar con subárboles ||\n",
    "||Este patrón es ligeramente más lento que el patrón \"Materialized Paths\" pero es más sencillo de usar|"
   ]
  },
  {
   "cell_type": "markdown",
   "metadata": {},
   "source": [
    "<a id=\"materialized_paths\"><h2> Model Tree Structures with Materialized Paths (Views) </h2> </a>"
   ]
  },
  {
   "cell_type": "markdown",
   "metadata": {},
   "source": [
    "<a id=\"materialized_paths\"/>"
   ]
  },
  {
   "cell_type": "markdown",
   "metadata": {},
   "source": [
    "Este patrón almacena cada nodo del árbol en un documento; adicionalmente al nodo de árbol, el documento almacena en forma de un string los ids(s) de los nodos ancestros o camino. \n",
    "Aunque el patrón \"Materialized Paths\" requiere pasos adicionales de trabajo con strings y expresiones regulares, el patrón también provee más flexibilidad en el trabajo con el camino, tales como la búsqueda de nodos por caminos parciales. "
   ]
  },
  {
   "cell_type": "code",
   "execution_count": 16,
   "metadata": {
    "collapsed": false
   },
   "outputs": [],
   "source": [
    "class MaterializedPaths(unittest.TestCase):\n",
    "\n",
    "    @classmethod\n",
    "    def setUpClass(cls):\n",
    "        db = connect()\n",
    "        db.subjects4.drop()\n",
    "\n",
    "    def setUp(self):\n",
    "        self.db = connect()\n",
    "        self.data = load()    \n",
    "\n",
    "    def test_insert(self):\n",
    "        db = self.db #alias\n",
    "        data = self.data #alias\n",
    "        db.subjects4.drop()\n",
    "        data = data.set_index(['MainSubject', 'SubSubject'])\n",
    "\n",
    "        # Store titles with ancestors from iterrows index\n",
    "        for indexes, row in data.iterrows():\n",
    "            db.subjects4.insert( { \"_id\": row[\"eISBN\"],\n",
    "                                \"name\": row[\"Title\"],\n",
    "                                \"path\": ','.join([\"\", \"eBooks Cambride\", indexes[0], indexes[1], \"\"]),\n",
    "                                } )\n",
    "        # Store subsubjects with ancestors from index levels\n",
    "        for subsubject in data.index.levels[1].tolist():\n",
    "            db.subjects4.insert( { \"_id\": subsubject, \n",
    "                                 \"path\": \",\".join([\"\", \"eBooks Cambridge\", data.index.levels[0][0], \"\"])\n",
    "                                })\n",
    "        # Store mainsubject with ancestor\n",
    "        db.subjects4.insert( {\"_id\": data.index.levels[0][0], \n",
    "                             \"path\": \",\".join([\"\",\"eBooks Cambridge\",\"\"])\n",
    "                             })\n",
    "        # Store the root\n",
    "        db.subjects4.insert( { \"_id\": \"eBooks Cambridge\", \"path\": \"\"})\n",
    "        assert db.subjects3.count() == 314\n",
    "        \n",
    "    def test_query(self):\n",
    "        result = self.db.subjects4.find_one( { \"_id\": \"Knowledge management\" } )\n",
    "        # Find Descendents of one document\n",
    "        # result = self.db.subjects4.find_one( { \"path\": {\"$regex\": r\",Knowledge management,\" } } )\n",
    "        assert result is not None and result[\"_id\"] == \"Knowledge management\"\n",
    "    \n",
    "    def test_indexing(self):\n",
    "        result = self.db.subjects4.create_index(\"path\")\n",
    "        assert result == 'path_1'\n",
    "\n",
    "    def test_query_by_index(self):\n",
    "        # Find the desendents of IT management and e-commerce\n",
    "        result = self.db.subjects4.find( { \"path\": {\"$regex\": r\",IT management and e-commerce,\"} } )\n",
    "        assert result.count() > 0 \n",
    "        \n",
    "    def test_other(self):\n",
    "        # Read all the tree sorted by path\n",
    "        self.db.subjeects4.find().sort(\"path\")\n",
    "        # Read all the tree with regex\n",
    "        self.db.subjects4.find( { \"path\": {\"$regex\": r\"^,eBooks Cambridge,\" } } )   "
   ]
  },
  {
   "cell_type": "code",
   "execution_count": 17,
   "metadata": {
    "collapsed": false
   },
   "outputs": [
    {
     "name": "stdout",
     "output_type": "stream",
     "text": [
      "1 loops, best of 3: 33 s per loop\n",
      "10 loops, best of 3: 102 ms per loop\n",
      "The slowest run took 5.25 times longer than the fastest. This could mean that an intermediate result is being cached \n",
      "1 loops, best of 3: 102 ms per loop\n",
      "10 loops, best of 3: 103 ms per loop\n"
     ]
    }
   ],
   "source": [
    "MaterializedPaths.setUpClass()\n",
    "pattern4 = MaterializedPaths()\n",
    "pattern4.setUp()\n",
    "t1 = %timeit -o pattern4.test_insert()\n",
    "t2 = %timeit -o pattern4.test_query()\n",
    "t3 = %timeit -o pattern4.test_indexing()\n",
    "t4 = %timeit -o pattern4.test_query_by_index()\n",
    "times = [r.best for r in (t1, t2, t3, t4)]\n",
    "experiments.append([\"Materialized Paths\"] + times)"
   ]
  },
  {
   "cell_type": "markdown",
   "metadata": {},
   "source": [
    "| Pros        | Cons           \n",
    "| ------------- |:-------------:|\n",
    "| Se puede realizar la consulta para recuperar ordenàndolo por el campo 'path' |  |\n",
    "| Se puede usar expresiones regulares sobre el campo 'path' para encontrar por ejemplo los descendientes de un nodo | |\n",
    "| Habilita el uso de índices sobre el campo 'path' al tratarlo como string |       |\n",
    "| Las consultas sobre el índice mejorarán significativamente o aparotarán alguna mejora dependiendo del tamaño que tenga el índice: mientras más pequeño más rápida será la consulta (**TODO: Probar 2 casos**) ||"
   ]
  },
  {
   "cell_type": "markdown",
   "metadata": {},
   "source": [
    "<a id=\"nested_sets\"><h2> Model Tree Structures with Nested Sets </h2> </a>"
   ]
  },
  {
   "cell_type": "markdown",
   "metadata": {},
   "source": [
    "![Nested Sets](http://docs.mongodb.org/manual/_images/data-model-example-nested-set.png)"
   ]
  },
  {
   "cell_type": "markdown",
   "metadata": {},
   "source": [
    "<a id=\"nested_sets\"/>"
   ]
  },
  {
   "cell_type": "markdown",
   "metadata": {},
   "source": [
    "El patrón \"Nested Sets\" identifica cada nodo en el árbol como señales \"pare\" en un recorrido de ida y vuelta del árbol. \n",
    "La aplicación visita cada nodo en el árbol 2 veces; la primera durate el viaje inicial y la segunda durante el viaje de retorno. \n",
    "Este patrón almacena cada nodo del árbol en un documento; adicionalmente a la información del nodo del árbol el documento almacena el id del nodo padre, los nodos parada inicial en el campo **left** y parada de retorno en el campo **right**. Es adecuado para árboles estáticos que no cambian."
   ]
  },
  {
   "cell_type": "code",
   "execution_count": 19,
   "metadata": {
    "collapsed": false
   },
   "outputs": [],
   "source": [
    "class NestedSets(unittest.TestCase):\n",
    "\n",
    "    @classmethod\n",
    "    def setUpClass(cls):\n",
    "        db = connect()\n",
    "        db.subjects5.drop()\n",
    "\n",
    "    def setUp(self):\n",
    "        self.db = connect()\n",
    "        self.data = load()    \n",
    "\n",
    "    def test_insert(self):\n",
    "        db = self.db #alias\n",
    "        data = self.data #alias\n",
    "        db.subjects5.drop()\n",
    "        data = data.set_index(['MainSubject', 'SubSubject'])\n",
    "        count = 1\n",
    "\n",
    "        # Prestore the root\n",
    "        dictroot = {\"_id\": \"eBooks Cambridge\", \"parent\": None, \"left\": count}\n",
    "        count += 1\n",
    "\n",
    "        # Prestore the Mainsubject\n",
    "        dictmainsubject = { \"_id\": data.index.levels[0][0], \"parent\": dictroot[\"_id\"], \"left\": count }\n",
    "        count += 1\n",
    "\n",
    "        # Prestore Subsubjects\n",
    "        for subsubject in data.index.levels[1].tolist():\n",
    "            mainsubject = data.index.levels[0][0]\n",
    "            dictsubsubject = { \"_id\": subsubject, \"parent\": dictmainsubject[\"_id\"], \"left\": count }\n",
    "            count += 1\n",
    "\n",
    "            # Prestore titles belong to subsubject quering by subsubject and mainsubject\n",
    "            titles = data.ix[(mainsubject, subsubject)]\n",
    "            for index, row in titles.iterrows():\n",
    "                dicttitle = { \"_id\": row[\"eISBN\"], \"name\": row[\"Title\"], \"parent\": subsubject, \"left\": count }\n",
    "                count += 1\n",
    "                dicttitle[\"right\"] = count\n",
    "                db.subjects5.insert( dicttitle )\n",
    "                count += 1\n",
    "            dictsubsubject[\"right\"] = count\n",
    "            db.subjects5.insert( dictsubsubject )\n",
    "            count += 1\n",
    "        dictmainsubject[\"right\"] = count\n",
    "        db.subjects5.insert( dictmainsubject )\n",
    "        count += 1\n",
    "        dictroot[\"right\"] = count\n",
    "        db.subjects5.insert( dictroot )\n",
    "        assert db.subjects5.count() == 314\n",
    "\n",
    "    def test_query(self):\n",
    "        title = self.db.subjects5.find_one( { \"_id\": \"9781139084789\" } )\n",
    "        assert title and title[\"right\"] == title[\"left\"] + 1\n",
    "    \n",
    "    def test_indexing(self):\n",
    "        result = self.db.subjects5.create_index( [(\"left\", 1), (\"right\", 1)] )\n",
    "        assert result == 'left_1_right_1'\n",
    "\n",
    "    def test_query_by_index(self):\n",
    "        # Find the children of \"IT management and e-commerce\"\n",
    "        subsubject = self.db.subjects5.find_one( { '_id': 'IT management and e-commerce' } )\n",
    "        titles = self.db.subjects5.find( {\"left\" : {\"$gt\": subsubject[\"left\"] }, \n",
    "                                          \"right\": {\"$lt\": subsubject[\"right\"] }\n",
    "                                          } )\n",
    "        assert titles.count() > 0 \n",
    "        \n",
    "    def test_other(self):\n",
    "        assert True"
   ]
  },
  {
   "cell_type": "code",
   "execution_count": 20,
   "metadata": {
    "collapsed": false
   },
   "outputs": [
    {
     "name": "stdout",
     "output_type": "stream",
     "text": [
      "1 loops, best of 3: 32.7 s per loop\n",
      "10 loops, best of 3: 100 ms per loop\n",
      "1 loops, best of 3: 100 ms per loop\n",
      "1 loops, best of 3: 202 ms per loop\n"
     ]
    },
    {
     "name": "stderr",
     "output_type": "stream",
     "text": [
      "/home/miltonlab/anaconda3/lib/python3.4/site-packages/pandas/core/index.py:5091: PerformanceWarning: indexing past lexsort depth may impact performance.\n",
      "  PerformanceWarning)\n"
     ]
    }
   ],
   "source": [
    "NestedSets.setUpClass()\n",
    "pattern5 = NestedSets()\n",
    "pattern5.setUp()\n",
    "t1 = %timeit -o pattern5.test_insert()\n",
    "t2 = %timeit -o pattern5.test_query()\n",
    "t3 = %timeit -o pattern5.test_indexing()\n",
    "t4 = %timeit -o pattern5.test_query_by_index()\n",
    "times = [r.best for r in (t1, t2, t3, t4)]\n",
    "experiments.append([\"Nested Sets\"] + times)"
   ]
  },
  {
   "cell_type": "markdown",
   "metadata": {},
   "source": [
    "| Pros        | Cons           \n",
    "| ------------- |:-------------:|\n",
    "| Provee una solució rápida y eficiente para la encontrar subárboles |  |\n",
    "| | Ineficiente cuando se trarta de operaciones de modificación del árbol|\n"
   ]
  },
  {
   "cell_type": "code",
   "execution_count": 1,
   "metadata": {
    "collapsed": false
   },
   "outputs": [],
   "source": [
    "import seaborn\n",
    "import pandas as pd\n",
    "#\n",
    "#Only for test\n",
    "experiments = pd.DataFrame({'pattern': pd.Series(['Patron 1','Patron 2', 'Patron 3', 'Patron 4', 'Patron 5']), \n",
    "                           't1': pd.Series([5,4,5,6,4]),\n",
    "                           't2': pd.Series([15,4,5,6,4]),\n",
    "                           't3': pd.Series([5,24,5,6,4]),\n",
    "                           't4': pd.Series([5,4,35,64,4])})"
   ]
  },
  {
   "cell_type": "code",
   "execution_count": 24,
   "metadata": {
    "collapsed": false
   },
   "outputs": [],
   "source": [
    "results = pd.DataFrame(experiments)"
   ]
  },
  {
   "cell_type": "code",
   "execution_count": 31,
   "metadata": {
    "collapsed": false
   },
   "outputs": [],
   "source": [
    "results.to_pickle('results.pck')"
   ]
  },
  {
   "cell_type": "markdown",
   "metadata": {},
   "source": [
    "# AQUI"
   ]
  },
  {
   "cell_type": "code",
   "execution_count": 84,
   "metadata": {
    "collapsed": true
   },
   "outputs": [],
   "source": [
    "#import pandas as pd\n",
    "#import matplotlib.pyplot as plt\n",
    "#import seaborn\n",
    "%matplotlib inline"
   ]
  },
  {
   "cell_type": "code",
   "execution_count": 41,
   "metadata": {
    "collapsed": false
   },
   "outputs": [],
   "source": [
    "results = pd.read_pickle('results.pck')"
   ]
  },
  {
   "cell_type": "code",
   "execution_count": 42,
   "metadata": {
    "collapsed": false
   },
   "outputs": [],
   "source": [
    "results.columns = (\"Pattern\", 'Insert', 'Query', 'Index_creation', 'Query_index')"
   ]
  },
  {
   "cell_type": "code",
   "execution_count": 43,
   "metadata": {
    "collapsed": false
   },
   "outputs": [
    {
     "data": {
      "text/html": [
       "<div>\n",
       "<table border=\"1\" class=\"dataframe\">\n",
       "  <thead>\n",
       "    <tr style=\"text-align: right;\">\n",
       "      <th></th>\n",
       "      <th>Pattern</th>\n",
       "      <th>Insert</th>\n",
       "      <th>Query</th>\n",
       "      <th>Index_creation</th>\n",
       "      <th>Query_index</th>\n",
       "    </tr>\n",
       "  </thead>\n",
       "  <tbody>\n",
       "    <tr>\n",
       "      <th>0</th>\n",
       "      <td>Parent References</td>\n",
       "      <td>32.726743</td>\n",
       "      <td>0.100236</td>\n",
       "      <td>0.100369</td>\n",
       "      <td>0.100881</td>\n",
       "    </tr>\n",
       "    <tr>\n",
       "      <th>1</th>\n",
       "      <td>Child References</td>\n",
       "      <td>38.651602</td>\n",
       "      <td>0.101233</td>\n",
       "      <td>0.100354</td>\n",
       "      <td>0.100594</td>\n",
       "    </tr>\n",
       "    <tr>\n",
       "      <th>2</th>\n",
       "      <td>Array Ancestors</td>\n",
       "      <td>32.072196</td>\n",
       "      <td>0.099560</td>\n",
       "      <td>0.099695</td>\n",
       "      <td>0.100783</td>\n",
       "    </tr>\n",
       "    <tr>\n",
       "      <th>3</th>\n",
       "      <td>Materialized Paths</td>\n",
       "      <td>33.027615</td>\n",
       "      <td>0.102230</td>\n",
       "      <td>0.101880</td>\n",
       "      <td>0.102662</td>\n",
       "    </tr>\n",
       "    <tr>\n",
       "      <th>4</th>\n",
       "      <td>Nested Sets</td>\n",
       "      <td>32.675157</td>\n",
       "      <td>0.100048</td>\n",
       "      <td>0.100155</td>\n",
       "      <td>0.202063</td>\n",
       "    </tr>\n",
       "  </tbody>\n",
       "</table>\n",
       "</div>"
      ],
      "text/plain": [
       "              Pattern     Insert     Query  Index_creation  Query_index\n",
       "0   Parent References  32.726743  0.100236        0.100369     0.100881\n",
       "1    Child References  38.651602  0.101233        0.100354     0.100594\n",
       "2     Array Ancestors  32.072196  0.099560        0.099695     0.100783\n",
       "3  Materialized Paths  33.027615  0.102230        0.101880     0.102662\n",
       "4         Nested Sets  32.675157  0.100048        0.100155     0.202063"
      ]
     },
     "execution_count": 43,
     "metadata": {},
     "output_type": "execute_result"
    }
   ],
   "source": [
    "results"
   ]
  },
  {
   "cell_type": "code",
   "execution_count": 131,
   "metadata": {
    "collapsed": true
   },
   "outputs": [],
   "source": [
    "import seaborn as sea\n",
    "sea.set_style(\"darkgrid\")"
   ]
  },
  {
   "cell_type": "code",
   "execution_count": 137,
   "metadata": {
    "collapsed": false
   },
   "outputs": [
    {
     "data": {
      "text/plain": [
       "<matplotlib.legend.Legend at 0x7f37b27b57b8>"
      ]
     },
     "execution_count": 137,
     "metadata": {},
     "output_type": "execute_result"
    },
    {
     "data": {
      "image/png": "[encoded data removed]",
      "text/plain": [
       "<matplotlib.figure.Figure at 0x7f37b28989b0>"
      ]
     },
     "metadata": {},
     "output_type": "display_data"
    }
   ],
   "source": [
    "#sea.set_style(\"darkgrid\")\n",
    "#sea.distplot(results.Insertion)\n",
    "#plt.xticks(results.Pattern.tolist(), rotation='vertical')\n",
    "#plt.subplots_adjust(bottom=0.15)\n",
    "#ax=plt.gca()\n",
    "#ax.set_xticklabels(results.Pattern, rotation='vertical')\n",
    "g=plt.scatter([5,10,15,20,25], results.Insert)\n",
    "ax=plt.gca()\n",
    "ax.legend(results.Pattern, loc=0, scatterpoints=1)\n",
    "#plt.hist(results.Insert)"
   ]
  },
  {
   "cell_type": "code",
   "execution_count": 100,
   "metadata": {
    "collapsed": false
   },
   "outputs": [
    {
     "data": {
      "text/plain": [
       "array([ 32.72674261,  38.65160183,  32.07219619,  33.02761466,  32.67515733])"
      ]
     },
     "execution_count": 100,
     "metadata": {},
     "output_type": "execute_result"
    }
   ],
   "source": [
    "results.Insert.values"
   ]
  },
  {
   "cell_type": "code",
   "execution_count": 82,
   "metadata": {
    "collapsed": true
   },
   "outputs": [],
   "source": [
    "plt.hist?"
   ]
  },
  {
   "cell_type": "code",
   "execution_count": 79,
   "metadata": {
    "collapsed": false
   },
   "outputs": [
    {
     "data": {
      "text/plain": [
       "(array([ 1.,  1.,  1.,  0.,  0.,  0.,  1.,  0.,  0.,  1.]),\n",
       " array([ 0.09956007,  0.09982709,  0.10009412,  0.10036114,  0.10062817,\n",
       "         0.10089519,  0.10116222,  0.10142924,  0.10169627,  0.10196329,\n",
       "         0.10223032]),\n",
       " <a list of 10 Patch objects>)"
      ]
     },
     "execution_count": 79,
     "metadata": {},
     "output_type": "execute_result"
    },
    {
     "data": {
      "image/png": "[encoded data removed]",
      "text/plain": [
       "<matplotlib.figure.Figure at 0x7f37c31e8748>"
      ]
     },
     "metadata": {},
     "output_type": "display_data"
    }
   ],
   "source": [
    "plt.hist(results.Query)"
   ]
  },
  {
   "cell_type": "code",
   "execution_count": 44,
   "metadata": {
    "collapsed": false
   },
   "outputs": [
    {
     "data": {
      "image/png": "[encoded data removed]",
      "text/plain": [
       "<matplotlib.figure.Figure at 0x7ff54c323358>"
      ]
     },
     "metadata": {},
     "output_type": "display_data"
    }
   ],
   "source": [
    "sea.set_style(\"whitegrid\")\n",
    "#sea.distplot(results.Insert)\n",
    "g = sea.plt.plot(results.Query, results.Query_index, 'k-.')#, results.Insert, results.Index_creation, 'k--')\n",
    "#sea.jointplot(results.Query, results.Query_index)"
   ]
  },
  {
   "cell_type": "code",
   "execution_count": 59,
   "metadata": {
    "collapsed": true
   },
   "outputs": [],
   "source": [
    "plt.xticks??"
   ]
  }
 ],
 "metadata": {
  "kernelspec": {
   "display_name": "Python 3",
   "language": "python",
   "name": "python3"
  },
  "language_info": {
   "codemirror_mode": {
    "name": "ipython",
    "version": 3
   },
   "file_extension": ".py",
   "mimetype": "text/x-python",
   "name": "python",
   "nbconvert_exporter": "python",
   "pygments_lexer": "ipython3",
   "version": "3.4.3"
  }
 },
 "nbformat": 4,
 "nbformat_minor": 0
}
