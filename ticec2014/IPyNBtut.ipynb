{
 "metadata": {
  "celltoolbar": "Slideshow",
  "name": "",
  "signature": "sha256:e018a10cefd09c7c45bf2a08402e6a8cf7a5f2e1e5e77e6eb29cdfc449bafe8a"
 },
 "nbformat": 3,
 "nbformat_minor": 0,
 "worksheets": [
  {
   "cells": [
    {
     "cell_type": "markdown",
     "metadata": {
      "slideshow": {
       "slide_type": "slide"
      }
     },
     "source": [
      "<div style=\"background-image: url(images/cedia.jpg);\"> </div>\n",
      "# IPython Notebook: m\u00e1s que una consola en el navegador\n",
      "\n",
      "###Milton Labanda <- Loja\n",
      "###TIC_ec 2014 <- Universidad de Cuenca"
     ]
    },
    {
     "cell_type": "markdown",
     "metadata": {
      "slideshow": {
       "slide_type": "subslide"
      }
     },
     "source": [
      "<img src=\"images/cedia2.png\"> </img>"
     ]
    },
    {
     "cell_type": "markdown",
     "metadata": {
      "slideshow": {
       "slide_type": "slide"
      }
     },
     "source": [
      "**Requerimientos para el tutorial**:\n",
      "\n",
      "- Librerias Sistema:\n",
      " - pandoc\n",
      " - linuxdoc-tools-latex \n",
      " - texlive-full (para generacion correcta de pdfs)\n",
      "\n",
      "- Librerias Python:\n",
      " - ipython 2.0+\n",
      " - pandas\n",
      " - openpyxl\n",
      " - matplotlib\n",
      " - rpy2"
     ]
    },
    {
     "cell_type": "heading",
     "level": 2,
     "metadata": {
      "slideshow": {
       "slide_type": "slide"
      }
     },
     "source": [
      "Introducci\u00f3n a IPython"
     ]
    },
    {
     "cell_type": "markdown",
     "metadata": {
      "slideshow": {
       "slide_type": "subslide"
      }
     },
     "source": [
      "* M\u00e1s que int\u00e9rprete de comandos mejorado para python\n",
      "* Sistema de ayuda incluido \n",
      "* Exploraci\u00f3n de objetos (?)\n",
      "* Autocompletado de c\u00f3digo con la tecla Tab\n",
      "* Funciones m\u00e1gicas (%)\n",
      "* Historial de comandos y salidas\n",
      "* Llamadas a comandos del sistema (!)\n",
      "* Se puede ejecutar c\u00f3digo de otros lenguajes: *R, Octave, Cython, Bash, Perl, Ruby, etc.*"
     ]
    },
    {
     "cell_type": "markdown",
     "metadata": {
      "slideshow": {
       "slide_type": "slide"
      }
     },
     "source": [
      "## Que es el Notebook de IPython\n",
      " * **\"El paper ejecutable para los cient\u00edficos\"**\n",
      " * Un int\u00e9rprete interactivo avanzado que ha revolucionando la manera en que se utiliza Python en \u00e1mbitos *cient\u00edficos, conferencias y tutoriales*\n",
      " * Mucho ahorro de tiempo en escritura de c\u00f3digo y pruebas\n",
      " * Permite escribir en formato *Markdown, HTML, o texto puro (raw)*\n",
      " * Permite escribir en **LateX**\n",
      " * Permite incluir im\u00e1genes, links a archivos locales, videos, etc \n",
      " * Exporta hacia diferentes formatos tales como: PDF, RST, Latex, reveal.js, etc\n",
      " * Trabaja iniciando **servidor web** local y luego sirviendo p\u00e1ginas desde tal servidor: **Conozc\u00e1moslo entonces !!!** .... "
     ]
    },
    {
     "cell_type": "markdown",
     "metadata": {
      "slideshow": {
       "slide_type": "slide"
      }
     },
     "source": [
      "##Trabajar con el teclado en IPython Notebook"
     ]
    },
    {
     "cell_type": "markdown",
     "metadata": {
      "slideshow": {
       "slide_type": "subslide"
      }
     },
     "source": [
      "(Conjunto compatible de atajos de teclado)\n",
      "- Shift-Enter : run cell \n",
      "- Ctrl-Enter : run cell in-place \n",
      "- Alt-Enter : run cell, insert below \n",
      "- Ctrl-m x : cut cell \n",
      "- Ctrl-m c : copy cell \n",
      "- Ctrl-m v : paste cell \n",
      "- Ctrl-m d : delete cell \n",
      "- Ctrl-m z : undo last cell deletion \n",
      "- Ctrl-m - : split cell \n",
      "- Ctrl-m a : insert cell above \n",
      "- Ctrl-m b : insert cell below\n",
      "- Ctrl-m o : toggle \n",
      "- Ctrl-m O : toggle output scroll\n",
      "- Ctrl-m l : toggle line numbers\n",
      "- Ctrl-m s : save notebook\n",
      "- Ctrl-m j : move cell down\n",
      "- Ctrl-m k : move cell up\n",
      "- Ctrl-m y : code cell\n",
      "- Ctrl-m m : markdown cell\n",
      "- Ctrl-m t : raw cell\n",
      "- Ctrl-m 1-6 : heading 1-6 cell\n",
      "- Ctrl-m p : select previous\n",
      "- Ctrl-m n : select next\n",
      "- Ctrl-m i : interrupt kernel\n",
      "- Ctrl-m . : restart kernel\n",
      "- Ctrl-m h : show keyboard shortcuts"
     ]
    },
    {
     "cell_type": "markdown",
     "metadata": {
      "slideshow": {
       "slide_type": "slide"
      }
     },
     "source": [
      "##Formateando el texto en IPyNB"
     ]
    },
    {
     "cell_type": "raw",
     "metadata": {
      "slideshow": {
       "slide_type": "subslide"
      }
     },
     "source": [
      "Texto puro"
     ]
    },
    {
     "cell_type": "heading",
     "level": 2,
     "metadata": {
      "slideshow": {
       "slide_type": "subslide"
      }
     },
     "source": [
      "<u>Marckdown</u>"
     ]
    },
    {
     "cell_type": "markdown",
     "metadata": {
      "slideshow": {
       "slide_type": "subslide"
      }
     },
     "source": [
      "#Titulo 1\n",
      "##Titulo 2\n",
      "###Titulo 3\n",
      "Lista:\n",
      " - uno\n",
      " - dos\n",
      " - tres "
     ]
    },
    {
     "cell_type": "markdown",
     "metadata": {
      "slideshow": {
       "slide_type": "subslide"
      }
     },
     "source": [
      "####Tablas en Markdown\n",
      "|Caracter\u00edstica|Valor|\n",
      "|--------------|-----|\n",
      "|Sistema Operativo| Linux Mint|\n",
      "|Ram|4MG|\n",
      "|Disco|100GB|\n",
      "|Lenguaje de Programaci\u00f3n|Python|"
     ]
    },
    {
     "cell_type": "markdown",
     "metadata": {
      "slideshow": {
       "slide_type": "subslide"
      }
     },
     "source": [
      "####Formateando c\u00f3digo fuente en markdown \n",
      "Javascript\n",
      "```javascript\n",
      "    console.log('Hello world')\n",
      "```\n",
      "Java\n",
      "```java\n",
      "    public static void main(String [] args){\n",
      "        System.out.println(\"hola mundo\");\n",
      "    }\n",
      "```\n",
      "Python \n",
      "```python \n",
      "    def hello_ipython_notebook():\n",
      "        print \"Hello IPython Notebook\"   \n",
      "```\n",
      "R\n",
      "```r\n",
      "    df <- data.frame(x=c('a','e','i','o','u'), y=1:5)\n",
      "```"
     ]
    },
    {
     "cell_type": "heading",
     "level": 2,
     "metadata": {
      "slideshow": {
       "slide_type": "subslide"
      }
     },
     "source": [
      "<u>HTML</u>\n"
     ]
    },
    {
     "cell_type": "markdown",
     "metadata": {
      "slideshow": {
       "slide_type": "subslide"
      }
     },
     "source": [
      " <b> negrita </b> <br/> <i> cursiva </i> <br/> <u> subrayado </u>"
     ]
    },
    {
     "cell_type": "heading",
     "level": 1,
     "metadata": {
      "slideshow": {
       "slide_type": "subslide"
      }
     },
     "source": [
      "LATEX"
     ]
    },
    {
     "cell_type": "markdown",
     "metadata": {
      "slideshow": {
       "slide_type": "subslide"
      }
     },
     "source": [
      "$$ polinomio -> x^4 - 11x^3 + 9x^2 + 11x - 10 $$"
     ]
    },
    {
     "cell_type": "markdown",
     "metadata": {
      "slideshow": {
       "slide_type": "subslide"
      }
     },
     "source": [
      "$$ \\pi r^2 $$"
     ]
    },
    {
     "cell_type": "markdown",
     "metadata": {
      "slideshow": {
       "slide_type": "subslide"
      }
     },
     "source": [
      "$$ D_{KL}(P||Q)=\\sum\\limits_{i}ln(\\frac{P(i))}{Q(i)})P(i) $$"
     ]
    },
    {
     "cell_type": "heading",
     "level": 2,
     "metadata": {
      "slideshow": {
       "slide_type": "slide"
      }
     },
     "source": [
      "Comandos m\u00e1gicos de IPython Notebook"
     ]
    },
    {
     "cell_type": "code",
     "collapsed": false,
     "input": [
      "%lsmagic"
     ],
     "language": "python",
     "metadata": {
      "slideshow": {
       "slide_type": "subslide"
      }
     },
     "outputs": [
      {
       "json": [
        "{\"cell\": {\"prun\": \"ExecutionMagics\", \"file\": \"Other\", \"!\": \"OSMagics\", \"capture\": \"ExecutionMagics\", \"timeit\": \"ExecutionMagics\", \"script\": \"ScriptMagics\", \"pypy\": \"Other\", \"system\": \"OSMagics\", \"perl\": \"Other\", \"HTML\": \"Other\", \"bash\": \"Other\", \"python\": \"Other\", \"SVG\": \"Other\", \"javascript\": \"DisplayMagics\", \"writefile\": \"OSMagics\", \"ruby\": \"Other\", \"python3\": \"Other\", \"python2\": \"Other\", \"latex\": \"DisplayMagics\", \"sx\": \"OSMagics\", \"svg\": \"DisplayMagics\", \"html\": \"DisplayMagics\", \"sh\": \"Other\", \"time\": \"ExecutionMagics\", \"debug\": \"ExecutionMagics\"}, \"line\": {\"psource\": \"NamespaceMagics\", \"logstart\": \"LoggingMagics\", \"popd\": \"OSMagics\", \"loadpy\": \"CodeMagics\", \"install_ext\": \"ExtensionMagics\", \"colors\": \"BasicMagics\", \"who_ls\": \"NamespaceMagics\", \"lf\": \"Other\", \"install_profiles\": \"DeprecatedMagics\", \"ll\": \"Other\", \"pprint\": \"BasicMagics\", \"lk\": \"Other\", \"ls\": \"Other\", \"save\": \"CodeMagics\", \"tb\": \"ExecutionMagics\", \"lx\": \"Other\", \"pylab\": \"PylabMagics\", \"killbgscripts\": \"ScriptMagics\", \"quickref\": \"BasicMagics\", \"magic\": \"BasicMagics\", \"dhist\": \"OSMagics\", \"edit\": \"KernelMagics\", \"logstop\": \"LoggingMagics\", \"gui\": \"BasicMagics\", \"alias_magic\": \"BasicMagics\", \"debug\": \"ExecutionMagics\", \"page\": \"BasicMagics\", \"logstate\": \"LoggingMagics\", \"ed\": \"Other\", \"pushd\": \"OSMagics\", \"timeit\": \"ExecutionMagics\", \"rehashx\": \"OSMagics\", \"hist\": \"Other\", \"qtconsole\": \"KernelMagics\", \"rm\": \"Other\", \"dirs\": \"OSMagics\", \"run\": \"ExecutionMagics\", \"reset_selective\": \"NamespaceMagics\", \"rep\": \"Other\", \"pinfo2\": \"NamespaceMagics\", \"matplotlib\": \"PylabMagics\", \"unload_ext\": \"ExtensionMagics\", \"doctest_mode\": \"KernelMagics\", \"logoff\": \"LoggingMagics\", \"reload_ext\": \"ExtensionMagics\", \"pdb\": \"ExecutionMagics\", \"load\": \"CodeMagics\", \"lsmagic\": \"BasicMagics\", \"autosave\": \"KernelMagics\", \"cd\": \"OSMagics\", \"pastebin\": \"CodeMagics\", \"prun\": \"ExecutionMagics\", \"cp\": \"Other\", \"autocall\": \"AutoMagics\", \"bookmark\": \"OSMagics\", \"connect_info\": \"KernelMagics\", \"mkdir\": \"Other\", \"system\": \"OSMagics\", \"whos\": \"NamespaceMagics\", \"rmdir\": \"Other\", \"automagic\": \"AutoMagics\", \"store\": \"StoreMagics\", \"more\": \"KernelMagics\", \"pdef\": \"NamespaceMagics\", \"precision\": \"BasicMagics\", \"pinfo\": \"NamespaceMagics\", \"pwd\": \"OSMagics\", \"psearch\": \"NamespaceMagics\", \"reset\": \"NamespaceMagics\", \"recall\": \"HistoryMagics\", \"xdel\": \"NamespaceMagics\", \"xmode\": \"BasicMagics\", \"cat\": \"Other\", \"mv\": \"Other\", \"rerun\": \"HistoryMagics\", \"logon\": \"LoggingMagics\", \"history\": \"HistoryMagics\", \"pycat\": \"OSMagics\", \"unalias\": \"OSMagics\", \"install_default_config\": \"DeprecatedMagics\", \"env\": \"OSMagics\", \"load_ext\": \"ExtensionMagics\", \"config\": \"ConfigMagics\", \"profile\": \"BasicMagics\", \"pfile\": \"NamespaceMagics\", \"less\": \"KernelMagics\", \"who\": \"NamespaceMagics\", \"notebook\": \"BasicMagics\", \"man\": \"KernelMagics\", \"sx\": \"OSMagics\", \"macro\": \"ExecutionMagics\", \"clear\": \"KernelMagics\", \"alias\": \"OSMagics\", \"time\": \"ExecutionMagics\", \"sc\": \"OSMagics\", \"ldir\": \"Other\", \"pdoc\": \"NamespaceMagics\"}}"
       ],
       "metadata": {},
       "output_type": "pyout",
       "prompt_number": 2,
       "text": [
        "Available line magics:\n",
        "%alias  %alias_magic  %autocall  %automagic  %autosave  %bookmark  %cat  %cd  %clear  %colors  %config  %connect_info  %cp  %debug  %dhist  %dirs  %doctest_mode  %ed  %edit  %env  %gui  %hist  %history  %install_default_config  %install_ext  %install_profiles  %killbgscripts  %ldir  %less  %lf  %lk  %ll  %load  %load_ext  %loadpy  %logoff  %logon  %logstart  %logstate  %logstop  %ls  %lsmagic  %lx  %macro  %magic  %man  %matplotlib  %mkdir  %more  %mv  %notebook  %page  %pastebin  %pdb  %pdef  %pdoc  %pfile  %pinfo  %pinfo2  %popd  %pprint  %precision  %profile  %prun  %psearch  %psource  %pushd  %pwd  %pycat  %pylab  %qtconsole  %quickref  %recall  %rehashx  %reload_ext  %rep  %rerun  %reset  %reset_selective  %rm  %rmdir  %run  %save  %sc  %store  %sx  %system  %tb  %time  %timeit  %unalias  %unload_ext  %who  %who_ls  %whos  %xdel  %xmode\n",
        "\n",
        "Available cell magics:\n",
        "%%!  %%HTML  %%SVG  %%bash  %%capture  %%debug  %%file  %%html  %%javascript  %%latex  %%perl  %%prun  %%pypy  %%python  %%python2  %%python3  %%ruby  %%script  %%sh  %%svg  %%sx  %%system  %%time  %%timeit  %%writefile\n",
        "\n",
        "Automagic is ON, % prefix IS NOT needed for line magics."
       ]
      }
     ],
     "prompt_number": 2
    },
    {
     "cell_type": "code",
     "collapsed": false,
     "input": [
      "%%file /tmp/boo.txt\n",
      "esto es una prueba\n",
      "desde un ipynoote"
     ],
     "language": "python",
     "metadata": {
      "slideshow": {
       "slide_type": "subslide"
      }
     },
     "outputs": [
      {
       "output_type": "stream",
       "stream": "stdout",
       "text": [
        "Writing /tmp/boo.txt\n"
       ]
      }
     ],
     "prompt_number": 15
    },
    {
     "cell_type": "code",
     "collapsed": false,
     "input": [
      "%who_ls"
     ],
     "language": "python",
     "metadata": {
      "slideshow": {
       "slide_type": "subslide"
      }
     },
     "outputs": [
      {
       "metadata": {},
       "output_type": "pyout",
       "prompt_number": 36,
       "text": [
        "['math']"
       ]
      }
     ],
     "prompt_number": 36
    },
    {
     "cell_type": "code",
     "collapsed": false,
     "input": [
      "%matplotlib inline"
     ],
     "language": "python",
     "metadata": {
      "slideshow": {
       "slide_type": "subslide"
      }
     },
     "outputs": [],
     "prompt_number": 38
    },
    {
     "cell_type": "code",
     "collapsed": false,
     "input": [
      "%config InlineBackend.figure_format = 'png'"
     ],
     "language": "python",
     "metadata": {
      "slideshow": {
       "slide_type": "subslide"
      }
     },
     "outputs": []
    },
    {
     "cell_type": "heading",
     "level": 2,
     "metadata": {
      "slideshow": {
       "slide_type": "slide"
      }
     },
     "source": [
      "Interacci\u00f3n con el Sistema Operativo"
     ]
    },
    {
     "cell_type": "code",
     "collapsed": false,
     "input": [
      "%ls data"
     ],
     "language": "python",
     "metadata": {
      "slideshow": {
       "slide_type": "subslide"
      }
     },
     "outputs": [
      {
       "output_type": "stream",
       "stream": "stdout",
       "text": [
        "housing.csv  sgaunl.csv  sgaunl.xlsx\r\n"
       ]
      }
     ],
     "prompt_number": 24
    },
    {
     "cell_type": "code",
     "collapsed": false,
     "input": [
      "%pwd"
     ],
     "language": "python",
     "metadata": {
      "slideshow": {
       "slide_type": "subslide"
      }
     },
     "outputs": [
      {
       "metadata": {},
       "output_type": "pyout",
       "prompt_number": 37,
       "text": [
        "u'/home/miltonlab/Documentos/pyresearch/ticec2014'"
       ]
      }
     ],
     "prompt_number": 37
    },
    {
     "cell_type": "markdown",
     "metadata": {
      "slideshow": {
       "slide_type": "slide"
      }
     },
     "source": [
      "##Contenido hypermedia en IPython Notebook"
     ]
    },
    {
     "cell_type": "code",
     "collapsed": false,
     "input": [
      "#Mostrar im\u00e1genes\n",
      "from IPython.display import Image \n",
      "from IPython.display import display \n",
      "display(Image('images/rstudio.png', width=700, height=450))"
     ],
     "language": "python",
     "metadata": {
      "slideshow": {
       "slide_type": "subslide"
      }
     },
     "outputs": [
      {
       "metadata": {
        "png": {
         "height": 450,
         "width": 700
        }
       },
       "output_type": "display_data",
       "png": "[encoded data removed]",
       "text": [
        "<IPython.core.display.Image at 0x7fecfc04ac10>"
       ]
      }
     ],
     "prompt_number": 60
    },
    {
     "cell_type": "code",
     "collapsed": false,
     "input": [
      "#Videos embebidos de Youtube\n",
      "from IPython.display import YouTubeVideo\n",
      "YouTubeVideo('nRHBdkxVn48')"
     ],
     "language": "python",
     "metadata": {
      "slideshow": {
       "slide_type": "subslide"
      }
     },
     "outputs": [
      {
       "html": [
        "\n",
        "        <iframe\n",
        "            width=\"400\"\n",
        "            height=300\"\n",
        "            src=\"https://www.youtube.com/embed/nRHBdkxVn48\"\n",
        "            frameborder=\"0\"\n",
        "            allowfullscreen\n",
        "        ></iframe>\n",
        "        "
       ],
       "metadata": {},
       "output_type": "pyout",
       "prompt_number": 5,
       "text": [
        "<IPython.lib.display.YouTubeVideo at 0x7f2519f82710>"
       ]
      }
     ],
     "prompt_number": 5
    },
    {
     "cell_type": "code",
     "collapsed": false,
     "input": [
      "#Incrustar p\u00e1ginas HTML\n",
      "from IPython.display import HTML\n",
      "HTML('<iframe src=\"http://pycon.com.ar/pyconar2014/\" width=500 height=600>')"
     ],
     "language": "python",
     "metadata": {
      "slideshow": {
       "slide_type": "subslide"
      }
     },
     "outputs": [
      {
       "html": [
        "<iframe src=\"http://pycon.com.ar/pyconar2014/\" width=500 height=600>"
       ],
       "metadata": {},
       "output_type": "pyout",
       "prompt_number": 3,
       "text": [
        "<IPython.core.display.HTML at 0x7f202c156410>"
       ]
      }
     ],
     "prompt_number": 3
    },
    {
     "cell_type": "markdown",
     "metadata": {
      "slideshow": {
       "slide_type": "slide"
      }
     },
     "source": [
      "##Introducci\u00f3n al trabajo cient\u00edfico con Python"
     ]
    },
    {
     "cell_type": "code",
     "collapsed": false,
     "input": [
      "import numpy\n",
      "import matplotlib"
     ],
     "language": "python",
     "metadata": {
      "slideshow": {
       "slide_type": "subslide"
      }
     },
     "outputs": [],
     "prompt_number": 49
    },
    {
     "cell_type": "code",
     "collapsed": true,
     "input": [
      "a = numpy.array([[5,2,9,4],[1,8,8,9],[6,6,4,7],[3,5,6,2]])\n",
      "a\n",
      "# Seleccionar columna 2\n",
      "a[:,2]\n",
      "# Seleccionar fila 2\n",
      "a[2,:]\n",
      "# Selcci\u00f3n de un subarreglo\n",
      "a[0:2,1:3]\n",
      "# Selecci\u00f3n condicional\n",
      "numpy.where(a%2==0,a,0)\n",
      "a>5\n",
      "a*3\n",
      "# Determinante de un arreglo\n",
      "numpy.linalg.det(a)\n",
      "b = numpy.array([[5, 4, 2, 0], [9, 9, 6, 1], [3, 0, 5, 3], [8, 0, 6, 1]])\n",
      "b\n",
      "c = a * b\n",
      "c"
     ],
     "language": "python",
     "metadata": {
      "slideshow": {
       "slide_type": "subslide"
      }
     },
     "outputs": [
      {
       "metadata": {},
       "output_type": "pyout",
       "prompt_number": 43,
       "text": [
        "array([[25,  8, 18,  0],\n",
        "       [ 9, 72, 48,  9],\n",
        "       [18,  0, 20, 21],\n",
        "       [24,  0, 36,  2]])"
       ]
      }
     ],
     "prompt_number": 43
    },
    {
     "cell_type": "code",
     "collapsed": false,
     "input": [
      "x=numpy.arange(-20,20)\n",
      "matplotlib.pyplot.title('Area de la circunferencia')\n",
      "matplotlib.pyplot.xlabel('X')\n",
      "matplotlib.pyplot.ylabel('Y')\n",
      "matplotlib.pyplot.grid(True)\n",
      "# Latex\n",
      "matplotlib.pyplot.text(0,1000, r'$\\pi r^2$', fontsize=30)\n",
      "matplotlib.pyplot.plot(x, x*x*numpy.pi, 'm')\n",
      "#pyplot.show()"
     ],
     "language": "python",
     "metadata": {
      "slideshow": {
       "slide_type": "subslide"
      }
     },
     "outputs": [
      {
       "metadata": {},
       "output_type": "pyout",
       "prompt_number": 47,
       "text": [
        "[<matplotlib.lines.Line2D at 0x7fecfbf116d0>]"
       ]
      },
      {
       "metadata": {},
       "output_type": "display_data",
       "png": "[encoded data removed]",
       "text": [
        "<matplotlib.figure.Figure at 0x7fecfbf118d0>"
       ]
      }
     ],
     "prompt_number": 47
    },
    {
     "cell_type": "code",
     "collapsed": true,
     "input": [
      "# Graficos de Pastel\n",
      "distros = ['Mint', 'Ubuntu', 'Debian', 'Fedora', 'OpenSuSE', 'Arch',\n",
      "           'Centos', 'RedHat']\n",
      "# Datos seg\u00fan http://distrowatch.com la tercera semana de Mayo del 2014\n",
      "ranking = [3105, 2157, 1865, 1218, 1207, 1176, 743, 687]\n",
      "\n",
      "matplotlib.pyplot.pie(ranking, labels=distros, autopct='%.2f%%')"
     ],
     "language": "python",
     "metadata": {
      "slideshow": {
       "slide_type": "subslide"
      }
     },
     "outputs": [
      {
       "metadata": {},
       "output_type": "pyout",
       "prompt_number": 9,
       "text": [
        "([<matplotlib.patches.Wedge at 0x7fdedac4e210>,\n",
        "  <matplotlib.patches.Wedge at 0x7fdedac5b090>,\n",
        "  <matplotlib.patches.Wedge at 0x7fdedac5be50>,\n",
        "  <matplotlib.patches.Wedge at 0x7fdedac68c50>,\n",
        "  <matplotlib.patches.Wedge at 0x7fdedac73a50>,\n",
        "  <matplotlib.patches.Wedge at 0x7fdedac00850>,\n",
        "  <matplotlib.patches.Wedge at 0x7fdedac0a650>,\n",
        "  <matplotlib.patches.Wedge at 0x7fdedac18410>],\n",
        " [<matplotlib.text.Text at 0x7fdedac4e7d0>,\n",
        "  <matplotlib.text.Text at 0x7fdedac5b650>,\n",
        "  <matplotlib.text.Text at 0x7fdedac68450>,\n",
        "  <matplotlib.text.Text at 0x7fdedac73250>,\n",
        "  <matplotlib.text.Text at 0x7fdedac73f50>,\n",
        "  <matplotlib.text.Text at 0x7fdedac00e10>,\n",
        "  <matplotlib.text.Text at 0x7fdedac0abd0>,\n",
        "  <matplotlib.text.Text at 0x7fdedac189d0>],\n",
        " [<matplotlib.text.Text at 0x7fdedac4ec10>,\n",
        "  <matplotlib.text.Text at 0x7fdedac5ba10>,\n",
        "  <matplotlib.text.Text at 0x7fdedac68810>,\n",
        "  <matplotlib.text.Text at 0x7fdedac73610>,\n",
        "  <matplotlib.text.Text at 0x7fdedac00410>,\n",
        "  <matplotlib.text.Text at 0x7fdedac0a210>,\n",
        "  <matplotlib.text.Text at 0x7fdedac0af90>,\n",
        "  <matplotlib.text.Text at 0x7fdedac18d90>])"
       ]
      },
      {
       "metadata": {},
       "output_type": "display_data",
       "png": "[encoded data removed]",
       "text": [
        "<matplotlib.figure.Figure at 0x7fdedaef5a50>"
       ]
      }
     ],
     "prompt_number": 9
    },
    {
     "cell_type": "markdown",
     "metadata": {
      "slideshow": {
       "slide_type": "slide"
      }
     },
     "source": [
      "##An\u00e1lisis de Datos con Python desde IPyNotebook"
     ]
    },
    {
     "cell_type": "code",
     "collapsed": false,
     "input": [
      "import pandas\n",
      "# Datos de ingresos de extranjeros al ecuador primer cuatrimestre segp\u00fan:\n",
      "# http://servicios.turismo.gob.ec/images/estadisticas/Boletin-abril-2014-comprimido.pdf\n",
      "turismo = pandas.DataFrame({'Anio': [2010, 2011, 2012, 2013, 2014],\n",
      "                        'enero' : [96109, 105548, 127116, 130842, 152576],\n",
      "                        'febrero' : [89924, 86421, 99521, 103768, 124584],\n",
      "                        'marzo' : [82452, 87495, 96948, 113361, 114007],\n",
      "                        'abril' : [70540, 87507, 92627, 89669, 118614]\n",
      "                        })"
     ],
     "language": "python",
     "metadata": {
      "slideshow": {
       "slide_type": "subslide"
      }
     },
     "outputs": [],
     "prompt_number": 50
    },
    {
     "cell_type": "code",
     "collapsed": false,
     "input": [
      "turismo"
     ],
     "language": "python",
     "metadata": {
      "slideshow": {
       "slide_type": "subslide"
      }
     },
     "outputs": [
      {
       "html": [
        "<div style=\"max-height:1000px;max-width:1500px;overflow:auto;\">\n",
        "<table border=\"1\" class=\"dataframe\">\n",
        "  <thead>\n",
        "    <tr style=\"text-align: right;\">\n",
        "      <th></th>\n",
        "      <th>Anio</th>\n",
        "      <th>abril</th>\n",
        "      <th>enero</th>\n",
        "      <th>febrero</th>\n",
        "      <th>marzo</th>\n",
        "    </tr>\n",
        "  </thead>\n",
        "  <tbody>\n",
        "    <tr>\n",
        "      <th>0</th>\n",
        "      <td> 2010</td>\n",
        "      <td>  70540</td>\n",
        "      <td>  96109</td>\n",
        "      <td>  89924</td>\n",
        "      <td>  82452</td>\n",
        "    </tr>\n",
        "    <tr>\n",
        "      <th>1</th>\n",
        "      <td> 2011</td>\n",
        "      <td>  87507</td>\n",
        "      <td> 105548</td>\n",
        "      <td>  86421</td>\n",
        "      <td>  87495</td>\n",
        "    </tr>\n",
        "    <tr>\n",
        "      <th>2</th>\n",
        "      <td> 2012</td>\n",
        "      <td>  92627</td>\n",
        "      <td> 127116</td>\n",
        "      <td>  99521</td>\n",
        "      <td>  96948</td>\n",
        "    </tr>\n",
        "    <tr>\n",
        "      <th>3</th>\n",
        "      <td> 2013</td>\n",
        "      <td>  89669</td>\n",
        "      <td> 130842</td>\n",
        "      <td> 103768</td>\n",
        "      <td> 113361</td>\n",
        "    </tr>\n",
        "    <tr>\n",
        "      <th>4</th>\n",
        "      <td> 2014</td>\n",
        "      <td> 118614</td>\n",
        "      <td> 152576</td>\n",
        "      <td> 124584</td>\n",
        "      <td> 114007</td>\n",
        "    </tr>\n",
        "  </tbody>\n",
        "</table>\n",
        "</div>"
       ],
       "metadata": {},
       "output_type": "pyout",
       "prompt_number": 22,
       "text": [
        "   Anio   abril   enero  febrero   marzo\n",
        "0  2010   70540   96109    89924   82452\n",
        "1  2011   87507  105548    86421   87495\n",
        "2  2012   92627  127116    99521   96948\n",
        "3  2013   89669  130842   103768  113361\n",
        "4  2014  118614  152576   124584  114007"
       ]
      }
     ],
     "prompt_number": 22
    },
    {
     "cell_type": "code",
     "collapsed": false,
     "input": [
      "turismo.columns"
     ],
     "language": "python",
     "metadata": {
      "slideshow": {
       "slide_type": "subslide"
      }
     },
     "outputs": [
      {
       "metadata": {},
       "output_type": "pyout",
       "prompt_number": 23,
       "text": [
        "Index([u'Anio', u'abril', u'enero', u'febrero', u'marzo'], dtype='object')"
       ]
      }
     ],
     "prompt_number": 23
    },
    {
     "cell_type": "code",
     "collapsed": false,
     "input": [
      "turismo.describe()"
     ],
     "language": "python",
     "metadata": {
      "slideshow": {
       "slide_type": "subslide"
      }
     },
     "outputs": [
      {
       "html": [
        "<div style=\"max-height:1000px;max-width:1500px;overflow:auto;\">\n",
        "<table border=\"1\" class=\"dataframe\">\n",
        "  <thead>\n",
        "    <tr style=\"text-align: right;\">\n",
        "      <th></th>\n",
        "      <th>Anio</th>\n",
        "      <th>abril</th>\n",
        "      <th>enero</th>\n",
        "      <th>febrero</th>\n",
        "      <th>marzo</th>\n",
        "    </tr>\n",
        "  </thead>\n",
        "  <tbody>\n",
        "    <tr>\n",
        "      <th>count</th>\n",
        "      <td>    5.000000</td>\n",
        "      <td>      5.000000</td>\n",
        "      <td>      5.000000</td>\n",
        "      <td>      5.000000</td>\n",
        "      <td>      5.000000</td>\n",
        "    </tr>\n",
        "    <tr>\n",
        "      <th>mean</th>\n",
        "      <td> 2012.000000</td>\n",
        "      <td>  91791.400000</td>\n",
        "      <td> 122438.200000</td>\n",
        "      <td> 100843.600000</td>\n",
        "      <td>  98852.600000</td>\n",
        "    </tr>\n",
        "    <tr>\n",
        "      <th>std</th>\n",
        "      <td>    1.581139</td>\n",
        "      <td>  17281.729986</td>\n",
        "      <td>  22244.652643</td>\n",
        "      <td>  15009.638846</td>\n",
        "      <td>  14506.479321</td>\n",
        "    </tr>\n",
        "    <tr>\n",
        "      <th>min</th>\n",
        "      <td> 2010.000000</td>\n",
        "      <td>  70540.000000</td>\n",
        "      <td>  96109.000000</td>\n",
        "      <td>  86421.000000</td>\n",
        "      <td>  82452.000000</td>\n",
        "    </tr>\n",
        "    <tr>\n",
        "      <th>25%</th>\n",
        "      <td> 2011.000000</td>\n",
        "      <td>  87507.000000</td>\n",
        "      <td> 105548.000000</td>\n",
        "      <td>  89924.000000</td>\n",
        "      <td>  87495.000000</td>\n",
        "    </tr>\n",
        "    <tr>\n",
        "      <th>50%</th>\n",
        "      <td> 2012.000000</td>\n",
        "      <td>  89669.000000</td>\n",
        "      <td> 127116.000000</td>\n",
        "      <td>  99521.000000</td>\n",
        "      <td>  96948.000000</td>\n",
        "    </tr>\n",
        "    <tr>\n",
        "      <th>75%</th>\n",
        "      <td> 2013.000000</td>\n",
        "      <td>  92627.000000</td>\n",
        "      <td> 130842.000000</td>\n",
        "      <td> 103768.000000</td>\n",
        "      <td> 113361.000000</td>\n",
        "    </tr>\n",
        "    <tr>\n",
        "      <th>max</th>\n",
        "      <td> 2014.000000</td>\n",
        "      <td> 118614.000000</td>\n",
        "      <td> 152576.000000</td>\n",
        "      <td> 124584.000000</td>\n",
        "      <td> 114007.000000</td>\n",
        "    </tr>\n",
        "  </tbody>\n",
        "</table>\n",
        "</div>"
       ],
       "metadata": {},
       "output_type": "pyout",
       "prompt_number": 24,
       "text": [
        "              Anio          abril          enero        febrero          marzo\n",
        "count     5.000000       5.000000       5.000000       5.000000       5.000000\n",
        "mean   2012.000000   91791.400000  122438.200000  100843.600000   98852.600000\n",
        "std       1.581139   17281.729986   22244.652643   15009.638846   14506.479321\n",
        "min    2010.000000   70540.000000   96109.000000   86421.000000   82452.000000\n",
        "25%    2011.000000   87507.000000  105548.000000   89924.000000   87495.000000\n",
        "50%    2012.000000   89669.000000  127116.000000   99521.000000   96948.000000\n",
        "75%    2013.000000   92627.000000  130842.000000  103768.000000  113361.000000\n",
        "max    2014.000000  118614.000000  152576.000000  124584.000000  114007.000000"
       ]
      }
     ],
     "prompt_number": 24
    },
    {
     "cell_type": "code",
     "collapsed": false,
     "input": [
      "turismo['enero']"
     ],
     "language": "python",
     "metadata": {
      "slideshow": {
       "slide_type": "subslide"
      }
     },
     "outputs": [
      {
       "metadata": {},
       "output_type": "pyout",
       "prompt_number": 25,
       "text": [
        "0     96109\n",
        "1    105548\n",
        "2    127116\n",
        "3    130842\n",
        "4    152576\n",
        "Name: enero, dtype: int64"
       ]
      }
     ],
     "prompt_number": 25
    },
    {
     "cell_type": "code",
     "collapsed": false,
     "input": [
      "turismo[['enero', 'febrero']]"
     ],
     "language": "python",
     "metadata": {
      "slideshow": {
       "slide_type": "subslide"
      }
     },
     "outputs": [
      {
       "html": [
        "<div style=\"max-height:1000px;max-width:1500px;overflow:auto;\">\n",
        "<table border=\"1\" class=\"dataframe\">\n",
        "  <thead>\n",
        "    <tr style=\"text-align: right;\">\n",
        "      <th></th>\n",
        "      <th>enero</th>\n",
        "      <th>febrero</th>\n",
        "    </tr>\n",
        "  </thead>\n",
        "  <tbody>\n",
        "    <tr>\n",
        "      <th>0</th>\n",
        "      <td>  96109</td>\n",
        "      <td>  89924</td>\n",
        "    </tr>\n",
        "    <tr>\n",
        "      <th>1</th>\n",
        "      <td> 105548</td>\n",
        "      <td>  86421</td>\n",
        "    </tr>\n",
        "    <tr>\n",
        "      <th>2</th>\n",
        "      <td> 127116</td>\n",
        "      <td>  99521</td>\n",
        "    </tr>\n",
        "    <tr>\n",
        "      <th>3</th>\n",
        "      <td> 130842</td>\n",
        "      <td> 103768</td>\n",
        "    </tr>\n",
        "    <tr>\n",
        "      <th>4</th>\n",
        "      <td> 152576</td>\n",
        "      <td> 124584</td>\n",
        "    </tr>\n",
        "  </tbody>\n",
        "</table>\n",
        "</div>"
       ],
       "metadata": {},
       "output_type": "pyout",
       "prompt_number": 26,
       "text": [
        "    enero  febrero\n",
        "0   96109    89924\n",
        "1  105548    86421\n",
        "2  127116    99521\n",
        "3  130842   103768\n",
        "4  152576   124584"
       ]
      }
     ],
     "prompt_number": 26
    },
    {
     "cell_type": "code",
     "collapsed": false,
     "input": [
      "# Aquellos a\u00f1os que en enero tienen valores sobre la media\n",
      "turismo[turismo.enero > turismo.enero.mean()] [['Anio','enero']]"
     ],
     "language": "python",
     "metadata": {
      "slideshow": {
       "slide_type": "subslide"
      }
     },
     "outputs": [
      {
       "html": [
        "<div style=\"max-height:1000px;max-width:1500px;overflow:auto;\">\n",
        "<table border=\"1\" class=\"dataframe\">\n",
        "  <thead>\n",
        "    <tr style=\"text-align: right;\">\n",
        "      <th></th>\n",
        "      <th>Anio</th>\n",
        "      <th>enero</th>\n",
        "    </tr>\n",
        "  </thead>\n",
        "  <tbody>\n",
        "    <tr>\n",
        "      <th>2</th>\n",
        "      <td> 2012</td>\n",
        "      <td> 127116</td>\n",
        "    </tr>\n",
        "    <tr>\n",
        "      <th>3</th>\n",
        "      <td> 2013</td>\n",
        "      <td> 130842</td>\n",
        "    </tr>\n",
        "    <tr>\n",
        "      <th>4</th>\n",
        "      <td> 2014</td>\n",
        "      <td> 152576</td>\n",
        "    </tr>\n",
        "  </tbody>\n",
        "</table>\n",
        "</div>"
       ],
       "metadata": {},
       "output_type": "pyout",
       "prompt_number": 27,
       "text": [
        "   Anio   enero\n",
        "2  2012  127116\n",
        "3  2013  130842\n",
        "4  2014  152576"
       ]
      }
     ],
     "prompt_number": 27
    },
    {
     "cell_type": "code",
     "collapsed": false,
     "input": [
      "unl = pandas.read_csv('./data/sgaunl.csv')"
     ],
     "language": "python",
     "metadata": {
      "slideshow": {
       "slide_type": "subslide"
      }
     },
     "outputs": [],
     "prompt_number": 53
    },
    {
     "cell_type": "code",
     "collapsed": false,
     "input": [
      "unl"
     ],
     "language": "python",
     "metadata": {
      "slideshow": {
       "slide_type": "subslide"
      }
     },
     "outputs": [
      {
       "html": [
        "<div style=\"max-height:1000px;max-width:1500px;overflow:auto;\">\n",
        "<table border=\"1\" class=\"dataframe\">\n",
        "  <thead>\n",
        "    <tr style=\"text-align: right;\">\n",
        "      <th></th>\n",
        "      <th>Unnamed: 0</th>\n",
        "      <th>id</th>\n",
        "      <th>nombre</th>\n",
        "      <th>matriculados</th>\n",
        "      <th>aprobados</th>\n",
        "      <th>reprobados</th>\n",
        "    </tr>\n",
        "  </thead>\n",
        "  <tbody>\n",
        "    <tr>\n",
        "      <th>0 </th>\n",
        "      <td>  8</td>\n",
        "      <td> 25</td>\n",
        "      <td> Pregrado Septiembre 2008 - Febrero 2009</td>\n",
        "      <td> 12616</td>\n",
        "      <td> 10917</td>\n",
        "      <td> 1680</td>\n",
        "    </tr>\n",
        "    <tr>\n",
        "      <th>1 </th>\n",
        "      <td>  9</td>\n",
        "      <td> 26</td>\n",
        "      <td>        Pregrado Marzo 2009 - Julio 2009</td>\n",
        "      <td> 11723</td>\n",
        "      <td> 10012</td>\n",
        "      <td> 1668</td>\n",
        "    </tr>\n",
        "    <tr>\n",
        "      <th>2 </th>\n",
        "      <td> 10</td>\n",
        "      <td> 28</td>\n",
        "      <td> Pregrado Septiembre 2009 - Febrero 2010</td>\n",
        "      <td> 21545</td>\n",
        "      <td> 18563</td>\n",
        "      <td> 2863</td>\n",
        "    </tr>\n",
        "    <tr>\n",
        "      <th>3 </th>\n",
        "      <td>  4</td>\n",
        "      <td> 30</td>\n",
        "      <td>                     Admisiones Pregrado</td>\n",
        "      <td>     0</td>\n",
        "      <td>     0</td>\n",
        "      <td>    0</td>\n",
        "    </tr>\n",
        "    <tr>\n",
        "      <th>4 </th>\n",
        "      <td> 13</td>\n",
        "      <td> 34</td>\n",
        "      <td>        Pregrado Marzo 2010 - Julio 2010</td>\n",
        "      <td> 21810</td>\n",
        "      <td> 19413</td>\n",
        "      <td> 2152</td>\n",
        "    </tr>\n",
        "    <tr>\n",
        "      <th>5 </th>\n",
        "      <td> 11</td>\n",
        "      <td> 35</td>\n",
        "      <td>                Admisiones Pregrado 2010</td>\n",
        "      <td>     1</td>\n",
        "      <td>     1</td>\n",
        "      <td>    0</td>\n",
        "    </tr>\n",
        "    <tr>\n",
        "      <th>6 </th>\n",
        "      <td> 12</td>\n",
        "      <td> 36</td>\n",
        "      <td>   Pregrado Septiembre 2010 Febrero 2011</td>\n",
        "      <td> 21439</td>\n",
        "      <td> 18868</td>\n",
        "      <td> 2258</td>\n",
        "    </tr>\n",
        "    <tr>\n",
        "      <th>7 </th>\n",
        "      <td> 18</td>\n",
        "      <td> 42</td>\n",
        "      <td>       Pregrado Marzo 2011 - Julio 2011 </td>\n",
        "      <td> 18071</td>\n",
        "      <td> 16515</td>\n",
        "      <td> 1492</td>\n",
        "    </tr>\n",
        "    <tr>\n",
        "      <th>8 </th>\n",
        "      <td> 16</td>\n",
        "      <td> 43</td>\n",
        "      <td>                Admisiones Pregrado 2011</td>\n",
        "      <td>     0</td>\n",
        "      <td>     0</td>\n",
        "      <td>    0</td>\n",
        "    </tr>\n",
        "    <tr>\n",
        "      <th>9 </th>\n",
        "      <td> 35</td>\n",
        "      <td> 45</td>\n",
        "      <td>   Pregrado Septiembre 2011 Febrero 2012</td>\n",
        "      <td> 18011</td>\n",
        "      <td> 16121</td>\n",
        "      <td> 1721</td>\n",
        "    </tr>\n",
        "    <tr>\n",
        "      <th>10</th>\n",
        "      <td> 34</td>\n",
        "      <td> 65</td>\n",
        "      <td>          Pregrado Marzo 2012 Julio 2012</td>\n",
        "      <td> 16049</td>\n",
        "      <td> 14907</td>\n",
        "      <td>  923</td>\n",
        "    </tr>\n",
        "    <tr>\n",
        "      <th>11</th>\n",
        "      <td> 40</td>\n",
        "      <td> 68</td>\n",
        "      <td>   Pregrado Septiembre 2012 Febrero 2013</td>\n",
        "      <td> 12837</td>\n",
        "      <td> 11647</td>\n",
        "      <td>  984</td>\n",
        "    </tr>\n",
        "    <tr>\n",
        "      <th>12</th>\n",
        "      <td> 45</td>\n",
        "      <td> 74</td>\n",
        "      <td>          Pregrado Marzo 2013 Julio 2013</td>\n",
        "      <td> 11980</td>\n",
        "      <td> 11182</td>\n",
        "      <td>  722</td>\n",
        "    </tr>\n",
        "    <tr>\n",
        "      <th>13</th>\n",
        "      <td> 43</td>\n",
        "      <td> 77</td>\n",
        "      <td>   Pregrado Septiembre 2013 Febrero 2014</td>\n",
        "      <td>  9227</td>\n",
        "      <td>  8478</td>\n",
        "      <td>  749</td>\n",
        "    </tr>\n",
        "    <tr>\n",
        "      <th>14</th>\n",
        "      <td> 50</td>\n",
        "      <td> 81</td>\n",
        "      <td>               Pregrado Marzo-Julio 2014</td>\n",
        "      <td>  8347</td>\n",
        "      <td>     8</td>\n",
        "      <td>    0</td>\n",
        "    </tr>\n",
        "  </tbody>\n",
        "</table>\n",
        "</div>"
       ],
       "metadata": {},
       "output_type": "pyout",
       "prompt_number": 14,
       "text": [
        "    Unnamed: 0  id                                   nombre  matriculados  \\\n",
        "0            8  25  Pregrado Septiembre 2008 - Febrero 2009         12616   \n",
        "1            9  26         Pregrado Marzo 2009 - Julio 2009         11723   \n",
        "2           10  28  Pregrado Septiembre 2009 - Febrero 2010         21545   \n",
        "3            4  30                      Admisiones Pregrado             0   \n",
        "4           13  34         Pregrado Marzo 2010 - Julio 2010         21810   \n",
        "5           11  35                 Admisiones Pregrado 2010             1   \n",
        "6           12  36    Pregrado Septiembre 2010 Febrero 2011         21439   \n",
        "7           18  42        Pregrado Marzo 2011 - Julio 2011          18071   \n",
        "8           16  43                 Admisiones Pregrado 2011             0   \n",
        "9           35  45    Pregrado Septiembre 2011 Febrero 2012         18011   \n",
        "10          34  65           Pregrado Marzo 2012 Julio 2012         16049   \n",
        "11          40  68    Pregrado Septiembre 2012 Febrero 2013         12837   \n",
        "12          45  74           Pregrado Marzo 2013 Julio 2013         11980   \n",
        "13          43  77    Pregrado Septiembre 2013 Febrero 2014          9227   \n",
        "14          50  81                Pregrado Marzo-Julio 2014          8347   \n",
        "\n",
        "    aprobados  reprobados  \n",
        "0       10917        1680  \n",
        "1       10012        1668  \n",
        "2       18563        2863  \n",
        "3           0           0  \n",
        "4       19413        2152  \n",
        "5           1           0  \n",
        "6       18868        2258  \n",
        "7       16515        1492  \n",
        "8           0           0  \n",
        "9       16121        1721  \n",
        "10      14907         923  \n",
        "11      11647         984  \n",
        "12      11182         722  \n",
        "13       8478         749  \n",
        "14          8           0  "
       ]
      }
     ],
     "prompt_number": 14
    },
    {
     "cell_type": "code",
     "collapsed": false,
     "input": [
      "seccion = unl[['matriculados', 'aprobados', 'reprobados']]\n",
      "seccion.plot(x=unl.id, rot=30)"
     ],
     "language": "python",
     "metadata": {
      "slideshow": {
       "slide_type": "subslide"
      }
     },
     "outputs": [
      {
       "metadata": {},
       "output_type": "pyout",
       "prompt_number": 54,
       "text": [
        "<matplotlib.axes._subplots.AxesSubplot at 0x7fed04077f50>"
       ]
      },
      {
       "metadata": {},
       "output_type": "display_data",
       "png": "[encoded data removed]",
       "text": [
        "<matplotlib.figure.Figure at 0x7fed04077bd0>"
       ]
      }
     ],
     "prompt_number": 54
    },
    {
     "cell_type": "code",
     "collapsed": false,
     "input": [
      "unl.matriculados.plot(x_compat=True)"
     ],
     "language": "python",
     "metadata": {
      "slideshow": {
       "slide_type": "subslide"
      }
     },
     "outputs": [
      {
       "metadata": {},
       "output_type": "pyout",
       "prompt_number": 55,
       "text": [
        "<matplotlib.axes._subplots.AxesSubplot at 0x7fecfbd91990>"
       ]
      },
      {
       "metadata": {},
       "output_type": "display_data",
       "png": "[encoded data removed]",
       "text": [
        "<matplotlib.figure.Figure at 0x7fecfbf1edd0>"
       ]
      }
     ],
     "prompt_number": 55
    },
    {
     "cell_type": "code",
     "collapsed": false,
     "input": [
      "unl.to_excel('./data/sgaunl.xlsx')"
     ],
     "language": "python",
     "metadata": {
      "slideshow": {
       "slide_type": "subslide"
      }
     },
     "outputs": [],
     "prompt_number": 58
    },
    {
     "cell_type": "code",
     "collapsed": false,
     "input": [
      "# Consumo de datos en formato json desde el portal http://datosabiertos.ec/\n",
      "from urllib2 import urlopen\n",
      "urlagua = urlopen('http://www.datosabiertos.ec/storage/f/2013-10-25T06%3A52%3A19.508Z/ecuador-agua-consumos.json')\n",
      "dataagua = pandas.read_json((urlagua))\n",
      "dataagua.head(4)"
     ],
     "language": "python",
     "metadata": {
      "slideshow": {
       "slide_type": "subslide"
      }
     },
     "outputs": [
      {
       "html": [
        "<div style=\"max-height:1000px;max-width:1500px;overflow:auto;\">\n",
        "<table border=\"1\" class=\"dataframe\">\n",
        "  <thead>\n",
        "    <tr style=\"text-align: right;\">\n",
        "      <th></th>\n",
        "      <th>created_at</th>\n",
        "      <th>id</th>\n",
        "      <th>maximoAmazonia</th>\n",
        "      <th>maximoConsumo</th>\n",
        "      <th>maximoCosta</th>\n",
        "      <th>maximoSierra</th>\n",
        "      <th>mediaAmazonia</th>\n",
        "      <th>mediaConsumo</th>\n",
        "      <th>mediaCosta</th>\n",
        "      <th>mediaSierra</th>\n",
        "      <th>...</th>\n",
        "      <th>valorMediaAmazonia</th>\n",
        "      <th>valorMediaCosta</th>\n",
        "      <th>valorMediaSierra</th>\n",
        "      <th>valorMinimo</th>\n",
        "      <th>valorMinimoAmazonia</th>\n",
        "      <th>valorMinimoCosta</th>\n",
        "      <th>valorMinimoSierra</th>\n",
        "      <th>valorTotalAmazonia</th>\n",
        "      <th>valorTotalCosta</th>\n",
        "      <th>valorTotalSierra</th>\n",
        "    </tr>\n",
        "  </thead>\n",
        "  <tbody>\n",
        "    <tr>\n",
        "      <th>0</th>\n",
        "      <td>2013-10-25 06:45:20</td>\n",
        "      <td> 1</td>\n",
        "      <td> 999</td>\n",
        "      <td> 999</td>\n",
        "      <td> 999</td>\n",
        "      <td> 999</td>\n",
        "      <td> 100.42</td>\n",
        "      <td> 34.15</td>\n",
        "      <td> 32.61</td>\n",
        "      <td> 35.65</td>\n",
        "      <td>...</td>\n",
        "      <td> 10.71</td>\n",
        "      <td> 11.25</td>\n",
        "      <td> 11.38</td>\n",
        "      <td> 0.89</td>\n",
        "      <td> 1</td>\n",
        "      <td> 0.99</td>\n",
        "      <td> 0.89</td>\n",
        "      <td> 879.733</td>\n",
        "      <td> 11.907</td>\n",
        "      <td> 17.438</td>\n",
        "    </tr>\n",
        "  </tbody>\n",
        "</table>\n",
        "<p>1 rows \u00d7 34 columns</p>\n",
        "</div>"
       ],
       "metadata": {},
       "output_type": "pyout",
       "prompt_number": 33,
       "text": [
        "           created_at  id  maximoAmazonia  maximoConsumo  maximoCosta  \\\n",
        "0 2013-10-25 06:45:20   1             999            999          999   \n",
        "\n",
        "   maximoSierra  mediaAmazonia  mediaConsumo  mediaCosta  mediaSierra  \\\n",
        "0           999         100.42         34.15       32.61        35.65   \n",
        "\n",
        "      ...       valorMediaAmazonia  valorMediaCosta  valorMediaSierra  \\\n",
        "0     ...                    10.71            11.25             11.38   \n",
        "\n",
        "   valorMinimo  valorMinimoAmazonia  valorMinimoCosta  valorMinimoSierra  \\\n",
        "0         0.89                    1              0.99               0.89   \n",
        "\n",
        "   valorTotalAmazonia valorTotalCosta  valorTotalSierra  \n",
        "0             879.733          11.907            17.438  \n",
        "\n",
        "[1 rows x 34 columns]"
       ]
      }
     ],
     "prompt_number": 33
    },
    {
     "cell_type": "code",
     "collapsed": false,
     "input": [
      "len (dataagua.columns)"
     ],
     "language": "python",
     "metadata": {
      "slideshow": {
       "slide_type": "subslide"
      }
     },
     "outputs": [
      {
       "metadata": {},
       "output_type": "pyout",
       "prompt_number": 34,
       "text": [
        "34"
       ]
      }
     ],
     "prompt_number": 34
    },
    {
     "cell_type": "markdown",
     "metadata": {
      "slideshow": {
       "slide_type": "slide"
      }
     },
     "source": [
      "## Programando en \"R\" desde IPython Notebook"
     ]
    },
    {
     "cell_type": "code",
     "collapsed": false,
     "input": [
      "%load_ext rmagic"
     ],
     "language": "python",
     "metadata": {
      "slideshow": {
       "slide_type": "subslide"
      }
     },
     "outputs": [],
     "prompt_number": 4
    },
    {
     "cell_type": "code",
     "collapsed": false,
     "input": [
      "%%R\n",
      "setwd('.')\n",
      "fileUrl <- 'https://d396qusza40orc.cloudfront.net/getdata%2Fdata%2Fss06hid.csv'\n",
      "download.file(fileUrl, destfile='./data/housing.csv', method='curl')"
     ],
     "language": "python",
     "metadata": {
      "slideshow": {
       "slide_type": "subslide"
      }
     },
     "outputs": [],
     "prompt_number": 6
    },
    {
     "cell_type": "code",
     "collapsed": false,
     "input": [
      "%R list.files('./data')"
     ],
     "language": "python",
     "metadata": {
      "slideshow": {
       "slide_type": "subslide"
      }
     },
     "outputs": [
      {
       "metadata": {},
       "output_type": "pyout",
       "prompt_number": 8,
       "text": [
        "array(['housing.csv'], \n",
        "      dtype='|S11')"
       ]
      }
     ],
     "prompt_number": 8
    },
    {
     "cell_type": "code",
     "collapsed": true,
     "input": [
      "%%R\n",
      "house <- read.csv('./data/housing.csv')\n",
      "## For the state of Idaho how many properties are worth $1,000,000 or more?\n",
      "expensives <- subset(house, ST==16 & VAL==24)\n",
      "print (nrow((expensives)))\n",
      "print (ncol(expensives))"
     ],
     "language": "python",
     "metadata": {
      "slideshow": {
       "slide_type": "subslide"
      }
     },
     "outputs": [
      {
       "metadata": {},
       "output_type": "display_data",
       "text": [
        "[1] 53\n",
        "[1] 188\n"
       ]
      }
     ],
     "prompt_number": 44
    },
    {
     "cell_type": "heading",
     "level": 2,
     "metadata": {
      "slideshow": {
       "slide_type": "slide"
      }
     },
     "source": [
      "Widgets interactivos (sobresaliente en IPython 2.0+)"
     ]
    },
    {
     "cell_type": "code",
     "collapsed": false,
     "input": [
      "from IPython.html import widgets\n",
      "from IPython.display import display\n",
      "sld = widgets.FloatSliderWidget(\n",
      "    value=30, min=2, max=32, step=1, description='Test Float Widget'\n",
      ")\n",
      "chkb = widgets.CheckboxWidget(\n",
      "    value=True, description='Test Checkbox'\n",
      ")\n",
      "drpd = widgets.DropdownWidget(\n",
      "    values=[1,2,3,4,5,6], value=2, description='Test DropDown'\n",
      ")\n",
      "\n",
      "display(sld)\n",
      "display(chkb)\n",
      "display(drpd)\n"
     ],
     "language": "python",
     "metadata": {
      "slideshow": {
       "slide_type": "subslide"
      }
     },
     "outputs": [],
     "prompt_number": 1
    },
    {
     "cell_type": "code",
     "collapsed": false,
     "input": [
      "def conectar(val):\n",
      "    print val\n",
      "    return val\n",
      "w = widgets.interactive(conectar, val=widgets.FloatSliderWidget(\n",
      "    value=128.0, min=0, max=255.0, step=1.0))\n",
      "display(w)"
     ],
     "language": "python",
     "metadata": {
      "slideshow": {
       "slide_type": "subslide"
      }
     },
     "outputs": [
      {
       "output_type": "stream",
       "stream": "stdout",
       "text": [
        "128.0\n"
       ]
      }
     ],
     "prompt_number": 75
    },
    {
     "cell_type": "heading",
     "level": 1,
     "metadata": {
      "slideshow": {
       "slide_type": "slide"
      }
     },
     "source": [
      "Links interesantes"
     ]
    },
    {
     "cell_type": "markdown",
     "metadata": {},
     "source": [
      "- http://pyvideo.org/video/2798/ipython-revealjs-attacks-again-but-now-it-is [IPyNb with Reveal.js alive ]\n",
      "- http://nbviewer.ipython.org/gist/ellisonbg/3837783/TwitterNetworkX.ipynb [Analisis of twitter stream data]\n",
      "- http://nbviewer.ipython.org/github/NelisW/ComputationalRadiometry/blob/master/01-IPythonHintsAndTips.ipynb"
     ]
    }
   ],
   "metadata": {}
  }
 ]
}