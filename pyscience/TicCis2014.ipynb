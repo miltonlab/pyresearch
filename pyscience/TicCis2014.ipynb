{
 "metadata": {
  "name": "",
  "signature": "sha256:c57198d68dc4dc056a49480e5ad6eb475bf8bb6aef8e42e376811f9d6da99cfe"
 },
 "nbformat": 3,
 "nbformat_minor": 0,
 "worksheets": [
  {
   "cells": [
    {
     "cell_type": "markdown",
     "metadata": {},
     "source": [
      "# Python Cient\u00edfico"
     ]
    },
    {
     "cell_type": "markdown",
     "metadata": {},
     "source": [
      "## IPython Notebook:\n",
      " **\"El paper ejecutable para los cient\u00edficos\"**\n",
      " * Un int\u00e9rprete interactivo avanzado que ha revolucionando la manera en que se utiliza Python en \u00e1mbitos cient\u00edficos, conferencias y tutoriales**\n",
      " * Mucho m\u00e1s que un shell: autompletado, hitorial, ayuda en linea, salida al sistema, gesti\u00f3n de archivos ...\n",
      " * Mucho ahorro de tiempo en escritura de c\u00f3digo y pruebas\n",
      " * Se puede ejecutar c\u00f3digo de otros lenguajes: *R, Octave, Cython, Bash, Perl, Ruby, etc.*\n",
      " * Permite escribir en formato Markdown, HTML, o texto puro (raw)\n",
      " * Permite escribir en **LateX**\n",
      " * Permite incluir im\u00e1genes, links a archivos locales, videos, etc \n",
      " * Exporta hacia difentes formatos tales como: PDF, RST, Latex, reveal.js, etc"
     ]
    },
    {
     "cell_type": "markdown",
     "metadata": {},
     "source": [
      "## Numpy: \n",
      " **Estructuras base para los c\u00e1lculos** \n",
      " * Codigo parecido a notaci\u00f3n cient\u00edfica\n",
      " * C\u00f3digo pyth\u00f3nico y sin bucles\n",
      " * Muchas funciones matem\u00e1ticas aplicables a matrices de datos\n",
      " * Array SLICES (indexado) multidimensionales\n",
      " * Funciones propias de Arreglos: diagonal, transpose, where, unique, fill, etc.\n",
      " * Persistencia de arreglos en archivos de texto"
     ]
    },
    {
     "cell_type": "markdown",
     "metadata": {},
     "source": [
      "## Matplolib\n",
      " **Visualizacion de datos**\n",
      " * Una librer\u00eda para el trazo (dibujo) orientada a objetos\n",
      " * Trazado de diferetes estilos de gr\u00e1ficos: barras, pastel, histogramas, etc\n",
      " * Personalizaci\u00f3n en detalle del aspecto visual"
     ]
    },
    {
     "cell_type": "markdown",
     "metadata": {},
     "source": [
      "## SciPy\n",
      "**La librer\u00eda para computaci\u00f3n cient\u00edfica**\n",
      " * Colecci\u00f3n de herramientas y algoritmos matem\u00e1ticos\n",
      " * Resoluci\u00f3n de problemas de ingenier\u00eda y ciencias tales como optimizaci\u00f3n, integraci\u00f3n, procesamiento de se\u00f1ales e im\u00e1genes, etc\n",
      "\n",
      "** Conferencia anual de Python Cient\u00edfico **\n",
      "https://conference.scipy.org/scipy2014/"
     ]
    },
    {
     "cell_type": "markdown",
     "metadata": {},
     "source": [
      "## NumPy"
     ]
    },
    {
     "cell_type": "code",
     "collapsed": false,
     "input": [
      "a = np.array([[5,2,9,4],[1,8,8,9],[6,6,4,7],[3,5,6,2]])\n",
      "a"
     ],
     "language": "python",
     "metadata": {},
     "outputs": [
      {
       "metadata": {},
       "output_type": "pyout",
       "prompt_number": 260,
       "text": [
        "array([[5, 2, 9, 4],\n",
        "       [1, 8, 8, 9],\n",
        "       [6, 6, 4, 7],\n",
        "       [3, 5, 6, 2]])"
       ]
      }
     ],
     "prompt_number": 260
    },
    {
     "cell_type": "code",
     "collapsed": false,
     "input": [
      "# Seleccionar columna 2\n",
      "a[:,2]"
     ],
     "language": "python",
     "metadata": {},
     "outputs": [
      {
       "metadata": {},
       "output_type": "pyout",
       "prompt_number": 92,
       "text": [
        "array([9, 8, 4, 6])"
       ]
      }
     ],
     "prompt_number": 92
    },
    {
     "cell_type": "code",
     "collapsed": false,
     "input": [
      "# Seleccionar fila 2\n",
      "a[2,:]"
     ],
     "language": "python",
     "metadata": {},
     "outputs": [
      {
       "metadata": {},
       "output_type": "pyout",
       "prompt_number": 93,
       "text": [
        "array([6, 6, 4, 7])"
       ]
      }
     ],
     "prompt_number": 93
    },
    {
     "cell_type": "code",
     "collapsed": false,
     "input": [
      "# Selcci\u00f3n de un subarreglo\n",
      "a[0:2,1:3]"
     ],
     "language": "python",
     "metadata": {},
     "outputs": [
      {
       "metadata": {},
       "output_type": "pyout",
       "prompt_number": 94,
       "text": [
        "array([[2, 9],\n",
        "       [8, 8]])"
       ]
      }
     ],
     "prompt_number": 94
    },
    {
     "cell_type": "code",
     "collapsed": false,
     "input": [
      "# Selecci\u00f3n condicional\n",
      "np.where(a%2==0,a,0)"
     ],
     "language": "python",
     "metadata": {},
     "outputs": [
      {
       "metadata": {},
       "output_type": "pyout",
       "prompt_number": 125,
       "text": [
        "array([[0, 2, 0, 4],\n",
        "       [0, 8, 8, 0],\n",
        "       [6, 6, 4, 0],\n",
        "       [0, 0, 6, 2]])"
       ]
      }
     ],
     "prompt_number": 125
    },
    {
     "cell_type": "code",
     "collapsed": false,
     "input": [
      "a.flatten()"
     ],
     "language": "python",
     "metadata": {},
     "outputs": [
      {
       "metadata": {},
       "output_type": "pyout",
       "prompt_number": 174,
       "text": [
        "array([5, 2, 9, 4, 1, 8, 8, 9, 6, 6, 4, 7, 3, 5, 6, 2])"
       ]
      }
     ],
     "prompt_number": 174
    },
    {
     "cell_type": "code",
     "collapsed": false,
     "input": [
      "c=a.copy()\n",
      "c.sort(axis=1)\n",
      "c"
     ],
     "language": "python",
     "metadata": {},
     "outputs": [
      {
       "metadata": {},
       "output_type": "pyout",
       "prompt_number": 187,
       "text": [
        "array([[2, 4, 5, 9],\n",
        "       [1, 8, 8, 9],\n",
        "       [4, 6, 6, 7],\n",
        "       [2, 3, 5, 6]])"
       ]
      }
     ],
     "prompt_number": 187
    },
    {
     "cell_type": "code",
     "collapsed": false,
     "input": [
      "np.diag((5,4,3,5))"
     ],
     "language": "python",
     "metadata": {},
     "outputs": [
      {
       "metadata": {},
       "output_type": "pyout",
       "prompt_number": 261,
       "text": [
        "array([[5, 0, 0, 0],\n",
        "       [0, 4, 0, 0],\n",
        "       [0, 0, 3, 0],\n",
        "       [0, 0, 0, 5]])"
       ]
      }
     ],
     "prompt_number": 261
    },
    {
     "cell_type": "code",
     "collapsed": false,
     "input": [
      "np.identity((4))"
     ],
     "language": "python",
     "metadata": {},
     "outputs": [
      {
       "metadata": {},
       "output_type": "pyout",
       "prompt_number": 57,
       "text": [
        "array([[ 1.,  0.,  0.,  0.],\n",
        "       [ 0.,  1.,  0.,  0.],\n",
        "       [ 0.,  0.,  1.,  0.],\n",
        "       [ 0.,  0.,  0.,  1.]])"
       ]
      }
     ],
     "prompt_number": 57
    },
    {
     "cell_type": "markdown",
     "metadata": {},
     "source": [
      "** Funciones y trabajo con Arreglos **"
     ]
    },
    {
     "cell_type": "code",
     "collapsed": false,
     "input": [
      "a>5"
     ],
     "language": "python",
     "metadata": {},
     "outputs": [
      {
       "metadata": {},
       "output_type": "pyout",
       "prompt_number": 111,
       "text": [
        "array([[False, False,  True, False],\n",
        "       [False,  True,  True,  True],\n",
        "       [ True,  True, False,  True],\n",
        "       [False, False,  True, False]], dtype=bool)"
       ]
      }
     ],
     "prompt_number": 111
    },
    {
     "cell_type": "code",
     "collapsed": false,
     "input": [
      "a*3"
     ],
     "language": "python",
     "metadata": {},
     "outputs": [
      {
       "metadata": {},
       "output_type": "pyout",
       "prompt_number": 117,
       "text": [
        "array([[15,  6, 27, 12],\n",
        "       [ 3, 24, 24, 27],\n",
        "       [18, 18, 12, 21],\n",
        "       [ 9, 15, 18,  6]])"
       ]
      }
     ],
     "prompt_number": 117
    },
    {
     "cell_type": "code",
     "collapsed": false,
     "input": [
      "a/2"
     ],
     "language": "python",
     "metadata": {},
     "outputs": [
      {
       "metadata": {},
       "output_type": "pyout",
       "prompt_number": 118,
       "text": [
        "array([[2, 1, 4, 2],\n",
        "       [0, 4, 4, 4],\n",
        "       [3, 3, 2, 3],\n",
        "       [1, 2, 3, 1]])"
       ]
      }
     ],
     "prompt_number": 118
    },
    {
     "cell_type": "code",
     "collapsed": false,
     "input": [
      "np.sum(a), np.sum(a,0), np.sum(a,1)"
     ],
     "language": "python",
     "metadata": {},
     "outputs": [
      {
       "metadata": {},
       "output_type": "pyout",
       "prompt_number": 193,
       "text": [
        "(85, array([15, 21, 27, 22]), array([20, 26, 23, 16]))"
       ]
      }
     ],
     "prompt_number": 193
    },
    {
     "cell_type": "code",
     "collapsed": false,
     "input": [
      "a.mean(), np.median(a), a.std(), a.var()"
     ],
     "language": "python",
     "metadata": {},
     "outputs": [
      {
       "metadata": {},
       "output_type": "pyout",
       "prompt_number": 256,
       "text": [
        "(5.3125, 5.5, 2.4423029603224902, 5.96484375)"
       ]
      }
     ],
     "prompt_number": 256
    },
    {
     "cell_type": "code",
     "collapsed": false,
     "input": [
      "a.max(), a.max(0), a.max(1)"
     ],
     "language": "python",
     "metadata": {},
     "outputs": [
      {
       "metadata": {},
       "output_type": "pyout",
       "prompt_number": 195,
       "text": [
        "(9, array([6, 8, 9, 9]), array([9, 9, 7, 6]))"
       ]
      }
     ],
     "prompt_number": 195
    },
    {
     "cell_type": "markdown",
     "metadata": {},
     "source": [
      "** Algebra Lineal **"
     ]
    },
    {
     "cell_type": "code",
     "collapsed": false,
     "input": [
      "a"
     ],
     "language": "python",
     "metadata": {},
     "outputs": [
      {
       "metadata": {},
       "output_type": "pyout",
       "prompt_number": 163,
       "text": [
        "array([[5, 2, 9, 4],\n",
        "       [1, 8, 8, 9],\n",
        "       [6, 6, 4, 7],\n",
        "       [3, 5, 6, 2]])"
       ]
      }
     ],
     "prompt_number": 163
    },
    {
     "cell_type": "code",
     "collapsed": false,
     "input": [
      "# Matriz triangular superior e inferior\n",
      "np.tril(a)"
     ],
     "language": "python",
     "metadata": {},
     "outputs": [
      {
       "metadata": {},
       "output_type": "pyout",
       "prompt_number": 155,
       "text": [
        "array([[5, 0, 0, 0],\n",
        "       [1, 8, 0, 0],\n",
        "       [6, 6, 4, 0],\n",
        "       [3, 5, 6, 2]])"
       ]
      }
     ],
     "prompt_number": 155
    },
    {
     "cell_type": "code",
     "collapsed": false,
     "input": [
      "np.triu(a)"
     ],
     "language": "python",
     "metadata": {},
     "outputs": [
      {
       "metadata": {},
       "output_type": "pyout",
       "prompt_number": 162,
       "text": [
        "array([[5, 2, 9, 4],\n",
        "       [0, 8, 8, 9],\n",
        "       [0, 0, 4, 7],\n",
        "       [0, 0, 0, 2]])"
       ]
      }
     ],
     "prompt_number": 162
    },
    {
     "cell_type": "code",
     "collapsed": false,
     "input": [
      "np.linalg.inv(a)"
     ],
     "language": "python",
     "metadata": {},
     "outputs": [
      {
       "metadata": {},
       "output_type": "pyout",
       "prompt_number": 160,
       "text": [
        "array([[ 0.0372093 , -0.13488372,  0.14418605,  0.02790698],\n",
        "       [-0.16877076,  0.00465116,  0.02458472,  0.23056478],\n",
        "       [ 0.10431894,  0.03255814, -0.11362126,  0.04252492],\n",
        "       [ 0.05315615,  0.09302326,  0.06312292, -0.24584718]])"
       ]
      }
     ],
     "prompt_number": 160
    },
    {
     "cell_type": "code",
     "collapsed": false,
     "input": [
      "np.linalg.matrix_power(a,2)"
     ],
     "language": "python",
     "metadata": {},
     "outputs": [
      {
       "metadata": {},
       "output_type": "pyout",
       "prompt_number": 158,
       "text": [
        "array([[ 93, 100, 121, 109],\n",
        "       [ 88, 159, 159, 150],\n",
        "       [ 81, 119, 160, 120],\n",
        "       [ 62,  92, 103, 103]])"
       ]
      }
     ],
     "prompt_number": 158
    },
    {
     "cell_type": "code",
     "collapsed": false,
     "input": [
      "# El arreglo debe ser cuadrado\n",
      "np.linalg.det(a)"
     ],
     "language": "python",
     "metadata": {},
     "outputs": [
      {
       "metadata": {},
       "output_type": "pyout",
       "prompt_number": 98,
       "text": [
        "1504.9999999999998"
       ]
      }
     ],
     "prompt_number": 98
    },
    {
     "cell_type": "code",
     "collapsed": false,
     "input": [
      "a.transpose()"
     ],
     "language": "python",
     "metadata": {},
     "outputs": [
      {
       "metadata": {},
       "output_type": "pyout",
       "prompt_number": 126,
       "text": [
        "array([[5, 1, 6, 3],\n",
        "       [2, 8, 6, 5],\n",
        "       [9, 8, 4, 6],\n",
        "       [4, 9, 7, 2]])"
       ]
      }
     ],
     "prompt_number": 126
    },
    {
     "cell_type": "code",
     "collapsed": false,
     "input": [
      "np.identity(3)"
     ],
     "language": "python",
     "metadata": {},
     "outputs": [
      {
       "metadata": {},
       "output_type": "pyout",
       "prompt_number": 167,
       "text": [
        "array([[ 1.,  0.,  0.],\n",
        "       [ 0.,  1.,  0.],\n",
        "       [ 0.,  0.,  1.]])"
       ]
      }
     ],
     "prompt_number": 167
    },
    {
     "cell_type": "markdown",
     "metadata": {},
     "source": [
      "** Operaciones con matrices **"
     ]
    },
    {
     "cell_type": "code",
     "collapsed": false,
     "input": [
      "np.matrix"
     ],
     "language": "python",
     "metadata": {},
     "outputs": []
    },
    {
     "cell_type": "code",
     "collapsed": false,
     "input": [
      "#b=np.random.randint(10,size=[3,4])\n",
      "#b"
     ],
     "language": "python",
     "metadata": {},
     "outputs": [
      {
       "metadata": {},
       "output_type": "pyout",
       "prompt_number": 65,
       "text": [
        "array([[5, 4, 2, 0],\n",
        "       [9, 9, 6, 1],\n",
        "       [3, 0, 5, 3]])"
       ]
      }
     ],
     "prompt_number": 65
    },
    {
     "cell_type": "code",
     "collapsed": false,
     "input": [
      "b = np.array([[5, 4, 2, 0], [9, 9, 6, 1], [3, 0, 5, 3], [8, 0, 6, 1]])"
     ],
     "language": "python",
     "metadata": {},
     "outputs": [],
     "prompt_number": 128
    },
    {
     "cell_type": "code",
     "collapsed": false,
     "input": [
      "np.vdot(a,b)"
     ],
     "language": "python",
     "metadata": {},
     "outputs": [
      {
       "metadata": {},
       "output_type": "pyout",
       "prompt_number": 130,
       "text": [
        "310"
       ]
      }
     ],
     "prompt_number": 130
    },
    {
     "cell_type": "code",
     "collapsed": false,
     "input": [
      "a>b"
     ],
     "language": "python",
     "metadata": {},
     "outputs": [
      {
       "metadata": {},
       "output_type": "pyout",
       "prompt_number": 188,
       "text": [
        "array([[False, False,  True,  True],\n",
        "       [False, False,  True,  True],\n",
        "       [ True,  True, False,  True],\n",
        "       [False,  True, False,  True]], dtype=bool)"
       ]
      }
     ],
     "prompt_number": 188
    },
    {
     "cell_type": "code",
     "collapsed": false,
     "input": [
      "a.dot(b)"
     ],
     "language": "python",
     "metadata": {},
     "outputs": [
      {
       "metadata": {},
       "output_type": "pyout",
       "prompt_number": 133,
       "text": [
        "array([[102,  38,  91,  33],\n",
        "       [173,  76, 144,  41],\n",
        "       [152,  78, 110,  25],\n",
        "       [ 94,  57,  78,  25]])"
       ]
      }
     ],
     "prompt_number": 133
    },
    {
     "cell_type": "code",
     "collapsed": false,
     "input": [
      "a * b"
     ],
     "language": "python",
     "metadata": {},
     "outputs": [
      {
       "metadata": {},
       "output_type": "pyout",
       "prompt_number": 131,
       "text": [
        "array([[25,  8, 18,  0],\n",
        "       [ 9, 72, 48,  9],\n",
        "       [18,  0, 20, 21],\n",
        "       [24,  0, 36,  2]])"
       ]
      }
     ],
     "prompt_number": 131
    },
    {
     "cell_type": "code",
     "collapsed": false,
     "input": [
      "np.concatenate((a,b))"
     ],
     "language": "python",
     "metadata": {},
     "outputs": [
      {
       "metadata": {},
       "output_type": "pyout",
       "prompt_number": 166,
       "text": [
        "array([[5, 2, 9, 4],\n",
        "       [1, 8, 8, 9],\n",
        "       [6, 6, 4, 7],\n",
        "       [3, 5, 6, 2],\n",
        "       [5, 4, 2, 0],\n",
        "       [9, 9, 6, 1],\n",
        "       [3, 0, 5, 3],\n",
        "       [8, 0, 6, 1]])"
       ]
      }
     ],
     "prompt_number": 166
    },
    {
     "cell_type": "markdown",
     "metadata": {},
     "source": [
      "** Utilitarios **"
     ]
    },
    {
     "cell_type": "code",
     "collapsed": false,
     "input": [
      "a.tolist()"
     ],
     "language": "python",
     "metadata": {},
     "outputs": [
      {
       "metadata": {},
       "output_type": "pyout",
       "prompt_number": 143,
       "text": [
        "[[5, 2, 9, 4], [1, 8, 8, 9], [6, 6, 4, 7], [3, 5, 6, 2]]"
       ]
      }
     ],
     "prompt_number": 143
    },
    {
     "cell_type": "code",
     "collapsed": false,
     "input": [
      "a.tostring()"
     ],
     "language": "python",
     "metadata": {},
     "outputs": [
      {
       "metadata": {},
       "output_type": "pyout",
       "prompt_number": 144,
       "text": [
        "'\\x05\\x00\\x00\\x00\\x02\\x00\\x00\\x00\\t\\x00\\x00\\x00\\x04\\x00\\x00\\x00\\x01\\x00\\x00\\x00\\x08\\x00\\x00\\x00\\x08\\x00\\x00\\x00\\t\\x00\\x00\\x00\\x06\\x00\\x00\\x00\\x06\\x00\\x00\\x00\\x04\\x00\\x00\\x00\\x07\\x00\\x00\\x00\\x03\\x00\\x00\\x00\\x05\\x00\\x00\\x00\\x06\\x00\\x00\\x00\\x02\\x00\\x00\\x00'"
       ]
      }
     ],
     "prompt_number": 144
    },
    {
     "cell_type": "code",
     "collapsed": false,
     "input": [
      "a.tofile('/tmp/arreglo.txt')"
     ],
     "language": "python",
     "metadata": {},
     "outputs": [],
     "prompt_number": 146
    },
    {
     "cell_type": "markdown",
     "metadata": {},
     "source": [
      "** Polinomios **"
     ]
    },
    {
     "cell_type": "code",
     "collapsed": false,
     "input": [
      "# Visualizando LATEX en IPython Notebook"
     ],
     "language": "python",
     "metadata": {},
     "outputs": []
    },
    {
     "cell_type": "raw",
     "metadata": {},
     "source": [
      "polinomio -> x^4 - 11x^3 + 9x^2 + 11x - 10"
     ]
    },
    {
     "cell_type": "markdown",
     "metadata": {},
     "source": [
      "$$ polinomio -> x^4 - 11x^3 + 9x^2 + 11x - 10 $$"
     ]
    },
    {
     "cell_type": "code",
     "collapsed": false,
     "input": [
      "# Coeficientes de Polinomios de menor a mayor\n",
      "p=np.polynomial.Polynomial([-10,11,9,-11,1])"
     ],
     "language": "python",
     "metadata": {},
     "outputs": [],
     "prompt_number": 138
    },
    {
     "cell_type": "code",
     "collapsed": false,
     "input": [
      "p.roots() #raices del polinomio"
     ],
     "language": "python",
     "metadata": {},
     "outputs": [
      {
       "metadata": {},
       "output_type": "pyout",
       "prompt_number": 139,
       "text": [
        "array([ -1.        ,   0.99999998,   1.00000002,  10.        ])"
       ]
      }
     ],
     "prompt_number": 139
    },
    {
     "cell_type": "code",
     "collapsed": false,
     "input": [
      "# Obtencion de los coeficientes a partir de las raices\n",
      "np.poly([ -1,1,1,10])"
     ],
     "language": "python",
     "metadata": {},
     "outputs": [
      {
       "metadata": {},
       "output_type": "pyout",
       "prompt_number": 197,
       "text": [
        "array([  1, -11,   9,  11, -10])"
       ]
      }
     ],
     "prompt_number": 197
    },
    {
     "cell_type": "code",
     "collapsed": false,
     "input": [
      "# Ejemplo 2 de polinomio \n",
      "ecuacion2=np.polynomial.Polynomial([-8,2,1])"
     ],
     "language": "python",
     "metadata": {},
     "outputs": [],
     "prompt_number": 146
    },
    {
     "cell_type": "code",
     "collapsed": false,
     "input": [
      "ecuacion2.roots()"
     ],
     "language": "python",
     "metadata": {},
     "outputs": [
      {
       "metadata": {},
       "output_type": "pyout",
       "prompt_number": 145,
       "text": [
        "array([-4.,  2.])"
       ]
      }
     ],
     "prompt_number": 145
    },
    {
     "cell_type": "code",
     "collapsed": false,
     "input": [
      "# Evalucion de un polinomio en un punto particular\n",
      "# las fuciones numpy.poly* reciben los coeficientes de mayor a menor\n",
      "np.polyval([1,2,-8], 4)"
     ],
     "language": "python",
     "metadata": {},
     "outputs": [
      {
       "metadata": {},
       "output_type": "pyout",
       "prompt_number": 152,
       "text": [
        "16"
       ]
      }
     ],
     "prompt_number": 152
    },
    {
     "cell_type": "markdown",
     "metadata": {},
     "source": [
      "** Estad\u00edstica **"
     ]
    },
    {
     "cell_type": "code",
     "collapsed": false,
     "input": [
      "# Coeficiente de Correlacion, Covarianza, "
     ],
     "language": "python",
     "metadata": {},
     "outputs": [],
     "prompt_number": 199
    },
    {
     "cell_type": "code",
     "collapsed": false,
     "input": [
      "np.random.poisson(3), np.random.normal(3)"
     ],
     "language": "python",
     "metadata": {},
     "outputs": [
      {
       "metadata": {},
       "output_type": "pyout",
       "prompt_number": 209,
       "text": [
        "(5, 3.439064087501168)"
       ]
      }
     ],
     "prompt_number": 209
    },
    {
     "cell_type": "markdown",
     "metadata": {},
     "source": [
      "## Matplolib"
     ]
    },
    {
     "cell_type": "code",
     "collapsed": false,
     "input": [
      "import numpy as np\n",
      "from matplotlib import pyplot \n",
      "%matplotlib inline"
     ],
     "language": "python",
     "metadata": {},
     "outputs": [],
     "prompt_number": 236
    },
    {
     "cell_type": "code",
     "collapsed": false,
     "input": [
      "pyplot.axis([0, 6, 0, 20])\n",
      "pyplot.plot([1,2,3,4], [1,4,9,16], 'r-')\n",
      "#pyplot.show()"
     ],
     "language": "python",
     "metadata": {},
     "outputs": [
      {
       "metadata": {},
       "output_type": "pyout",
       "prompt_number": 238,
       "text": [
        "[<matplotlib.lines.Line2D at 0xae51eac>]"
       ]
      },
      {
       "metadata": {},
       "output_type": "display_data",
       "png": "[encoded data removed]",
       "text": [
        "<matplotlib.figure.Figure at 0xae515cc>"
       ]
      }
     ],
     "prompt_number": 238
    },
    {
     "cell_type": "code",
     "collapsed": false,
     "input": [
      "# Modificando el aspecto\n",
      "x=np.arange(-20,20)\n",
      "pyplot.title('Area de la circunferencia')\n",
      "# Latex\n",
      "pyplot.text(0,1000, r'$\\pi r^2$', fontsize=30)\n",
      "pyplot.plot(x, x*x*np.pi, 'm')\n",
      "#pyplot.show()"
     ],
     "language": "python",
     "metadata": {},
     "outputs": [
      {
       "metadata": {},
       "output_type": "pyout",
       "prompt_number": 241,
       "text": [
        "[<matplotlib.lines.Line2D at 0xb44572c>]"
       ]
      },
      {
       "metadata": {},
       "output_type": "display_data",
       "png": "[encoded data removed]",
       "text": [
        "<matplotlib.figure.Figure at 0xb2bc3ec>"
       ]
      }
     ],
     "prompt_number": 241
    },
    {
     "cell_type": "code",
     "collapsed": false,
     "input": [
      "# Graficos de Pastel\n",
      "distros = ['Mint', 'Ubuntu', 'Debian', 'Fedora', 'OpenSuSE', 'Arch',\n",
      "           'Centos', 'RedHat']\n",
      "ranking = [3105, 2157, 1865, 1218, 1207, 1176, 743, 687]\n",
      "\n",
      "pyplot.pie(ranking, labels=distros, autopct='%.2f%%')\n",
      "#pyplot.show()"
     ],
     "language": "python",
     "metadata": {},
     "outputs": [
      {
       "metadata": {},
       "output_type": "pyout",
       "prompt_number": 242,
       "text": [
        "([<matplotlib.patches.Wedge at 0xb7dcacc>,\n",
        "  <matplotlib.patches.Wedge at 0xb7dcf2c>,\n",
        "  <matplotlib.patches.Wedge at 0xb7c734c>,\n",
        "  <matplotlib.patches.Wedge at 0xb7c774c>,\n",
        "  <matplotlib.patches.Wedge at 0xb7c7b4c>,\n",
        "  <matplotlib.patches.Wedge at 0xb7c7f4c>,\n",
        "  <matplotlib.patches.Wedge at 0xb7c336c>,\n",
        "  <matplotlib.patches.Wedge at 0xb7c376c>],\n",
        " [<matplotlib.text.Text at 0xb7dce0c>,\n",
        "  <matplotlib.text.Text at 0xb7c726c>,\n",
        "  <matplotlib.text.Text at 0xb7c766c>,\n",
        "  <matplotlib.text.Text at 0xb7c7a6c>,\n",
        "  <matplotlib.text.Text at 0xb7c7e6c>,\n",
        "  <matplotlib.text.Text at 0xb7c328c>,\n",
        "  <matplotlib.text.Text at 0xb7c368c>,\n",
        "  <matplotlib.text.Text at 0xb7c3a8c>],\n",
        " [<matplotlib.text.Text at 0xb7dceec>,\n",
        "  <matplotlib.text.Text at 0xb7dce6c>,\n",
        "  <matplotlib.text.Text at 0xb7dceac>,\n",
        "  <matplotlib.text.Text at 0xb7c76cc>,\n",
        "  <matplotlib.text.Text at 0xb7c7acc>,\n",
        "  <matplotlib.text.Text at 0xb7c7ecc>,\n",
        "  <matplotlib.text.Text at 0xb7c7f0c>,\n",
        "  <matplotlib.text.Text at 0xb7c36ec>])"
       ]
      },
      {
       "metadata": {},
       "output_type": "display_data",
       "png": "[encoded data removed]",
       "text": [
        "<matplotlib.figure.Figure at 0xb2aae0c>"
       ]
      }
     ],
     "prompt_number": 242
    },
    {
     "cell_type": "code",
     "collapsed": false,
     "input": [
      "x=np.random.randn(100000)\n",
      "pyplot.hist(x, facecolor='m', bins=20)\n",
      "pyplot.grid(True)\n",
      "pyplot.title('Ejemplo de Histograma')"
     ],
     "language": "python",
     "metadata": {},
     "outputs": [
      {
       "metadata": {},
       "output_type": "pyout",
       "prompt_number": 243,
       "text": [
        "<matplotlib.text.Text at 0xb5cd7ec>"
       ]
      },
      {
       "metadata": {},
       "output_type": "display_data",
       "png": "[encoded data removed]",
       "text": [
        "<matplotlib.figure.Figure at 0xb712a2c>"
       ]
      }
     ],
     "prompt_number": 243
    },
    {
     "cell_type": "markdown",
     "metadata": {},
     "source": [
      "## SciPY"
     ]
    },
    {
     "cell_type": "code",
     "collapsed": false,
     "input": [
      "import scipy\n",
      "import scipy.optimize"
     ],
     "language": "python",
     "metadata": {},
     "outputs": [],
     "prompt_number": 212
    },
    {
     "cell_type": "markdown",
     "metadata": {},
     "source": [
      "Ej. Encontrar las ra\u00edces de la ecuaci\u00f3n no lineal: $$ x + 2 cos(x) = 0 $$"
     ]
    },
    {
     "cell_type": "code",
     "collapsed": false,
     "input": [
      "def f(x):\n",
      "    return x + 2 * scipy.cos(x)"
     ],
     "language": "python",
     "metadata": {},
     "outputs": [],
     "prompt_number": 20
    },
    {
     "cell_type": "code",
     "collapsed": false,
     "input": [
      "scipy.optimize.bisect(f, -2, 2)"
     ],
     "language": "python",
     "metadata": {},
     "outputs": [
      {
       "metadata": {},
       "output_type": "pyout",
       "prompt_number": 21,
       "text": [
        "-1.0298665293221347"
       ]
      }
     ],
     "prompt_number": 21
    },
    {
     "cell_type": "code",
     "collapsed": false,
     "input": [
      "scipy.optimize.newton(f, 2)"
     ],
     "language": "python",
     "metadata": {},
     "outputs": [
      {
       "metadata": {},
       "output_type": "pyout",
       "prompt_number": 22,
       "text": [
        "-1.0298665293222757"
       ]
      }
     ],
     "prompt_number": 22
    },
    {
     "cell_type": "markdown",
     "metadata": {},
     "source": [
      "Integrar una funci\u00f3n de una varialbe entre dos puntos "
     ]
    },
    {
     "cell_type": "markdown",
     "metadata": {},
     "source": [
      "Ej.: Resolver la ecuaci\u00f3n $$A=\\int_0^2 x^2 dx$$"
     ]
    },
    {
     "cell_type": "code",
     "collapsed": false,
     "input": [
      "import scipy.integrate"
     ],
     "language": "python",
     "metadata": {},
     "outputs": [],
     "prompt_number": 244
    },
    {
     "cell_type": "code",
     "collapsed": false,
     "input": [
      "def f(x):\n",
      "    y = x * x\n",
      "    return y"
     ],
     "language": "python",
     "metadata": {},
     "outputs": [],
     "prompt_number": 245
    },
    {
     "cell_type": "code",
     "collapsed": false,
     "input": [
      "result, error = scipy.integrate.quad(f,0,2.0)"
     ],
     "language": "python",
     "metadata": {},
     "outputs": [],
     "prompt_number": 246
    },
    {
     "cell_type": "code",
     "collapsed": false,
     "input": [
      "result, error"
     ],
     "language": "python",
     "metadata": {},
     "outputs": [
      {
       "metadata": {},
       "output_type": "pyout",
       "prompt_number": 247,
       "text": [
        "(2.6666666666666665, 2.9605947323337504e-14)"
       ]
      }
     ],
     "prompt_number": 247
    },
    {
     "cell_type": "markdown",
     "metadata": {},
     "source": [
      "Resolver la ecuaci\u00f3n linear ordinaria: $$ \\frac{dx}{dt} = -x$$ con la condici\u00f3n inicial $$ x(0) = 2$$"
     ]
    },
    {
     "cell_type": "code",
     "collapsed": false,
     "input": [
      "def dx_dt(x, t=0):\n",
      "    y = -x\n",
      "    return y"
     ],
     "language": "python",
     "metadata": {},
     "outputs": [],
     "prompt_number": 248
    },
    {
     "cell_type": "code",
     "collapsed": false,
     "input": [
      "t = scipy.linspace(0,5,1000)\n",
      "x0 = 2\n",
      "x = scipy.integrate.odeint(dx_dt, x0, t)"
     ],
     "language": "python",
     "metadata": {},
     "outputs": [],
     "prompt_number": 249
    },
    {
     "cell_type": "code",
     "collapsed": false,
     "input": [
      "import matplotlib; import matplotlib.pyplot as pyplot"
     ],
     "language": "python",
     "metadata": {},
     "outputs": [],
     "prompt_number": 250
    },
    {
     "cell_type": "code",
     "collapsed": false,
     "input": [
      "pyplot.plot(t,x)"
     ],
     "language": "python",
     "metadata": {},
     "outputs": [
      {
       "metadata": {},
       "output_type": "pyout",
       "prompt_number": 251,
       "text": [
        "[<matplotlib.lines.Line2D at 0xb916dcc>]"
       ]
      },
      {
       "metadata": {},
       "output_type": "display_data",
       "png": "[encoded data removed]",
       "text": [
        "<matplotlib.figure.Figure at 0xb41f8cc>"
       ]
      }
     ],
     "prompt_number": 251
    },
    {
     "cell_type": "code",
     "collapsed": false,
     "input": [],
     "language": "python",
     "metadata": {},
     "outputs": []
    }
   ],
   "metadata": {}
  }
 ]
}