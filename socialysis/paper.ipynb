{
 "cells": [
  {
   "cell_type": "markdown",
   "metadata": {},
   "source": [
    "###Lenguajes seleccionados: Java, Python, C#, C++"
   ]
  },
  {
   "cell_type": "code",
   "execution_count": 37,
   "metadata": {
    "collapsed": false
   },
   "outputs": [
    {
     "name": "stdout",
     "output_type": "stream",
     "text": [
      "1598\n",
      "355\n",
      "812\n",
      "23\n"
     ]
    }
   ],
   "source": [
    "# -*- coding: utf-8 -*-\n",
    "\n",
    "#lectura de datos \n",
    "\n",
    "import json\n",
    "dataset_path = \"dataset-230415-11.56.txt\"\n",
    "data = []\n",
    "f = open(dataset_path, \"r\")\n",
    "for line in f:\n",
    "\ttry:\n",
    "\t\ttweet = json.loads(line)\n",
    "\t\tdata.append(tweet)\n",
    "\texcept Exception as ex:\n",
    "\t\t#print(\"Error :\", ex)\n",
    "\t\tcontinue\n",
    "print(len(data))\n",
    "f.close()\n",
    "import pandas as pd\n",
    "tweets = pd.DataFrame()\n",
    "tweets['text'] = [t['text'] for t in data]\n",
    "#TODO: change lang by language at new reload\n",
    "tweets['language'] = [t['lang'] for t in data]\n",
    "tweets['country'] = [t['place']['country'] if t['place'] else None for t in data]\n",
    "\n",
    "# function to search keyword programming languag in text\n",
    "import re\n",
    "def word_in_text(word, text):\n",
    "    word = word.lower()\n",
    "    text = text.lower()\n",
    "    match = re.search(word+\" \", text)\n",
    "    if match:\n",
    "        return True\n",
    "    return False\n",
    "\n",
    "# En la columna text de nuestro DataFrame buscamos las ocurrencias de cada palabra a analizar \n",
    "# ... Incluir posible grafico\n",
    "#TODO: #java #python #javascript\n",
    "tweets['python'] = tweets['text'].apply(lambda tweet: word_in_text('python', tweet))\n",
    "tweets['java'] = tweets['text'].apply(lambda tweet: word_in_text('java', tweet))\n",
    "tweets['javascript'] = tweets['text'].apply(lambda tweet: word_in_text('javascript', tweet))\n",
    "\n",
    "# Contabilizando \n",
    "print (tweets['python'].value_counts()[True])\n",
    "print (tweets['java'].value_counts()[True])\n",
    "print (tweets['javascript'].value_counts()[True])\n",
    "\n",
    "tweets_by_prg_lang_count1 = (tweets['python'].value_counts()[True], tweets['java'].value_counts()[True], tweets['javascript'].value_counts()[True])\n",
    "prg_langs = ('python', 'java', 'javascript')\n",
    "x = list(range(len(prg_langs)))"
   ]
  },
  {
   "cell_type": "code",
   "execution_count": 29,
   "metadata": {
    "collapsed": false,
    "scrolled": true
   },
   "outputs": [
    {
     "data": {
      "image/png": "[encoded data removed]",
      "text/plain": [
       "<matplotlib.figure.Figure at 0x7ff2ca96ea58>"
      ]
     },
     "metadata": {},
     "output_type": "display_data"
    }
   ],
   "source": [
    "# Plotting\n",
    "#import matplotlib.pyplot as plt\n",
    "%matplotlib inline\n",
    "#revisar \n",
    "import matplotlib.pyplot as plt\n",
    "fig, axis =  plt.subplots()\n",
    "plt.bar(x, tweets_by_prg_lang_count1, 0.8, alpha=1, color='g')\n",
    "\n",
    "axis.set_ylabel('Numero de tweets', fontsize=15)\n",
    "axis.set_title('Ranking: python vs. java vs javascript (Raw data)')\n",
    "axis.set_xticks([p + 0.4 * 0.8 for p in x])\n",
    "axis.set_xticklabels(prg_langs)\n",
    "plt.grid()"
   ]
  },
  {
   "cell_type": "markdown",
   "metadata": {
    "collapsed": true
   },
   "source": [
    "Ahora vamos a focalizarnos en tweets  que tengan que ver más con lenguajes de programación en sí, seleccionando por ejemplo aquellos tweets que contengan las palabras clave: \"programming\" o \"programacion\" teniendo cuidado además de las tildes"
   ]
  },
  {
   "cell_type": "code",
   "execution_count": 38,
   "metadata": {
    "collapsed": true
   },
   "outputs": [],
   "source": [
    "tweets[\"programming\"] = tweets['text'].apply(lambda t: word_in_text('programming',t))\n",
    "tweets[\"programación\"] = tweets['text'].apply(lambda t: word_in_text('programación',t))\n",
    "tweets[\"programacion\"] = tweets['text'].apply(lambda t: word_in_text('programacion',t))\n",
    "tweets[\"relevante\"] = tweets['text'].apply(lambda t: word_in_text('programming',t) \n",
    "                                            or word_in_text('programación',t)\n",
    "                                            or word_in_text('programacion',t))"
   ]
  },
  {
   "cell_type": "code",
   "execution_count": 44,
   "metadata": {
    "collapsed": false
   },
   "outputs": [
    {
     "data": {
      "text/html": [
       "<div style=\"max-height:1000px;max-width:1500px;overflow:auto;\">\n",
       "<table border=\"1\" class=\"dataframe\">\n",
       "  <thead>\n",
       "    <tr style=\"text-align: right;\">\n",
       "      <th></th>\n",
       "      <th>text</th>\n",
       "      <th>lang</th>\n",
       "      <th>country</th>\n",
       "      <th>python</th>\n",
       "      <th>java</th>\n",
       "      <th>javascript</th>\n",
       "      <th>programming</th>\n",
       "      <th>programación</th>\n",
       "      <th>programacion</th>\n",
       "      <th>relevante</th>\n",
       "    </tr>\n",
       "  </thead>\n",
       "  <tbody>\n",
       "    <tr>\n",
       "      <th>26</th>\n",
       "      <td>Developing Scalable Apps in #Python\\nwith #Goo...</td>\n",
       "      <td>en</td>\n",
       "      <td>None</td>\n",
       "      <td>False</td>\n",
       "      <td>False</td>\n",
       "      <td>False</td>\n",
       "      <td>True</td>\n",
       "      <td>False</td>\n",
       "      <td>False</td>\n",
       "      <td>True</td>\n",
       "    </tr>\n",
       "    <tr>\n",
       "      <th>66</th>\n",
       "      <td>RT @devbattles: How I Learned to Stop Worrying...</td>\n",
       "      <td>en</td>\n",
       "      <td>None</td>\n",
       "      <td>True</td>\n",
       "      <td>False</td>\n",
       "      <td>False</td>\n",
       "      <td>True</td>\n",
       "      <td>False</td>\n",
       "      <td>False</td>\n",
       "      <td>True</td>\n",
       "    </tr>\n",
       "    <tr>\n",
       "      <th>110</th>\n",
       "      <td>RT @imissyouoa: #linux Qt Creator 3.4 Brings C...</td>\n",
       "      <td>en</td>\n",
       "      <td>None</td>\n",
       "      <td>False</td>\n",
       "      <td>False</td>\n",
       "      <td>False</td>\n",
       "      <td>True</td>\n",
       "      <td>False</td>\n",
       "      <td>False</td>\n",
       "      <td>True</td>\n",
       "    </tr>\n",
       "    <tr>\n",
       "      <th>149</th>\n",
       "      <td>Deal! Learn for $49 Only: Step By Step Java Pr...</td>\n",
       "      <td>en</td>\n",
       "      <td>None</td>\n",
       "      <td>False</td>\n",
       "      <td>True</td>\n",
       "      <td>False</td>\n",
       "      <td>True</td>\n",
       "      <td>False</td>\n",
       "      <td>False</td>\n",
       "      <td>True</td>\n",
       "    </tr>\n",
       "    <tr>\n",
       "      <th>179</th>\n",
       "      <td>@_ruunyan I WAS TALKING ABOUT THE PROGRAMMING ...</td>\n",
       "      <td>en</td>\n",
       "      <td>None</td>\n",
       "      <td>True</td>\n",
       "      <td>False</td>\n",
       "      <td>False</td>\n",
       "      <td>True</td>\n",
       "      <td>False</td>\n",
       "      <td>False</td>\n",
       "      <td>True</td>\n",
       "    </tr>\n",
       "  </tbody>\n",
       "</table>\n",
       "</div>"
      ],
      "text/plain": [
       "                                                  text lang country python  \\\n",
       "26   Developing Scalable Apps in #Python\\nwith #Goo...   en    None  False   \n",
       "66   RT @devbattles: How I Learned to Stop Worrying...   en    None   True   \n",
       "110  RT @imissyouoa: #linux Qt Creator 3.4 Brings C...   en    None  False   \n",
       "149  Deal! Learn for $49 Only: Step By Step Java Pr...   en    None  False   \n",
       "179  @_ruunyan I WAS TALKING ABOUT THE PROGRAMMING ...   en    None   True   \n",
       "\n",
       "      java javascript programming programación programacion relevante  \n",
       "26   False      False        True        False        False      True  \n",
       "66   False      False        True        False        False      True  \n",
       "110  False      False        True        False        False      True  \n",
       "149   True      False        True        False        False      True  \n",
       "179  False      False        True        False        False      True  "
      ]
     },
     "execution_count": 44,
     "metadata": {},
     "output_type": "execute_result"
    }
   ],
   "source": [
    "#Nos quedamos solo con los tweets relevantes\n",
    "tweets = tweets[tweets[\"relevante\"] == True]\n",
    "tweets[:5]"
   ]
  },
  {
   "cell_type": "code",
   "execution_count": 4,
   "metadata": {
    "collapsed": false
   },
   "outputs": [],
   "source": [
    "#x = tweets[(tweets['programming']==True) | (tweets['programación']==True) | (tweets['programacion']==True)]"
   ]
  },
  {
   "cell_type": "markdown",
   "metadata": {},
   "source": [
    "Ahora podemos observar que la cantidad de tweets relevantes, relacionados con temas de programación,\n",
    "entre java y python difieren únicamente en uno"
   ]
  },
  {
   "cell_type": "code",
   "execution_count": 42,
   "metadata": {
    "collapsed": false
   },
   "outputs": [
    {
     "name": "stdout",
     "output_type": "stream",
     "text": [
      "10\n",
      "11\n",
      "1\n"
     ]
    }
   ],
   "source": [
    "###print (tweets[tweets['relevante'] == True]['python'].value_counts()[True])\n",
    "###print (tweets[tweets['relevante'] == True]['java'].value_counts()[True])\n",
    "###print (tweets[tweets['relevante'] == True]['javascript'].value_counts()[True])\n",
    "print (tweets['python'].value_counts()[True])\n",
    "print (tweets['java'].value_counts()[True])\n",
    "print (tweets['javascript'].value_counts()[True])"
   ]
  },
  {
   "cell_type": "code",
   "execution_count": 63,
   "metadata": {
    "collapsed": false
   },
   "outputs": [],
   "source": [
    "# No incluir en el paper, solo por ajustes con la data del inico\n",
    "### tweets.rename(columns={'lang' : 'language'}, inplace=True)"
   ]
  },
  {
   "cell_type": "code",
   "execution_count": 25,
   "metadata": {
    "collapsed": false
   },
   "outputs": [
    {
     "data": {
      "image/png": "[encoded data removed]",
      "text/plain": [
       "<matplotlib.figure.Figure at 0x7ff2e411e2b0>"
      ]
     },
     "metadata": {},
     "output_type": "display_data"
    }
   ],
   "source": [
    "tweets_by_prg_lang_count = [tweets[tweets['relevante'] == True]['python'].value_counts()[True], \n",
    "                      tweets[tweets['relevante'] == True]['java'].value_counts()[True], \n",
    "                      tweets[tweets['relevante'] == True]['javascript'].value_counts()[True]]\n",
    "x_pos = list(range(len(prg_langs)))\n",
    "width = 0.8\n",
    "fig, ax = plt.subplots()\n",
    "plt.bar(x_pos, tweets_by_prg_lang_count, width,alpha=1,color='g')\n",
    "ax.set_ylabel('Number of tweets', fontsize=15)\n",
    "ax.set_title('Ranking: python vs. javascript vs. ruby (Relevant data)', fontsize=10, fontweight='bold')\n",
    "ax.set_xticks([p + 0.4 * width for p in x_pos])\n",
    "ax.set_xticklabels(prg_langs)\n",
    "plt.grid()"
   ]
  },
  {
   "cell_type": "code",
   "execution_count": 26,
   "metadata": {
    "collapsed": false
   },
   "outputs": [
    {
     "data": {
      "text/plain": [
       "[10, 11, 1]"
      ]
     },
     "execution_count": 26,
     "metadata": {},
     "output_type": "execute_result"
    }
   ],
   "source": [
    "tweets_by_prg_lang_count[:10]"
   ]
  },
  {
   "cell_type": "code",
   "execution_count": 7,
   "metadata": {
    "collapsed": false
   },
   "outputs": [],
   "source": [
    "#TODO: tweets['programming'==True or 'programacion'==True]\n",
    "#tweets['programming'].value_counts()[True]\n",
    "#tweets['programming'].value_counts().get(True,0)\n",
    "# Se necesita prevenir el caso en el que no existan datos para las palabras clave buscadas\n",
    "#tweets['programación'].value_counts().get(True,0)"
   ]
  },
  {
   "cell_type": "markdown",
   "metadata": {},
   "source": [
    "Filtramos los lenguajes del texto  para el posterior análisis sentimental, error 'aux'"
   ]
  },
  {
   "cell_type": "code",
   "execution_count": 65,
   "metadata": {
    "collapsed": false
   },
   "outputs": [],
   "source": [
    "aux = tweets\n",
    "tweets = tweets[(tweets['language'] == 'es') | (tweets['language'] == 'en')]"
   ]
  },
  {
   "cell_type": "code",
   "execution_count": 76,
   "metadata": {
    "collapsed": false
   },
   "outputs": [
    {
     "name": "stderr",
     "output_type": "stream",
     "text": [
      "/home/miltonlab/anaconda3/lib/python3.4/site-packages/IPython/kernel/__main__.py:3: SettingWithCopyWarning: \n",
      "A value is trying to be set on a copy of a slice from a DataFrame.\n",
      "Try using .loc[row_indexer,col_indexer] = value instead\n",
      "\n",
      "See the the caveats in the documentation: http://pandas.pydata.org/pandas-docs/stable/indexing.html#indexing-view-versus-copy\n",
      "  app.launch_new_instance()\n",
      "/home/miltonlab/anaconda3/lib/python3.4/site-packages/IPython/kernel/__main__.py:5: SettingWithCopyWarning: \n",
      "A value is trying to be set on a copy of a slice from a DataFrame.\n",
      "Try using .loc[row_indexer,col_indexer] = value instead\n",
      "\n",
      "See the the caveats in the documentation: http://pandas.pydata.org/pandas-docs/stable/indexing.html#indexing-view-versus-copy\n",
      "/home/miltonlab/anaconda3/lib/python3.4/site-packages/IPython/kernel/__main__.py:7: SettingWithCopyWarning: \n",
      "A value is trying to be set on a copy of a slice from a DataFrame.\n",
      "Try using .loc[row_indexer,col_indexer] = value instead\n",
      "\n",
      "See the the caveats in the documentation: http://pandas.pydata.org/pandas-docs/stable/indexing.html#indexing-view-versus-copy\n"
     ]
    }
   ],
   "source": [
    "# Adjusting for sentimental analysis with sentiment140\n",
    "tweetsjava = tweets[tweets[\"java\"] == True]\n",
    "tweetsjava[\"query\"] = \"java\"\n",
    "tweetspython = tweets[tweets[\"python\"] == True]\n",
    "tweetspython[\"query\"] = \"python\"\n",
    "tweetsjavascript = tweets[tweets[\"javascript\"] == True]\n",
    "tweetsjavascript[\"query\"] = \"javascript\""
   ]
  },
  {
   "cell_type": "code",
   "execution_count": 77,
   "metadata": {
    "collapsed": false
   },
   "outputs": [
    {
     "data": {
      "text/html": [
       "<div style=\"max-height:1000px;max-width:1500px;overflow:auto;\">\n",
       "<table border=\"1\" class=\"dataframe\">\n",
       "  <thead>\n",
       "    <tr style=\"text-align: right;\">\n",
       "      <th>{'lang': 'language'}</th>\n",
       "      <th>text</th>\n",
       "      <th>language</th>\n",
       "      <th>country</th>\n",
       "      <th>python</th>\n",
       "      <th>java</th>\n",
       "      <th>javascript</th>\n",
       "      <th>programming</th>\n",
       "      <th>programación</th>\n",
       "      <th>programacion</th>\n",
       "      <th>relevante</th>\n",
       "      <th>query</th>\n",
       "    </tr>\n",
       "  </thead>\n",
       "  <tbody>\n",
       "    <tr>\n",
       "      <th>149</th>\n",
       "      <td>Deal! Learn for $49 Only: Step By Step Java Pr...</td>\n",
       "      <td>en</td>\n",
       "      <td>None</td>\n",
       "      <td>False</td>\n",
       "      <td>True</td>\n",
       "      <td>False</td>\n",
       "      <td>True</td>\n",
       "      <td>False</td>\n",
       "      <td>False</td>\n",
       "      <td>True</td>\n",
       "      <td>java</td>\n",
       "    </tr>\n",
       "    <tr>\n",
       "      <th>250</th>\n",
       "      <td>i cant do this java programming i quit</td>\n",
       "      <td>en</td>\n",
       "      <td>None</td>\n",
       "      <td>False</td>\n",
       "      <td>True</td>\n",
       "      <td>False</td>\n",
       "      <td>True</td>\n",
       "      <td>False</td>\n",
       "      <td>False</td>\n",
       "      <td>True</td>\n",
       "      <td>java</td>\n",
       "    </tr>\n",
       "    <tr>\n",
       "      <th>302</th>\n",
       "      <td>Deal! Learn for $10 Only: Intro to Java Progra...</td>\n",
       "      <td>en</td>\n",
       "      <td>None</td>\n",
       "      <td>False</td>\n",
       "      <td>True</td>\n",
       "      <td>False</td>\n",
       "      <td>True</td>\n",
       "      <td>False</td>\n",
       "      <td>False</td>\n",
       "      <td>True</td>\n",
       "      <td>java</td>\n",
       "    </tr>\n",
       "    <tr>\n",
       "      <th>468</th>\n",
       "      <td>Java Swing GUI Programming Lesson 7 List Boxes...</td>\n",
       "      <td>en</td>\n",
       "      <td>None</td>\n",
       "      <td>False</td>\n",
       "      <td>True</td>\n",
       "      <td>False</td>\n",
       "      <td>True</td>\n",
       "      <td>False</td>\n",
       "      <td>False</td>\n",
       "      <td>True</td>\n",
       "      <td>java</td>\n",
       "    </tr>\n",
       "    <tr>\n",
       "      <th>640</th>\n",
       "      <td>RT @thecoderlife: Happy Monday! Here is the #P...</td>\n",
       "      <td>en</td>\n",
       "      <td>None</td>\n",
       "      <td>True</td>\n",
       "      <td>True</td>\n",
       "      <td>True</td>\n",
       "      <td>True</td>\n",
       "      <td>False</td>\n",
       "      <td>False</td>\n",
       "      <td>True</td>\n",
       "      <td>java</td>\n",
       "    </tr>\n",
       "    <tr>\n",
       "      <th>747</th>\n",
       "      <td>TY @EricasWalk 4 #Follow. Get Free PDF Introdu...</td>\n",
       "      <td>en</td>\n",
       "      <td>None</td>\n",
       "      <td>False</td>\n",
       "      <td>True</td>\n",
       "      <td>False</td>\n",
       "      <td>True</td>\n",
       "      <td>False</td>\n",
       "      <td>False</td>\n",
       "      <td>True</td>\n",
       "      <td>java</td>\n",
       "    </tr>\n",
       "  </tbody>\n",
       "</table>\n",
       "</div>"
      ],
      "text/plain": [
       "{'lang': 'language'}                                               text  \\\n",
       "149                   Deal! Learn for $49 Only: Step By Step Java Pr...   \n",
       "250                              i cant do this java programming i quit   \n",
       "302                   Deal! Learn for $10 Only: Intro to Java Progra...   \n",
       "468                   Java Swing GUI Programming Lesson 7 List Boxes...   \n",
       "640                   RT @thecoderlife: Happy Monday! Here is the #P...   \n",
       "747                   TY @EricasWalk 4 #Follow. Get Free PDF Introdu...   \n",
       "\n",
       "{'lang': 'language'} language country python  java javascript programming  \\\n",
       "149                        en    None  False  True      False        True   \n",
       "250                        en    None  False  True      False        True   \n",
       "302                        en    None  False  True      False        True   \n",
       "468                        en    None  False  True      False        True   \n",
       "640                        en    None   True  True       True        True   \n",
       "747                        en    None  False  True      False        True   \n",
       "\n",
       "{'lang': 'language'} programación programacion relevante query  \n",
       "149                         False        False      True  java  \n",
       "250                         False        False      True  java  \n",
       "302                         False        False      True  java  \n",
       "468                         False        False      True  java  \n",
       "640                         False        False      True  java  \n",
       "747                         False        False      True  java  "
      ]
     },
     "execution_count": 77,
     "metadata": {},
     "output_type": "execute_result"
    }
   ],
   "source": [
    "tweetsjava[:6]"
   ]
  },
  {
   "cell_type": "markdown",
   "metadata": {},
   "source": [
    "#TODO: Quedamos aquí Una vez separados los tweets para cada lenguaje de programación realizar el análisis sentimental por cada uno de ellos."
   ]
  },
  {
   "cell_type": "markdown",
   "metadata": {},
   "source": [
    "##Limpieza de datos para enviar al analizador sentimental"
   ]
  },
  {
   "cell_type": "code",
   "execution_count": 78,
   "metadata": {
    "collapsed": false
   },
   "outputs": [],
   "source": [
    "# partiendo el DataFrame para ls pruebas que siguen\n",
    "subtweets = tweets.ix[:10, ['text', 'language', 'query']]"
   ]
  },
  {
   "cell_type": "code",
   "execution_count": 11,
   "metadata": {
    "collapsed": false
   },
   "outputs": [
    {
     "data": {
      "text/plain": [
       "Index(['text', 'lang'], dtype='object')"
      ]
     },
     "execution_count": 11,
     "metadata": {},
     "output_type": "execute_result"
    }
   ],
   "source": [
    "subtweets.columns"
   ]
  },
  {
   "cell_type": "code",
   "execution_count": 12,
   "metadata": {
    "collapsed": false
   },
   "outputs": [],
   "source": [
    "import json\n",
    "#quitamos los indices acarreados del pandas.DataFrame\n",
    "jsontweets = subtweets.to_json(orient=\"records\")\n",
    "#strweets = json.dumps(jsontweets)"
   ]
  },
  {
   "cell_type": "code",
   "execution_count": 13,
   "metadata": {
    "collapsed": false
   },
   "outputs": [
    {
     "data": {
      "text/plain": [
       "'[{\"text\":\"threadly 0.6.0: Threading pool and scheduler for python http:\\\\/\\\\/t.co\\\\/lH4M1fg9Yk\",\"lang\":\"en\"},{\"text\":\"RT @grailsinfo: New Blog: Groovy now runs faster than Java on mobile http:\\\\/\\\\/t.co\\\\/16nlVqlSAK #groovy #grails\",\"lang\":\"en\"},{\"text\":\"RT @josevalim: Elixir has ideas from Java, C#, Python, Ruby, Haskell, F#, etc. Never stop looking at what other communities are doing!\",\"lang\":\"en\"},{\"text\":\"@JESUSGAMER444  https:\\\\/\\\\/t.co\\\\/dmZXwJAKwN    https:\\\\/\\\\/t.co\\\\/Gz66mpR9xt te descargas el launcher y ocupas de tener java 7\",\"lang\":\"es\"},{\"text\":\"Deal! Learn for $10 Only: Game Development Fundamentals with Python http:\\\\/\\\\/t.co\\\\/ebjuNaGSCT\",\"lang\":\"en\"},{\"text\":\"#Trabajo en #Badajoz Analista Programador C++ y\\\\/o ProC, Badajoz: Randstad Technologies Madrid \\\\u2013 Badajoz \\\\u2013 Astu\\\\u2026\\\\u2026 http:\\\\/\\\\/t.co\\\\/I6uff2V7KC\",\"lang\":\"es\"},{\"text\":\"RT @hseeberger: And the winners are ... #akka and #java 8. #jaxcon http:\\\\/\\\\/t.co\\\\/GqrkU3nyP1\",\"lang\":\"en\"},{\"text\":\"Prepared statements ftw #Java #MySQL\",\"lang\":\"en\"},{\"text\":\"PROGRAMADOR JAVA http:\\\\/\\\\/t.co\\\\/gkcMFoXaJs #empleo #trabajo #Madrid\\\\u00a0#empleomadrid http:\\\\/\\\\/t.co\\\\/dDXzXCwDBh\",\"lang\":\"es\"}]'"
      ]
     },
     "execution_count": 13,
     "metadata": {},
     "output_type": "execute_result"
    }
   ],
   "source": [
    "jsontweets"
   ]
  },
  {
   "cell_type": "code",
   "execution_count": 14,
   "metadata": {
    "collapsed": false
   },
   "outputs": [],
   "source": [
    "#acomodamos la data para formatearla de acuerdo a lo que pide la app sentiment140\n",
    "# problemas de colición entre el objeto json y el metodo format() de python3\n",
    "strweets = '{\"language\" : \"auto\", \"data\" : %s }' % jsontweets"
   ]
  },
  {
   "cell_type": "code",
   "execution_count": 15,
   "metadata": {
    "collapsed": false
   },
   "outputs": [
    {
     "data": {
      "text/plain": [
       "'{\"language\" : \"auto\", \"data\" : [{\"text\":\"threadly 0.6.0: Threading pool and scheduler for python http:\\\\/\\\\/t.co\\\\/lH4M1fg9Yk\",\"lang\":\"en\"},{\"text\":\"RT @grailsinfo: New Blog: Groovy now runs faster than Java on mobile http:\\\\/\\\\/t.co\\\\/16nlVqlSAK #groovy #grails\",\"lang\":\"en\"},{\"text\":\"RT @josevalim: Elixir has ideas from Java, C#, Python, Ruby, Haskell, F#, etc. Never stop looking at what other communities are doing!\",\"lang\":\"en\"},{\"text\":\"@JESUSGAMER444  https:\\\\/\\\\/t.co\\\\/dmZXwJAKwN    https:\\\\/\\\\/t.co\\\\/Gz66mpR9xt te descargas el launcher y ocupas de tener java 7\",\"lang\":\"es\"},{\"text\":\"Deal! Learn for $10 Only: Game Development Fundamentals with Python http:\\\\/\\\\/t.co\\\\/ebjuNaGSCT\",\"lang\":\"en\"},{\"text\":\"#Trabajo en #Badajoz Analista Programador C++ y\\\\/o ProC, Badajoz: Randstad Technologies Madrid \\\\u2013 Badajoz \\\\u2013 Astu\\\\u2026\\\\u2026 http:\\\\/\\\\/t.co\\\\/I6uff2V7KC\",\"lang\":\"es\"},{\"text\":\"RT @hseeberger: And the winners are ... #akka and #java 8. #jaxcon http:\\\\/\\\\/t.co\\\\/GqrkU3nyP1\",\"lang\":\"en\"},{\"text\":\"Prepared statements ftw #Java #MySQL\",\"lang\":\"en\"},{\"text\":\"PROGRAMADOR JAVA http:\\\\/\\\\/t.co\\\\/gkcMFoXaJs #empleo #trabajo #Madrid\\\\u00a0#empleomadrid http:\\\\/\\\\/t.co\\\\/dDXzXCwDBh\",\"lang\":\"es\"}] }'"
      ]
     },
     "execution_count": 15,
     "metadata": {},
     "output_type": "execute_result"
    }
   ],
   "source": [
    "strweets"
   ]
  },
  {
   "cell_type": "code",
   "execution_count": 16,
   "metadata": {
    "collapsed": false
   },
   "outputs": [],
   "source": [
    "#La version del articulo de Fernando Marengo  usa urllib2\n",
    "#intentamos en nuestra version usar algo mas moderno para enviar la data en formato\n",
    "#JSON directamente en vez de transformarlo a str\n",
    "\n",
    "#import urllib2\n",
    "import requests\n",
    "URL_SENTIMENT140 = \"http://www.sentiment140.com/api/bulkClassifyJson\"\n",
    "###req = urllib.request.http.client.Request(URL_SENTIMENT140)\n",
    "###req.add_header('Content-Type', 'application/json')\n",
    "response = requests.post(URL_SENTIMENT140, strweets)\n",
    "###response = urllib2.urlopen(req, str(result))"
   ]
  },
  {
   "cell_type": "code",
   "execution_count": 17,
   "metadata": {
    "collapsed": false
   },
   "outputs": [],
   "source": [
    "#Version del articulo original usar reponse.read()\n",
    "#ahora usamos json , alternativa moderna\n",
    "jsonresponse = response.json()"
   ]
  },
  {
   "cell_type": "code",
   "execution_count": 18,
   "metadata": {
    "collapsed": true
   },
   "outputs": [
    {
     "data": {
      "text/plain": [
       "{'data': [{'lang': 'en',\n",
       "   'meta': {'language': 'en'},\n",
       "   'polarity': 2,\n",
       "   'text': 'threadly 0.6.0: Threading pool and scheduler for python http://t.co/lH4M1fg9Yk'},\n",
       "  {'lang': 'en',\n",
       "   'meta': {'language': 'en'},\n",
       "   'polarity': 2,\n",
       "   'text': 'RT @grailsinfo: New Blog: Groovy now runs faster than Java on mobile http://t.co/16nlVqlSAK #groovy #grails'},\n",
       "  {'lang': 'en',\n",
       "   'meta': {'language': 'en'},\n",
       "   'polarity': 2,\n",
       "   'text': 'RT @josevalim: Elixir has ideas from Java, C#, Python, Ruby, Haskell, F#, etc. Never stop looking at what other communities are doing!'},\n",
       "  {'lang': 'es',\n",
       "   'meta': {'language': 'es'},\n",
       "   'polarity': 2,\n",
       "   'text': '@JESUSGAMER444  https://t.co/dmZXwJAKwN    https://t.co/Gz66mpR9xt te descargas el launcher y ocupas de tener java 7'},\n",
       "  {'lang': 'en',\n",
       "   'meta': {'headline': True, 'language': 'en'},\n",
       "   'polarity': 2,\n",
       "   'text': 'Deal! Learn for $10 Only: Game Development Fundamentals with Python http://t.co/ebjuNaGSCT'},\n",
       "  {'lang': 'es',\n",
       "   'meta': {'language': 'es'},\n",
       "   'polarity': 2,\n",
       "   'text': '#Trabajo en #Badajoz Analista Programador C++ y/o ProC, Badajoz: Randstad Technologies Madrid – Badajoz – Astu…… http://t.co/I6uff2V7KC'},\n",
       "  {'lang': 'en',\n",
       "   'meta': {'language': 'en'},\n",
       "   'polarity': 2,\n",
       "   'text': 'RT @hseeberger: And the winners are ... #akka and #java 8. #jaxcon http://t.co/GqrkU3nyP1'},\n",
       "  {'lang': 'en',\n",
       "   'meta': {'language': 'en'},\n",
       "   'polarity': 2,\n",
       "   'text': 'Prepared statements ftw #Java #MySQL'},\n",
       "  {'lang': 'es',\n",
       "   'meta': {'headline': True, 'language': 'es'},\n",
       "   'polarity': 2,\n",
       "   'text': 'PROGRAMADOR JAVA http://t.co/gkcMFoXaJs #empleo #trabajo #Madrid\\xa0#empleomadrid http://t.co/dDXzXCwDBh'}],\n",
       " 'language': 'auto'}"
      ]
     },
     "execution_count": 18,
     "metadata": {},
     "output_type": "execute_result"
    }
   ],
   "source": [
    "jsonresponse"
   ]
  },
  {
   "cell_type": "markdown",
   "metadata": {},
   "source": [
    "The polarity values are: \n",
    "* 0: negative\n",
    "* 2: neutral\n",
    "* 4: positive"
   ]
  },
  {
   "cell_type": "code",
   "execution_count": 22,
   "metadata": {
    "collapsed": true
   },
   "outputs": [],
   "source": [
    "def parse_response(json_response):\n",
    "    # obviamos los valores neutrales\n",
    "    negative_tweets, positive_tweets = 0, 0\n",
    "    for t in json_response[\"data\"]:\n",
    "        if int(t[\"polarity\"]) == 0:\n",
    "            negative_tweets += 1\n",
    "        elif int(t[\"polarity\"]) == 4:\n",
    "            positive_tweets += 1\n",
    "    return negative_tweets, positive_tweets"
   ]
  },
  {
   "cell_type": "code",
   "execution_count": 23,
   "metadata": {
    "collapsed": false
   },
   "outputs": [
    {
     "data": {
      "text/plain": [
       "(0, 0)"
      ]
     },
     "execution_count": 23,
     "metadata": {},
     "output_type": "execute_result"
    }
   ],
   "source": [
    "parse_response(jsonresponse)"
   ]
  }
 ],
 "metadata": {
  "kernelspec": {
   "display_name": "Python 3",
   "language": "python",
   "name": "python3"
  },
  "language_info": {
   "codemirror_mode": {
    "name": "ipython",
    "version": 3
   },
   "file_extension": ".py",
   "mimetype": "text/x-python",
   "name": "python",
   "nbconvert_exporter": "python",
   "pygments_lexer": "ipython3",
   "version": "3.4.3"
  }
 },
 "nbformat": 4,
 "nbformat_minor": 0
}
