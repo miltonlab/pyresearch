{
 "cells": [
  {
   "cell_type": "markdown",
   "metadata": {},
   "source": [
    "###Lenguajes seleccionados: Java, Python, C#, C++"
   ]
  },
  {
   "cell_type": "code",
   "execution_count": 47,
   "metadata": {
    "collapsed": false
   },
   "outputs": [
    {
     "name": "stdout",
     "output_type": "stream",
     "text": [
      "1598\n",
      "355\n",
      "812\n",
      "23\n"
     ]
    }
   ],
   "source": [
    "# -*- coding: utf-8 -*-\n",
    "\n",
    "#lectura de datos \n",
    "\n",
    "import json\n",
    "dataset_path = \"dataset-230415-11.56.txt\"\n",
    "data = []\n",
    "f = open(dataset_path, \"r\")\n",
    "for line in f:\n",
    "\ttry:\n",
    "\t\ttweet = json.loads(line)\n",
    "\t\tdata.append(tweet)\n",
    "\texcept Exception as ex:\n",
    "\t\t#print(\"Error :\", ex)\n",
    "\t\tcontinue\n",
    "print(len(data))\n",
    "f.close()\n",
    "import pandas as pd\n",
    "tweets = pd.DataFrame()\n",
    "tweets['text'] = [t['text'] for t in data]\n",
    "#TODO: change lang by language at new reload\n",
    "tweets['language'] = [t['lang'] for t in data]\n",
    "tweets['country'] = [t['place']['country'] if t['place'] else None for t in data]\n",
    "\n",
    "# function to search keyword programming languag in text\n",
    "import re\n",
    "def word_in_text(word, text):\n",
    "    word = word.lower()\n",
    "    text = text.lower()\n",
    "    match = re.search(word+\" \", text)\n",
    "    if match:\n",
    "        return True\n",
    "    return False\n",
    "\n",
    "# En la columna text de nuestro DataFrame buscamos las ocurrencias de cada palabra a analizar \n",
    "# ... Incluir posible grafico\n",
    "#TODO: #java #python #javascript\n",
    "tweets['python'] = tweets['text'].apply(lambda tweet: word_in_text('python', tweet))\n",
    "tweets['java'] = tweets['text'].apply(lambda tweet: word_in_text('java', tweet))\n",
    "tweets['javascript'] = tweets['text'].apply(lambda tweet: word_in_text('javascript', tweet))\n",
    "\n",
    "# Contabilizando \n",
    "print (tweets['python'].value_counts()[True])\n",
    "print (tweets['java'].value_counts()[True])\n",
    "print (tweets['javascript'].value_counts()[True])\n",
    "\n",
    "tweets_by_prg_lang_count1 = (tweets['python'].value_counts()[True], tweets['java'].value_counts()[True], tweets['javascript'].value_counts()[True])\n",
    "#prg_langs = ('python', 'java', 'javascript')\n",
    "# diccionario para describir mejor los datos de los lenguajes de programación durante\n",
    "# la búsqueda en el dataset\n",
    "proglangs = {'python':'python', 'java':'java', 'javascript':'javascript'}\n",
    "x = list(range(len(proglangs)))"
   ]
  },
  {
   "cell_type": "code",
   "execution_count": 32,
   "metadata": {
    "collapsed": false,
    "scrolled": true
   },
   "outputs": [
    {
     "data": {
      "image/png": "[encoded data removed]",
      "text/plain": [
       "<matplotlib.figure.Figure at 0x7f4c79b9a390>"
      ]
     },
     "metadata": {},
     "output_type": "display_data"
    }
   ],
   "source": [
    "# Plotting\n",
    "#import matplotlib.pyplot as plt\n",
    "%matplotlib inline\n",
    "#revisar \n",
    "import matplotlib.pyplot as plt\n",
    "fig, axis =  plt.subplots()\n",
    "plt.bar(x, tweets_by_prg_lang_count1, 0.8, alpha=1, color='g')\n",
    "\n",
    "axis.set_ylabel('Numero de tweets', fontsize=15)\n",
    "axis.set_title('Ranking: python vs. java vs javascript (Raw data)')\n",
    "axis.set_xticks([p + 0.4 * 0.8 for p in x])\n",
    "axis.set_xticklabels(list(proglangs.keys()))\n",
    "plt.grid()"
   ]
  },
  {
   "cell_type": "markdown",
   "metadata": {
    "collapsed": true
   },
   "source": [
    "Ahora vamos a focalizarnos en tweets  que tengan que ver más con lenguajes de programación en sí, seleccionando por ejemplo aquellos tweets que contengan las palabras clave: \"programming\" o \"programacion\" teniendo cuidado además de las tildes"
   ]
  },
  {
   "cell_type": "code",
   "execution_count": 35,
   "metadata": {
    "collapsed": true
   },
   "outputs": [],
   "source": [
    "tweets[\"programming\"] = tweets['text'].apply(lambda t: word_in_text('programming',t))\n",
    "tweets[\"programación\"] = tweets['text'].apply(lambda t: word_in_text('programación',t))\n",
    "tweets[\"programacion\"] = tweets['text'].apply(lambda t: word_in_text('programacion',t))\n",
    "tweets[\"relevante\"] = tweets['text'].apply(lambda t: word_in_text('programming',t) \n",
    "                                            or word_in_text('programación',t)\n",
    "                                            or word_in_text('programacion',t))"
   ]
  },
  {
   "cell_type": "code",
   "execution_count": 36,
   "metadata": {
    "collapsed": false
   },
   "outputs": [
    {
     "data": {
      "text/html": [
       "<div style=\"max-height:1000px;max-width:1500px;overflow:auto;\">\n",
       "<table border=\"1\" class=\"dataframe\">\n",
       "  <thead>\n",
       "    <tr style=\"text-align: right;\">\n",
       "      <th></th>\n",
       "      <th>text</th>\n",
       "      <th>language</th>\n",
       "      <th>country</th>\n",
       "      <th>python</th>\n",
       "      <th>java</th>\n",
       "      <th>javascript</th>\n",
       "      <th>programming</th>\n",
       "      <th>programación</th>\n",
       "      <th>programacion</th>\n",
       "      <th>relevante</th>\n",
       "    </tr>\n",
       "  </thead>\n",
       "  <tbody>\n",
       "    <tr>\n",
       "      <th>26</th>\n",
       "      <td>Developing Scalable Apps in #Python\\nwith #Goo...</td>\n",
       "      <td>en</td>\n",
       "      <td>None</td>\n",
       "      <td>False</td>\n",
       "      <td>False</td>\n",
       "      <td>False</td>\n",
       "      <td>True</td>\n",
       "      <td>False</td>\n",
       "      <td>False</td>\n",
       "      <td>True</td>\n",
       "    </tr>\n",
       "    <tr>\n",
       "      <th>66</th>\n",
       "      <td>RT @devbattles: How I Learned to Stop Worrying...</td>\n",
       "      <td>en</td>\n",
       "      <td>None</td>\n",
       "      <td>True</td>\n",
       "      <td>False</td>\n",
       "      <td>False</td>\n",
       "      <td>True</td>\n",
       "      <td>False</td>\n",
       "      <td>False</td>\n",
       "      <td>True</td>\n",
       "    </tr>\n",
       "    <tr>\n",
       "      <th>110</th>\n",
       "      <td>RT @imissyouoa: #linux Qt Creator 3.4 Brings C...</td>\n",
       "      <td>en</td>\n",
       "      <td>None</td>\n",
       "      <td>False</td>\n",
       "      <td>False</td>\n",
       "      <td>False</td>\n",
       "      <td>True</td>\n",
       "      <td>False</td>\n",
       "      <td>False</td>\n",
       "      <td>True</td>\n",
       "    </tr>\n",
       "    <tr>\n",
       "      <th>149</th>\n",
       "      <td>Deal! Learn for $49 Only: Step By Step Java Pr...</td>\n",
       "      <td>en</td>\n",
       "      <td>None</td>\n",
       "      <td>False</td>\n",
       "      <td>True</td>\n",
       "      <td>False</td>\n",
       "      <td>True</td>\n",
       "      <td>False</td>\n",
       "      <td>False</td>\n",
       "      <td>True</td>\n",
       "    </tr>\n",
       "    <tr>\n",
       "      <th>179</th>\n",
       "      <td>@_ruunyan I WAS TALKING ABOUT THE PROGRAMMING ...</td>\n",
       "      <td>en</td>\n",
       "      <td>None</td>\n",
       "      <td>True</td>\n",
       "      <td>False</td>\n",
       "      <td>False</td>\n",
       "      <td>True</td>\n",
       "      <td>False</td>\n",
       "      <td>False</td>\n",
       "      <td>True</td>\n",
       "    </tr>\n",
       "  </tbody>\n",
       "</table>\n",
       "</div>"
      ],
      "text/plain": [
       "                                                  text language country  \\\n",
       "26   Developing Scalable Apps in #Python\\nwith #Goo...       en    None   \n",
       "66   RT @devbattles: How I Learned to Stop Worrying...       en    None   \n",
       "110  RT @imissyouoa: #linux Qt Creator 3.4 Brings C...       en    None   \n",
       "149  Deal! Learn for $49 Only: Step By Step Java Pr...       en    None   \n",
       "179  @_ruunyan I WAS TALKING ABOUT THE PROGRAMMING ...       en    None   \n",
       "\n",
       "    python   java javascript programming programación programacion relevante  \n",
       "26   False  False      False        True        False        False      True  \n",
       "66    True  False      False        True        False        False      True  \n",
       "110  False  False      False        True        False        False      True  \n",
       "149  False   True      False        True        False        False      True  \n",
       "179   True  False      False        True        False        False      True  "
      ]
     },
     "execution_count": 36,
     "metadata": {},
     "output_type": "execute_result"
    }
   ],
   "source": [
    "#Nos quedamos solo con los tweets relevantes\n",
    "tweets = tweets[tweets[\"relevante\"] == True]\n",
    "tweets[:5]"
   ]
  },
  {
   "cell_type": "markdown",
   "metadata": {},
   "source": [
    "Ahora podemos observar que la cantidad de tweets relevantes, relacionados con temas de programación,\n",
    "entre java y python difieren únicamente en uno"
   ]
  },
  {
   "cell_type": "code",
   "execution_count": 37,
   "metadata": {
    "collapsed": false
   },
   "outputs": [
    {
     "name": "stdout",
     "output_type": "stream",
     "text": [
      "10\n",
      "11\n",
      "1\n"
     ]
    }
   ],
   "source": [
    "###print (tweets[tweets['relevante'] == True]['python'].value_counts()[True])\n",
    "###print (tweets[tweets['relevante'] == True]['java'].value_counts()[True])\n",
    "###print (tweets[tweets['relevante'] == True]['javascript'].value_counts()[True])\n",
    "print (tweets['python'].value_counts()[True])\n",
    "print (tweets['java'].value_counts()[True])\n",
    "print (tweets['javascript'].value_counts()[True])"
   ]
  },
  {
   "cell_type": "code",
   "execution_count": 38,
   "metadata": {
    "collapsed": false
   },
   "outputs": [
    {
     "data": {
      "image/png": "[encoded data removed]",
      "text/plain": [
       "<matplotlib.figure.Figure at 0x7f4c98475f98>"
      ]
     },
     "metadata": {},
     "output_type": "display_data"
    }
   ],
   "source": [
    "tweets_by_prg_lang_count = [tweets[tweets['relevante'] == True]['python'].value_counts()[True], \n",
    "                      tweets[tweets['relevante'] == True]['java'].value_counts()[True], \n",
    "                      tweets[tweets['relevante'] == True]['javascript'].value_counts()[True]]\n",
    "x_pos = list(range(len(proglangs)))\n",
    "width = 0.8\n",
    "fig, ax = plt.subplots()\n",
    "plt.bar(x_pos, tweets_by_prg_lang_count, width,alpha=1,color='g')\n",
    "ax.set_ylabel('Number of tweets', fontsize=15)\n",
    "ax.set_title('Ranking: python vs. javascript vs. ruby (Relevant data)', fontsize=10, fontweight='bold')\n",
    "ax.set_xticks([p + 0.4 * width for p in x_pos])\n",
    "ax.set_xticklabels(list(proglangs.keys()))\n",
    "plt.grid()"
   ]
  },
  {
   "cell_type": "code",
   "execution_count": 7,
   "metadata": {
    "collapsed": false
   },
   "outputs": [
    {
     "data": {
      "text/plain": [
       "[10, 11, 1]"
      ]
     },
     "execution_count": 7,
     "metadata": {},
     "output_type": "execute_result"
    }
   ],
   "source": [
    "tweets_by_prg_lang_count[:10]"
   ]
  },
  {
   "cell_type": "code",
   "execution_count": 8,
   "metadata": {
    "collapsed": false
   },
   "outputs": [],
   "source": [
    "#TODO: tweets['programming'==True or 'programacion'==True]\n",
    "#tweets['programming'].value_counts()[True]\n",
    "#tweets['programming'].value_counts().get(True,0)\n",
    "# Se necesita prevenir el caso en el que no existan datos para las palabras clave buscadas\n",
    "#tweets['programación'].value_counts().get(True,0)"
   ]
  },
  {
   "cell_type": "markdown",
   "metadata": {},
   "source": [
    "Filtramos los lenguajes del texto  para el posterior análisis sentimental, error 'aux'"
   ]
  },
  {
   "cell_type": "code",
   "execution_count": 100,
   "metadata": {
    "collapsed": false
   },
   "outputs": [],
   "source": [
    "###aux = tweets\n",
    "tweets = tweets[(tweets.language == 'es') | (tweets.language == 'en')]"
   ]
  },
  {
   "cell_type": "code",
   "execution_count": 70,
   "metadata": {
    "collapsed": false
   },
   "outputs": [
    {
     "data": {
      "text/html": [
       "<div style=\"max-height:1000px;max-width:1500px;overflow:auto;\">\n",
       "<table border=\"1\" class=\"dataframe\">\n",
       "  <thead>\n",
       "    <tr style=\"text-align: right;\">\n",
       "      <th></th>\n",
       "      <th>text</th>\n",
       "      <th>language</th>\n",
       "      <th>country</th>\n",
       "      <th>python</th>\n",
       "      <th>java</th>\n",
       "      <th>javascript</th>\n",
       "    </tr>\n",
       "  </thead>\n",
       "  <tbody>\n",
       "    <tr>\n",
       "      <th>0</th>\n",
       "      <td>threadly 0.6.0: Threading pool and scheduler f...</td>\n",
       "      <td>en</td>\n",
       "      <td>None</td>\n",
       "      <td>True</td>\n",
       "      <td>False</td>\n",
       "      <td>False</td>\n",
       "    </tr>\n",
       "    <tr>\n",
       "      <th>2</th>\n",
       "      <td>RT @grailsinfo: New Blog: Groovy now runs fast...</td>\n",
       "      <td>en</td>\n",
       "      <td>None</td>\n",
       "      <td>False</td>\n",
       "      <td>True</td>\n",
       "      <td>False</td>\n",
       "    </tr>\n",
       "    <tr>\n",
       "      <th>3</th>\n",
       "      <td>RT @josevalim: Elixir has ideas from Java, C#,...</td>\n",
       "      <td>en</td>\n",
       "      <td>None</td>\n",
       "      <td>False</td>\n",
       "      <td>False</td>\n",
       "      <td>False</td>\n",
       "    </tr>\n",
       "    <tr>\n",
       "      <th>5</th>\n",
       "      <td>@JESUSGAMER444  https://t.co/dmZXwJAKwN    htt...</td>\n",
       "      <td>es</td>\n",
       "      <td>None</td>\n",
       "      <td>False</td>\n",
       "      <td>True</td>\n",
       "      <td>False</td>\n",
       "    </tr>\n",
       "    <tr>\n",
       "      <th>6</th>\n",
       "      <td>Deal! Learn for $10 Only: Game Development Fun...</td>\n",
       "      <td>en</td>\n",
       "      <td>None</td>\n",
       "      <td>True</td>\n",
       "      <td>False</td>\n",
       "      <td>False</td>\n",
       "    </tr>\n",
       "    <tr>\n",
       "      <th>7</th>\n",
       "      <td>#Trabajo en #Badajoz Analista Programador C++ ...</td>\n",
       "      <td>es</td>\n",
       "      <td>None</td>\n",
       "      <td>False</td>\n",
       "      <td>False</td>\n",
       "      <td>False</td>\n",
       "    </tr>\n",
       "    <tr>\n",
       "      <th>8</th>\n",
       "      <td>RT @hseeberger: And the winners are ... #akka ...</td>\n",
       "      <td>en</td>\n",
       "      <td>None</td>\n",
       "      <td>False</td>\n",
       "      <td>True</td>\n",
       "      <td>False</td>\n",
       "    </tr>\n",
       "    <tr>\n",
       "      <th>9</th>\n",
       "      <td>Prepared statements ftw #Java #MySQL</td>\n",
       "      <td>en</td>\n",
       "      <td>None</td>\n",
       "      <td>False</td>\n",
       "      <td>True</td>\n",
       "      <td>False</td>\n",
       "    </tr>\n",
       "    <tr>\n",
       "      <th>10</th>\n",
       "      <td>PROGRAMADOR JAVA http://t.co/gkcMFoXaJs #emple...</td>\n",
       "      <td>es</td>\n",
       "      <td>None</td>\n",
       "      <td>False</td>\n",
       "      <td>True</td>\n",
       "      <td>False</td>\n",
       "    </tr>\n",
       "    <tr>\n",
       "      <th>11</th>\n",
       "      <td>Consultor Junior Java http://t.co/qucJHQo8Fo #...</td>\n",
       "      <td>es</td>\n",
       "      <td>None</td>\n",
       "      <td>False</td>\n",
       "      <td>True</td>\n",
       "      <td>False</td>\n",
       "    </tr>\n",
       "  </tbody>\n",
       "</table>\n",
       "</div>"
      ],
      "text/plain": [
       "                                                 text language country python  \\\n",
       "0   threadly 0.6.0: Threading pool and scheduler f...       en    None   True   \n",
       "2   RT @grailsinfo: New Blog: Groovy now runs fast...       en    None  False   \n",
       "3   RT @josevalim: Elixir has ideas from Java, C#,...       en    None  False   \n",
       "5   @JESUSGAMER444  https://t.co/dmZXwJAKwN    htt...       es    None  False   \n",
       "6   Deal! Learn for $10 Only: Game Development Fun...       en    None   True   \n",
       "7   #Trabajo en #Badajoz Analista Programador C++ ...       es    None  False   \n",
       "8   RT @hseeberger: And the winners are ... #akka ...       en    None  False   \n",
       "9                Prepared statements ftw #Java #MySQL       en    None  False   \n",
       "10  PROGRAMADOR JAVA http://t.co/gkcMFoXaJs #emple...       es    None  False   \n",
       "11  Consultor Junior Java http://t.co/qucJHQo8Fo #...       es    None  False   \n",
       "\n",
       "     java javascript  \n",
       "0   False      False  \n",
       "2    True      False  \n",
       "3   False      False  \n",
       "5    True      False  \n",
       "6   False      False  \n",
       "7   False      False  \n",
       "8    True      False  \n",
       "9    True      False  \n",
       "10   True      False  \n",
       "11   True      False  "
      ]
     },
     "execution_count": 70,
     "metadata": {},
     "output_type": "execute_result"
    }
   ],
   "source": [
    "tweets[:10]"
   ]
  },
  {
   "cell_type": "markdown",
   "metadata": {},
   "source": [
    "##Preparación de la data para el análisis sentimental"
   ]
  },
  {
   "cell_type": "markdown",
   "metadata": {},
   "source": [
    "Por cada lenguaje de programación que se desea analizar creamos un diccionario con los datos\n",
    "necesarios para enviar al analizador sentimental"
   ]
  },
  {
   "cell_type": "code",
   "execution_count": 82,
   "metadata": {
    "collapsed": false
   },
   "outputs": [],
   "source": [
    "insentiments = dict()\n",
    "for proglang in proglangs.keys():\n",
    "    # En español\n",
    "    chunk_es = tweets[(tweets[proglang] == True) & (tweets.language == 'es')]\n",
    "    chunk_es = chunk_es.ix[:,['text']]\n",
    "    chunk_es['query'] = proglang\n",
    "    insentiments[proglang] = {'es': '{\"language\": \"es\", \"data\": %s }' % \n",
    "                            chunk_es.to_json(orient='records')}\n",
    "    # Enn inglés\n",
    "    chunk_en = tweets[(tweets[proglang] == True) & (tweets.language == 'en')]\n",
    "    chunk_en = chunk_en.ix[:,['text']]\n",
    "    chunk_en['query'] = proglang\n",
    "    # ojo: no se reemplaza el contenido del diccionario sino que se agrega\n",
    "    insentiments[proglang].update({'en': '{\"language\": \"en\", \"data\": %s }' % \n",
    "                            chunk_en.to_json(orient='records')})"
   ]
  },
  {
   "cell_type": "code",
   "execution_count": 99,
   "metadata": {
    "collapsed": false
   },
   "outputs": [
    {
     "data": {
      "text/html": [
       "<div style=\"max-height:1000px;max-width:1500px;overflow:auto;\">\n",
       "<table border=\"1\" class=\"dataframe\">\n",
       "  <thead>\n",
       "    <tr style=\"text-align: right;\">\n",
       "      <th></th>\n",
       "      <th>java</th>\n",
       "      <th>javascript</th>\n",
       "      <th>python</th>\n",
       "    </tr>\n",
       "  </thead>\n",
       "  <tbody>\n",
       "    <tr>\n",
       "      <th>en</th>\n",
       "      <td>{\"language\": \"en\", \"data\": [{\"text\":\"RT @grail...</td>\n",
       "      <td>{\"language\": \"en\", \"data\": [{\"text\":\"Java Scri...</td>\n",
       "      <td>{\"language\": \"en\", \"data\": [{\"text\":\"threadly ...</td>\n",
       "    </tr>\n",
       "    <tr>\n",
       "      <th>es</th>\n",
       "      <td>{\"language\": \"es\", \"data\": [{\"text\":\"@JESUSGAM...</td>\n",
       "      <td>{\"language\": \"es\", \"data\": [] }</td>\n",
       "      <td>{\"language\": \"es\", \"data\": [{\"text\":\"que el HT...</td>\n",
       "    </tr>\n",
       "  </tbody>\n",
       "</table>\n",
       "</div>"
      ],
      "text/plain": [
       "                                                 java  \\\n",
       "en  {\"language\": \"en\", \"data\": [{\"text\":\"RT @grail...   \n",
       "es  {\"language\": \"es\", \"data\": [{\"text\":\"@JESUSGAM...   \n",
       "\n",
       "                                           javascript  \\\n",
       "en  {\"language\": \"en\", \"data\": [{\"text\":\"Java Scri...   \n",
       "es                    {\"language\": \"es\", \"data\": [] }   \n",
       "\n",
       "                                               python  \n",
       "en  {\"language\": \"en\", \"data\": [{\"text\":\"threadly ...  \n",
       "es  {\"language\": \"es\", \"data\": [{\"text\":\"que el HT...  "
      ]
     },
     "execution_count": 99,
     "metadata": {},
     "output_type": "execute_result"
    }
   ],
   "source": [
    "# Formateo de los datos que vamos a enviar al analizador\n",
    "pd.DataFrame(insentiments)\n",
    "pd.tool"
   ]
  },
  {
   "cell_type": "markdown",
   "metadata": {},
   "source": [
    "##Análisis Sentimental"
   ]
  },
  {
   "cell_type": "code",
   "execution_count": 61,
   "metadata": {
    "collapsed": false
   },
   "outputs": [],
   "source": [
    "def parse_response(json_response):\n",
    "    # obviamos los valores neutrales\n",
    "    negative_tweets, positive_tweets = 0, 0\n",
    "    for t in json_response[\"data\"]:\n",
    "        if int(t[\"polarity\"]) == 0:\n",
    "            negative_tweets += 1\n",
    "        elif int(t[\"polarity\"]) == 4:\n",
    "            positive_tweets += 1\n",
    "    return negative_tweets, positive_tweets"
   ]
  },
  {
   "cell_type": "code",
   "execution_count": 89,
   "metadata": {
    "collapsed": false
   },
   "outputs": [],
   "source": [
    "#La version del articulo de Fernando Marengo  usa urllib2\n",
    "#intentamos en nuestra version usar algo mas moderno para enviar la data en formato\n",
    "#JSON directamente en vez de transformarlo a str\n",
    "\n",
    "#import urllib2\n",
    "import requests\n",
    "URL_SENTIMENT140 = \"http://www.sentiment140.com/api/bulkClassifyJson\"\n",
    "###req = urllib.request.http.client.Request(URL_SENTIMENT140)\n",
    "###req.add_header('Content-Type', 'application/json')\n",
    "###response = urllib2.urlopen(req, str(result))\n",
    "outsentiments = dict()\n",
    "for proglang in insentiments.keys():\n",
    "    response = requests.post(URL_SENTIMENT140, insentiments[proglang]['es'])\n",
    "    es = dict()\n",
    "    es['negative'], es['positive'] = parse_response(response.json())\n",
    "    outsentiments[proglang] = {'es': es}\n",
    "    response = requests.post(URL_SENTIMENT140, insentiments[proglang]['en'])\n",
    "    en = dict()\n",
    "    en['negative'], en['positive'] = parse_response(response.json())\n",
    "    # Ojo, no se reemplaza\n",
    "    outsentiments[proglang].update({'en' : en})"
   ]
  },
  {
   "cell_type": "markdown",
   "metadata": {},
   "source": [
    "###TODO: Cambiar los diccionarios por un DataFrame digamos plano\n",
    " \n",
    "|Programming language | language | negative | positive |\n",
    "|---------------------|:--------:|---------:|---------:|\n",
    "|         x           |    x     |     x    |    x     |"
   ]
  },
  {
   "cell_type": "code",
   "execution_count": 97,
   "metadata": {
    "collapsed": false
   },
   "outputs": [
    {
     "data": {
      "text/html": [
       "<div style=\"max-height:1000px;max-width:1500px;overflow:auto;\">\n",
       "<table border=\"1\" class=\"dataframe\">\n",
       "  <thead>\n",
       "    <tr style=\"text-align: right;\">\n",
       "      <th></th>\n",
       "      <th>java</th>\n",
       "      <th>javascript</th>\n",
       "      <th>python</th>\n",
       "    </tr>\n",
       "  </thead>\n",
       "  <tbody>\n",
       "    <tr>\n",
       "      <th>en</th>\n",
       "      <td>{'positive': 66, 'negative': 15}</td>\n",
       "      <td>{'positive': 3, 'negative': 0}</td>\n",
       "      <td>{'positive': 66, 'negative': 3}</td>\n",
       "    </tr>\n",
       "    <tr>\n",
       "      <th>es</th>\n",
       "      <td>{'positive': 1, 'negative': 0}</td>\n",
       "      <td>{'positive': 0, 'negative': 0}</td>\n",
       "      <td>{'positive': 0, 'negative': 0}</td>\n",
       "    </tr>\n",
       "  </tbody>\n",
       "</table>\n",
       "</div>"
      ],
      "text/plain": [
       "                                java                      javascript  \\\n",
       "en  {'positive': 66, 'negative': 15}  {'positive': 3, 'negative': 0}   \n",
       "es    {'positive': 1, 'negative': 0}  {'positive': 0, 'negative': 0}   \n",
       "\n",
       "                             python  \n",
       "en  {'positive': 66, 'negative': 3}  \n",
       "es   {'positive': 0, 'negative': 0}  "
      ]
     },
     "execution_count": 97,
     "metadata": {},
     "output_type": "execute_result"
    }
   ],
   "source": [
    "# Solo para presentación legible\n",
    "pd.DataFrame(outsentiments)"
   ]
  },
  {
   "cell_type": "code",
   "execution_count": 102,
   "metadata": {
    "collapsed": false
   },
   "outputs": [
    {
     "ename": "TypeError",
     "evalue": "Empty 'DataFrame': no numeric data to plot",
     "output_type": "error",
     "traceback": [
      "\u001b[1;31m---------------------------------------------------------------------------\u001b[0m",
      "\u001b[1;31mTypeError\u001b[0m                                 Traceback (most recent call last)",
      "\u001b[1;32m<ipython-input-102-ddd1ce74a602>\u001b[0m in \u001b[0;36m<module>\u001b[1;34m()\u001b[0m\n\u001b[0;32m      1\u001b[0m \u001b[0mx\u001b[0m\u001b[1;33m=\u001b[0m\u001b[0mpd\u001b[0m\u001b[1;33m.\u001b[0m\u001b[0mDataFrame\u001b[0m\u001b[1;33m(\u001b[0m\u001b[0moutsentiments\u001b[0m\u001b[1;33m)\u001b[0m\u001b[1;33m\u001b[0m\u001b[0m\n\u001b[1;32m----> 2\u001b[1;33m \u001b[0mx\u001b[0m\u001b[1;33m.\u001b[0m\u001b[0mplot\u001b[0m\u001b[1;33m(\u001b[0m\u001b[1;33m)\u001b[0m\u001b[1;33m\u001b[0m\u001b[0m\n\u001b[0m",
      "\u001b[1;32m/home/miltonlab/anaconda3/lib/python3.4/site-packages/pandas/tools/plotting.py\u001b[0m in \u001b[0;36mplot_frame\u001b[1;34m(data, x, y, kind, ax, subplots, sharex, sharey, layout, figsize, use_index, title, grid, legend, style, logx, logy, loglog, xticks, yticks, xlim, ylim, rot, fontsize, colormap, table, yerr, xerr, secondary_y, sort_columns, **kwds)\u001b[0m\n\u001b[0;32m   2483\u001b[0m                  \u001b[0myerr\u001b[0m\u001b[1;33m=\u001b[0m\u001b[0myerr\u001b[0m\u001b[1;33m,\u001b[0m \u001b[0mxerr\u001b[0m\u001b[1;33m=\u001b[0m\u001b[0mxerr\u001b[0m\u001b[1;33m,\u001b[0m\u001b[1;33m\u001b[0m\u001b[0m\n\u001b[0;32m   2484\u001b[0m                  \u001b[0msecondary_y\u001b[0m\u001b[1;33m=\u001b[0m\u001b[0msecondary_y\u001b[0m\u001b[1;33m,\u001b[0m \u001b[0msort_columns\u001b[0m\u001b[1;33m=\u001b[0m\u001b[0msort_columns\u001b[0m\u001b[1;33m,\u001b[0m\u001b[1;33m\u001b[0m\u001b[0m\n\u001b[1;32m-> 2485\u001b[1;33m                  **kwds)\n\u001b[0m\u001b[0;32m   2486\u001b[0m \u001b[1;33m\u001b[0m\u001b[0m\n\u001b[0;32m   2487\u001b[0m \u001b[1;33m\u001b[0m\u001b[0m\n",
      "\u001b[1;32m/home/miltonlab/anaconda3/lib/python3.4/site-packages/pandas/tools/plotting.py\u001b[0m in \u001b[0;36m_plot\u001b[1;34m(data, x, y, subplots, ax, kind, **kwds)\u001b[0m\n\u001b[0;32m   2323\u001b[0m         \u001b[0mplot_obj\u001b[0m \u001b[1;33m=\u001b[0m \u001b[0mklass\u001b[0m\u001b[1;33m(\u001b[0m\u001b[0mdata\u001b[0m\u001b[1;33m,\u001b[0m \u001b[0msubplots\u001b[0m\u001b[1;33m=\u001b[0m\u001b[0msubplots\u001b[0m\u001b[1;33m,\u001b[0m \u001b[0max\u001b[0m\u001b[1;33m=\u001b[0m\u001b[0max\u001b[0m\u001b[1;33m,\u001b[0m \u001b[0mkind\u001b[0m\u001b[1;33m=\u001b[0m\u001b[0mkind\u001b[0m\u001b[1;33m,\u001b[0m \u001b[1;33m**\u001b[0m\u001b[0mkwds\u001b[0m\u001b[1;33m)\u001b[0m\u001b[1;33m\u001b[0m\u001b[0m\n\u001b[0;32m   2324\u001b[0m \u001b[1;33m\u001b[0m\u001b[0m\n\u001b[1;32m-> 2325\u001b[1;33m     \u001b[0mplot_obj\u001b[0m\u001b[1;33m.\u001b[0m\u001b[0mgenerate\u001b[0m\u001b[1;33m(\u001b[0m\u001b[1;33m)\u001b[0m\u001b[1;33m\u001b[0m\u001b[0m\n\u001b[0m\u001b[0;32m   2326\u001b[0m     \u001b[0mplot_obj\u001b[0m\u001b[1;33m.\u001b[0m\u001b[0mdraw\u001b[0m\u001b[1;33m(\u001b[0m\u001b[1;33m)\u001b[0m\u001b[1;33m\u001b[0m\u001b[0m\n\u001b[0;32m   2327\u001b[0m     \u001b[1;32mreturn\u001b[0m \u001b[0mplot_obj\u001b[0m\u001b[1;33m.\u001b[0m\u001b[0mresult\u001b[0m\u001b[1;33m\u001b[0m\u001b[0m\n",
      "\u001b[1;32m/home/miltonlab/anaconda3/lib/python3.4/site-packages/pandas/tools/plotting.py\u001b[0m in \u001b[0;36mgenerate\u001b[1;34m(self)\u001b[0m\n\u001b[0;32m    919\u001b[0m     \u001b[1;32mdef\u001b[0m \u001b[0mgenerate\u001b[0m\u001b[1;33m(\u001b[0m\u001b[0mself\u001b[0m\u001b[1;33m)\u001b[0m\u001b[1;33m:\u001b[0m\u001b[1;33m\u001b[0m\u001b[0m\n\u001b[0;32m    920\u001b[0m         \u001b[0mself\u001b[0m\u001b[1;33m.\u001b[0m\u001b[0m_args_adjust\u001b[0m\u001b[1;33m(\u001b[0m\u001b[1;33m)\u001b[0m\u001b[1;33m\u001b[0m\u001b[0m\n\u001b[1;32m--> 921\u001b[1;33m         \u001b[0mself\u001b[0m\u001b[1;33m.\u001b[0m\u001b[0m_compute_plot_data\u001b[0m\u001b[1;33m(\u001b[0m\u001b[1;33m)\u001b[0m\u001b[1;33m\u001b[0m\u001b[0m\n\u001b[0m\u001b[0;32m    922\u001b[0m         \u001b[0mself\u001b[0m\u001b[1;33m.\u001b[0m\u001b[0m_setup_subplots\u001b[0m\u001b[1;33m(\u001b[0m\u001b[1;33m)\u001b[0m\u001b[1;33m\u001b[0m\u001b[0m\n\u001b[0;32m    923\u001b[0m         \u001b[0mself\u001b[0m\u001b[1;33m.\u001b[0m\u001b[0m_make_plot\u001b[0m\u001b[1;33m(\u001b[0m\u001b[1;33m)\u001b[0m\u001b[1;33m\u001b[0m\u001b[0m\n",
      "\u001b[1;32m/home/miltonlab/anaconda3/lib/python3.4/site-packages/pandas/tools/plotting.py\u001b[0m in \u001b[0;36m_compute_plot_data\u001b[1;34m(self)\u001b[0m\n\u001b[0;32m    995\u001b[0m         \u001b[1;32mif\u001b[0m \u001b[0mis_empty\u001b[0m\u001b[1;33m:\u001b[0m\u001b[1;33m\u001b[0m\u001b[0m\n\u001b[0;32m    996\u001b[0m             raise TypeError('Empty {0!r}: no numeric data to '\n\u001b[1;32m--> 997\u001b[1;33m                             'plot'.format(numeric_data.__class__.__name__))\n\u001b[0m\u001b[0;32m    998\u001b[0m \u001b[1;33m\u001b[0m\u001b[0m\n\u001b[0;32m    999\u001b[0m         \u001b[0mself\u001b[0m\u001b[1;33m.\u001b[0m\u001b[0mdata\u001b[0m \u001b[1;33m=\u001b[0m \u001b[0mnumeric_data\u001b[0m\u001b[1;33m\u001b[0m\u001b[0m\n",
      "\u001b[1;31mTypeError\u001b[0m: Empty 'DataFrame': no numeric data to plot"
     ]
    }
   ],
   "source": [
    "x=pd.DataFrame(outsentiments)\n",
    "x.plot()"
   ]
  },
  {
   "cell_type": "markdown",
   "metadata": {},
   "source": [
    "##Solo pruebas por separado ........"
   ]
  },
  {
   "cell_type": "code",
   "execution_count": 11,
   "metadata": {
    "collapsed": false
   },
   "outputs": [],
   "source": [
    "# partiendo el DataFrame para ls pruebas que siguen\n",
    "subtweets = tweets.ix[:10, ['text', 'language', 'query']]"
   ]
  },
  {
   "cell_type": "code",
   "execution_count": 12,
   "metadata": {
    "collapsed": false
   },
   "outputs": [
    {
     "data": {
      "text/plain": [
       "Index(['text', 'language', 'query'], dtype='object')"
      ]
     },
     "execution_count": 12,
     "metadata": {},
     "output_type": "execute_result"
    }
   ],
   "source": [
    "subtweets.columns"
   ]
  },
  {
   "cell_type": "code",
   "execution_count": null,
   "metadata": {
    "collapsed": false
   },
   "outputs": [],
   "source": [
    "###ERROR\n",
    "#quitamos los indices acarreados del pandas.DataFrame\n",
    "jsontweets = subtweets.to_json(orient=\"records\")\n",
    "#strweets = json.dumps(jsontweets)"
   ]
  },
  {
   "cell_type": "code",
   "execution_count": 13,
   "metadata": {
    "collapsed": false
   },
   "outputs": [
    {
     "data": {
      "text/plain": [
       "'[{\"text\":\"threadly 0.6.0: Threading pool and scheduler for python http:\\\\/\\\\/t.co\\\\/lH4M1fg9Yk\",\"lang\":\"en\"},{\"text\":\"RT @grailsinfo: New Blog: Groovy now runs faster than Java on mobile http:\\\\/\\\\/t.co\\\\/16nlVqlSAK #groovy #grails\",\"lang\":\"en\"},{\"text\":\"RT @josevalim: Elixir has ideas from Java, C#, Python, Ruby, Haskell, F#, etc. Never stop looking at what other communities are doing!\",\"lang\":\"en\"},{\"text\":\"@JESUSGAMER444  https:\\\\/\\\\/t.co\\\\/dmZXwJAKwN    https:\\\\/\\\\/t.co\\\\/Gz66mpR9xt te descargas el launcher y ocupas de tener java 7\",\"lang\":\"es\"},{\"text\":\"Deal! Learn for $10 Only: Game Development Fundamentals with Python http:\\\\/\\\\/t.co\\\\/ebjuNaGSCT\",\"lang\":\"en\"},{\"text\":\"#Trabajo en #Badajoz Analista Programador C++ y\\\\/o ProC, Badajoz: Randstad Technologies Madrid \\\\u2013 Badajoz \\\\u2013 Astu\\\\u2026\\\\u2026 http:\\\\/\\\\/t.co\\\\/I6uff2V7KC\",\"lang\":\"es\"},{\"text\":\"RT @hseeberger: And the winners are ... #akka and #java 8. #jaxcon http:\\\\/\\\\/t.co\\\\/GqrkU3nyP1\",\"lang\":\"en\"},{\"text\":\"Prepared statements ftw #Java #MySQL\",\"lang\":\"en\"},{\"text\":\"PROGRAMADOR JAVA http:\\\\/\\\\/t.co\\\\/gkcMFoXaJs #empleo #trabajo #Madrid\\\\u00a0#empleomadrid http:\\\\/\\\\/t.co\\\\/dDXzXCwDBh\",\"lang\":\"es\"}]'"
      ]
     },
     "execution_count": 13,
     "metadata": {},
     "output_type": "execute_result"
    }
   ],
   "source": [
    "jsontweets"
   ]
  },
  {
   "cell_type": "code",
   "execution_count": 14,
   "metadata": {
    "collapsed": false
   },
   "outputs": [],
   "source": [
    "#acomodamos la data para formatearla de acuerdo a lo que pide la app sentiment140\n",
    "# problemas de colición entre el objeto json y el metodo format() de python3\n",
    "strweets = '{\"language\" : \"auto\", \"data\" : %s }' % jsontweets"
   ]
  },
  {
   "cell_type": "code",
   "execution_count": 15,
   "metadata": {
    "collapsed": false
   },
   "outputs": [
    {
     "data": {
      "text/plain": [
       "'{\"language\" : \"auto\", \"data\" : [{\"text\":\"threadly 0.6.0: Threading pool and scheduler for python http:\\\\/\\\\/t.co\\\\/lH4M1fg9Yk\",\"lang\":\"en\"},{\"text\":\"RT @grailsinfo: New Blog: Groovy now runs faster than Java on mobile http:\\\\/\\\\/t.co\\\\/16nlVqlSAK #groovy #grails\",\"lang\":\"en\"},{\"text\":\"RT @josevalim: Elixir has ideas from Java, C#, Python, Ruby, Haskell, F#, etc. Never stop looking at what other communities are doing!\",\"lang\":\"en\"},{\"text\":\"@JESUSGAMER444  https:\\\\/\\\\/t.co\\\\/dmZXwJAKwN    https:\\\\/\\\\/t.co\\\\/Gz66mpR9xt te descargas el launcher y ocupas de tener java 7\",\"lang\":\"es\"},{\"text\":\"Deal! Learn for $10 Only: Game Development Fundamentals with Python http:\\\\/\\\\/t.co\\\\/ebjuNaGSCT\",\"lang\":\"en\"},{\"text\":\"#Trabajo en #Badajoz Analista Programador C++ y\\\\/o ProC, Badajoz: Randstad Technologies Madrid \\\\u2013 Badajoz \\\\u2013 Astu\\\\u2026\\\\u2026 http:\\\\/\\\\/t.co\\\\/I6uff2V7KC\",\"lang\":\"es\"},{\"text\":\"RT @hseeberger: And the winners are ... #akka and #java 8. #jaxcon http:\\\\/\\\\/t.co\\\\/GqrkU3nyP1\",\"lang\":\"en\"},{\"text\":\"Prepared statements ftw #Java #MySQL\",\"lang\":\"en\"},{\"text\":\"PROGRAMADOR JAVA http:\\\\/\\\\/t.co\\\\/gkcMFoXaJs #empleo #trabajo #Madrid\\\\u00a0#empleomadrid http:\\\\/\\\\/t.co\\\\/dDXzXCwDBh\",\"lang\":\"es\"}] }'"
      ]
     },
     "execution_count": 15,
     "metadata": {},
     "output_type": "execute_result"
    }
   ],
   "source": [
    "strweets"
   ]
  },
  {
   "cell_type": "code",
   "execution_count": 16,
   "metadata": {
    "collapsed": false
   },
   "outputs": [],
   "source": [
    "#La version del articulo de Fernando Marengo  usa urllib2\n",
    "#intentamos en nuestra version usar algo mas moderno para enviar la data en formato\n",
    "#JSON directamente en vez de transformarlo a str\n",
    "\n",
    "#import urllib2\n",
    "import requests\n",
    "URL_SENTIMENT140 = \"http://www.sentiment140.com/api/bulkClassifyJson\"\n",
    "###req = urllib.request.http.client.Request(URL_SENTIMENT140)\n",
    "###req.add_header('Content-Type', 'application/json')\n",
    "response = requests.post(URL_SENTIMENT140, strweets)\n",
    "###response = urllib2.urlopen(req, str(result))"
   ]
  },
  {
   "cell_type": "code",
   "execution_count": 17,
   "metadata": {
    "collapsed": false
   },
   "outputs": [],
   "source": [
    "#Version del articulo original usa reponse.read()\n",
    "#ahora usamos json , alternativa moderna\n",
    "jsonresponse = response.json()"
   ]
  },
  {
   "cell_type": "code",
   "execution_count": 18,
   "metadata": {
    "collapsed": false
   },
   "outputs": [
    {
     "data": {
      "text/plain": [
       "{'data': [{'lang': 'en',\n",
       "   'meta': {'language': 'en'},\n",
       "   'polarity': 2,\n",
       "   'text': 'threadly 0.6.0: Threading pool and scheduler for python http://t.co/lH4M1fg9Yk'},\n",
       "  {'lang': 'en',\n",
       "   'meta': {'language': 'en'},\n",
       "   'polarity': 2,\n",
       "   'text': 'RT @grailsinfo: New Blog: Groovy now runs faster than Java on mobile http://t.co/16nlVqlSAK #groovy #grails'},\n",
       "  {'lang': 'en',\n",
       "   'meta': {'language': 'en'},\n",
       "   'polarity': 2,\n",
       "   'text': 'RT @josevalim: Elixir has ideas from Java, C#, Python, Ruby, Haskell, F#, etc. Never stop looking at what other communities are doing!'},\n",
       "  {'lang': 'es',\n",
       "   'meta': {'language': 'es'},\n",
       "   'polarity': 2,\n",
       "   'text': '@JESUSGAMER444  https://t.co/dmZXwJAKwN    https://t.co/Gz66mpR9xt te descargas el launcher y ocupas de tener java 7'},\n",
       "  {'lang': 'en',\n",
       "   'meta': {'headline': True, 'language': 'en'},\n",
       "   'polarity': 2,\n",
       "   'text': 'Deal! Learn for $10 Only: Game Development Fundamentals with Python http://t.co/ebjuNaGSCT'},\n",
       "  {'lang': 'es',\n",
       "   'meta': {'language': 'es'},\n",
       "   'polarity': 2,\n",
       "   'text': '#Trabajo en #Badajoz Analista Programador C++ y/o ProC, Badajoz: Randstad Technologies Madrid – Badajoz – Astu…… http://t.co/I6uff2V7KC'},\n",
       "  {'lang': 'en',\n",
       "   'meta': {'language': 'en'},\n",
       "   'polarity': 2,\n",
       "   'text': 'RT @hseeberger: And the winners are ... #akka and #java 8. #jaxcon http://t.co/GqrkU3nyP1'},\n",
       "  {'lang': 'en',\n",
       "   'meta': {'language': 'en'},\n",
       "   'polarity': 2,\n",
       "   'text': 'Prepared statements ftw #Java #MySQL'},\n",
       "  {'lang': 'es',\n",
       "   'meta': {'headline': True, 'language': 'es'},\n",
       "   'polarity': 2,\n",
       "   'text': 'PROGRAMADOR JAVA http://t.co/gkcMFoXaJs #empleo #trabajo #Madrid\\xa0#empleomadrid http://t.co/dDXzXCwDBh'}],\n",
       " 'language': 'auto'}"
      ]
     },
     "execution_count": 18,
     "metadata": {},
     "output_type": "execute_result"
    }
   ],
   "source": [
    "jsonresponse"
   ]
  },
  {
   "cell_type": "markdown",
   "metadata": {},
   "source": [
    "The polarity values are: \n",
    "* 0: negative\n",
    "* 2: neutral\n",
    "* 4: positive"
   ]
  },
  {
   "cell_type": "code",
   "execution_count": 22,
   "metadata": {
    "collapsed": true
   },
   "outputs": [],
   "source": [
    "def parse_response(json_response):\n",
    "    # obviamos los valores neutrales\n",
    "    negative_tweets, positive_tweets = 0, 0\n",
    "    for t in json_response[\"data\"]:\n",
    "        if int(t[\"polarity\"]) == 0:\n",
    "            negative_tweets += 1\n",
    "        elif int(t[\"polarity\"]) == 4:\n",
    "            positive_tweets += 1\n",
    "    return negative_tweets, positive_tweets"
   ]
  },
  {
   "cell_type": "code",
   "execution_count": 23,
   "metadata": {
    "collapsed": false
   },
   "outputs": [
    {
     "data": {
      "text/plain": [
       "(0, 0)"
      ]
     },
     "execution_count": 23,
     "metadata": {},
     "output_type": "execute_result"
    }
   ],
   "source": [
    "parse_response(jsonresponse)"
   ]
  }
 ],
 "metadata": {
  "kernelspec": {
   "display_name": "Python 3",
   "language": "python",
   "name": "python3"
  },
  "language_info": {
   "codemirror_mode": {
    "name": "ipython",
    "version": 3
   },
   "file_extension": ".py",
   "mimetype": "text/x-python",
   "name": "python",
   "nbconvert_exporter": "python",
   "pygments_lexer": "ipython3",
   "version": "3.4.3"
  }
 },
 "nbformat": 4,
 "nbformat_minor": 0
}
