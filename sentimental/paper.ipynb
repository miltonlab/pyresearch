{
 "cells": [
  {
   "cell_type": "markdown",
   "metadata": {},
   "source": [
    "###Lenguajes seleccionados: Java, Python, C#, C++"
   ]
  },
  {
   "cell_type": "code",
   "execution_count": 1,
   "metadata": {
    "collapsed": false
   },
   "outputs": [
    {
     "name": "stdout",
     "output_type": "stream",
     "text": [
      "1598\n",
      "355\n",
      "812\n",
      "23\n"
     ]
    }
   ],
   "source": [
    "# -*- coding: utf-8 -*-\n",
    "\n",
    "#lectura de datos \n",
    "\n",
    "import json\n",
    "dataset_path = \"dataset-230415-11.56.txt\"\n",
    "data = []\n",
    "f = open(dataset_path, \"r\")\n",
    "for line in f:\n",
    "\ttry:\n",
    "\t\ttweet = json.loads(line)\n",
    "\t\tdata.append(tweet)\n",
    "\texcept Exception as ex:\n",
    "\t\t#print(\"Error :\", ex)\n",
    "\t\tcontinue\n",
    "print(len(data))\n",
    "f.close()\n",
    "import pandas as pd\n",
    "tweets = pd.DataFrame()\n",
    "tweets['text'] = [t['text'] for t in data]\n",
    "#TODO: change lang by language at new reload\n",
    "tweets['language'] = [t['lang'] for t in data]\n",
    "tweets['country'] = [t['place']['country'] if t['place'] else None for t in data]\n",
    "\n",
    "# function to search keyword programming languag in text\n",
    "import re\n",
    "def word_in_text(word, text):\n",
    "    word = word.lower()\n",
    "    text = text.lower()\n",
    "    match = re.search(word+\" \", text)\n",
    "    if match:\n",
    "        return True\n",
    "    return False\n",
    "\n",
    "# En la columna text de nuestro DataFrame buscamos las ocurrencias de cada palabra a analizar \n",
    "# ... Incluir posible grafico\n",
    "#TODO: #java #python #javascript\n",
    "tweets['python'] = tweets['text'].apply(lambda tweet: word_in_text('python', tweet))\n",
    "tweets['java'] = tweets['text'].apply(lambda tweet: word_in_text('java', tweet))\n",
    "tweets['javascript'] = tweets['text'].apply(lambda tweet: word_in_text('javascript', tweet))\n",
    "\n",
    "# Contabilizando \n",
    "print (tweets['python'].value_counts()[True])\n",
    "print (tweets['java'].value_counts()[True])\n",
    "print (tweets['javascript'].value_counts()[True])\n",
    "\n",
    "tweets_by_prg_lang_count1 = (tweets['python'].value_counts()[True], tweets['java'].value_counts()[True], tweets['javascript'].value_counts()[True])\n",
    "#prg_langs = ('python', 'java', 'javascript')\n",
    "# diccionario para describir mejor los datos de los lenguajes de programación durante\n",
    "# la búsqueda en el dataset\n",
    "proglangs = {'python':'python', 'java':'java', 'javascript':'javascript'}\n",
    "x = list(range(len(proglangs)))"
   ]
  },
  {
   "cell_type": "code",
   "execution_count": 17,
   "metadata": {
    "collapsed": false,
    "scrolled": true
   },
   "outputs": [
    {
     "data": {
      "image/png": "[encoded data removed]",
      "text/plain": [
       "<matplotlib.figure.Figure at 0x7f59abe6a2b0>"
      ]
     },
     "metadata": {},
     "output_type": "display_data"
    }
   ],
   "source": [
    "# Plotting\n",
    "#import matplotlib.pyplot as plt\n",
    "%matplotlib inline\n",
    "#revisar \n",
    "import matplotlib.pyplot as plt\n",
    "fig, axis =  plt.subplots()\n",
    "plt.bar(x, tweets_by_prg_lang_count1, 0.8, alpha=1, color='#C15B93')\n",
    "\n",
    "axis.set_ylabel('Numero de tweets', fontsize=15)\n",
    "axis.set_title('Ranking: python vs. java vs javascript (Raw data)')\n",
    "axis.set_xticks([p + 0.4 * 0.8 for p in x])\n",
    "axis.set_xticklabels(list(proglangs.keys()))\n",
    "plt.style.use('ggplot')\n",
    "plt.grid()"
   ]
  },
  {
   "cell_type": "markdown",
   "metadata": {
    "collapsed": true
   },
   "source": [
    "Ahora vamos a focalizarnos en tweets  que tengan que ver más con lenguajes de programación en sí, seleccionando por ejemplo aquellos tweets que contengan las palabras clave: \"programming\" o \"programacion\" teniendo cuidado además de las tildes"
   ]
  },
  {
   "cell_type": "code",
   "execution_count": 4,
   "metadata": {
    "collapsed": true
   },
   "outputs": [],
   "source": [
    "tweets[\"programming\"] = tweets['text'].apply(lambda t: word_in_text('programming',t))\n",
    "tweets[\"programación\"] = tweets['text'].apply(lambda t: word_in_text('programación',t))\n",
    "tweets[\"programacion\"] = tweets['text'].apply(lambda t: word_in_text('programacion',t))\n",
    "tweets[\"relevante\"] = tweets['text'].apply(lambda t: word_in_text('programming',t) \n",
    "                                            or word_in_text('programación',t)\n",
    "                                            or word_in_text('programacion',t))"
   ]
  },
  {
   "cell_type": "code",
   "execution_count": 5,
   "metadata": {
    "collapsed": false
   },
   "outputs": [
    {
     "data": {
      "text/html": [
       "<div>\n",
       "<table border=\"1\" class=\"dataframe\">\n",
       "  <thead>\n",
       "    <tr style=\"text-align: right;\">\n",
       "      <th></th>\n",
       "      <th>text</th>\n",
       "      <th>language</th>\n",
       "      <th>country</th>\n",
       "      <th>python</th>\n",
       "      <th>java</th>\n",
       "      <th>javascript</th>\n",
       "      <th>programming</th>\n",
       "      <th>programación</th>\n",
       "      <th>programacion</th>\n",
       "      <th>relevante</th>\n",
       "    </tr>\n",
       "  </thead>\n",
       "  <tbody>\n",
       "    <tr>\n",
       "      <th>26</th>\n",
       "      <td>Developing Scalable Apps in #Python\\nwith #Goo...</td>\n",
       "      <td>en</td>\n",
       "      <td>None</td>\n",
       "      <td>False</td>\n",
       "      <td>False</td>\n",
       "      <td>False</td>\n",
       "      <td>True</td>\n",
       "      <td>False</td>\n",
       "      <td>False</td>\n",
       "      <td>True</td>\n",
       "    </tr>\n",
       "    <tr>\n",
       "      <th>66</th>\n",
       "      <td>RT @devbattles: How I Learned to Stop Worrying...</td>\n",
       "      <td>en</td>\n",
       "      <td>None</td>\n",
       "      <td>True</td>\n",
       "      <td>False</td>\n",
       "      <td>False</td>\n",
       "      <td>True</td>\n",
       "      <td>False</td>\n",
       "      <td>False</td>\n",
       "      <td>True</td>\n",
       "    </tr>\n",
       "    <tr>\n",
       "      <th>110</th>\n",
       "      <td>RT @imissyouoa: #linux Qt Creator 3.4 Brings C...</td>\n",
       "      <td>en</td>\n",
       "      <td>None</td>\n",
       "      <td>False</td>\n",
       "      <td>False</td>\n",
       "      <td>False</td>\n",
       "      <td>True</td>\n",
       "      <td>False</td>\n",
       "      <td>False</td>\n",
       "      <td>True</td>\n",
       "    </tr>\n",
       "    <tr>\n",
       "      <th>149</th>\n",
       "      <td>Deal! Learn for $49 Only: Step By Step Java Pr...</td>\n",
       "      <td>en</td>\n",
       "      <td>None</td>\n",
       "      <td>False</td>\n",
       "      <td>True</td>\n",
       "      <td>False</td>\n",
       "      <td>True</td>\n",
       "      <td>False</td>\n",
       "      <td>False</td>\n",
       "      <td>True</td>\n",
       "    </tr>\n",
       "    <tr>\n",
       "      <th>179</th>\n",
       "      <td>@_ruunyan I WAS TALKING ABOUT THE PROGRAMMING ...</td>\n",
       "      <td>en</td>\n",
       "      <td>None</td>\n",
       "      <td>True</td>\n",
       "      <td>False</td>\n",
       "      <td>False</td>\n",
       "      <td>True</td>\n",
       "      <td>False</td>\n",
       "      <td>False</td>\n",
       "      <td>True</td>\n",
       "    </tr>\n",
       "  </tbody>\n",
       "</table>\n",
       "</div>"
      ],
      "text/plain": [
       "                                                  text language country  \\\n",
       "26   Developing Scalable Apps in #Python\\nwith #Goo...       en    None   \n",
       "66   RT @devbattles: How I Learned to Stop Worrying...       en    None   \n",
       "110  RT @imissyouoa: #linux Qt Creator 3.4 Brings C...       en    None   \n",
       "149  Deal! Learn for $49 Only: Step By Step Java Pr...       en    None   \n",
       "179  @_ruunyan I WAS TALKING ABOUT THE PROGRAMMING ...       en    None   \n",
       "\n",
       "    python   java javascript programming programación programacion relevante  \n",
       "26   False  False      False        True        False        False      True  \n",
       "66    True  False      False        True        False        False      True  \n",
       "110  False  False      False        True        False        False      True  \n",
       "149  False   True      False        True        False        False      True  \n",
       "179   True  False      False        True        False        False      True  "
      ]
     },
     "execution_count": 5,
     "metadata": {},
     "output_type": "execute_result"
    }
   ],
   "source": [
    "#Nos quedamos solo con los tweets relevantes\n",
    "tweets = tweets[tweets[\"relevante\"] == True]\n",
    "tweets[:5]"
   ]
  },
  {
   "cell_type": "markdown",
   "metadata": {},
   "source": [
    "Ahora podemos observar que la cantidad de tweets relevantes, relacionados con temas de programación,\n",
    "entre java y python difieren únicamente en uno"
   ]
  },
  {
   "cell_type": "code",
   "execution_count": 6,
   "metadata": {
    "collapsed": false
   },
   "outputs": [
    {
     "name": "stdout",
     "output_type": "stream",
     "text": [
      "10\n",
      "11\n",
      "1\n"
     ]
    }
   ],
   "source": [
    "###print (tweets[tweets['relevante'] == True]['python'].value_counts()[True])\n",
    "###print (tweets[tweets['relevante'] == True]['java'].value_counts()[True])\n",
    "###print (tweets[tweets['relevante'] == True]['javascript'].value_counts()[True])\n",
    "print (tweets['python'].value_counts()[True])\n",
    "print (tweets['java'].value_counts()[True])\n",
    "print (tweets['javascript'].value_counts()[True])"
   ]
  },
  {
   "cell_type": "code",
   "execution_count": 18,
   "metadata": {
    "collapsed": false
   },
   "outputs": [
    {
     "data": {
      "image/png": "[encoded data removed]",
      "text/plain": [
       "<matplotlib.figure.Figure at 0x7f59abf0b6d8>"
      ]
     },
     "metadata": {},
     "output_type": "display_data"
    }
   ],
   "source": [
    "tweets_by_prg_lang_count = [tweets[tweets['relevante'] == True]['python'].value_counts()[True], \n",
    "                      tweets[tweets['relevante'] == True]['java'].value_counts()[True], \n",
    "                      tweets[tweets['relevante'] == True]['javascript'].value_counts()[True]]\n",
    "x_pos = list(range(len(proglangs)))\n",
    "width = 0.8\n",
    "fig, ax = plt.subplots()\n",
    "plt.bar(x_pos, tweets_by_prg_lang_count, width,alpha=1,color='#C15B93')\n",
    "ax.set_ylabel('Number of tweets', fontsize=15)\n",
    "ax.set_title('Ranking: python vs. javascript vs. ruby (Relevant data)', fontsize=10, fontweight='bold')\n",
    "ax.set_xticks([p + 0.4 * width for p in x_pos])\n",
    "ax.set_xticklabels(list(proglangs.keys()))\n",
    "plt.grid()"
   ]
  },
  {
   "cell_type": "code",
   "execution_count": 8,
   "metadata": {
    "collapsed": false
   },
   "outputs": [
    {
     "data": {
      "text/plain": [
       "[10, 11, 1]"
      ]
     },
     "execution_count": 8,
     "metadata": {},
     "output_type": "execute_result"
    }
   ],
   "source": [
    "tweets_by_prg_lang_count[:10]"
   ]
  },
  {
   "cell_type": "code",
   "execution_count": 8,
   "metadata": {
    "collapsed": false
   },
   "outputs": [],
   "source": [
    "#TODO: tweets['programming'==True or 'programacion'==True]\n",
    "#tweets['programming'].value_counts()[True]\n",
    "#tweets['programming'].value_counts().get(True,0)\n",
    "# Se necesita prevenir el caso en el que no existan datos para las palabras clave buscadas\n",
    "#tweets['programación'].value_counts().get(True,0)"
   ]
  },
  {
   "cell_type": "markdown",
   "metadata": {},
   "source": [
    "Filtramos los lenguajes del texto  para el posterior análisis sentimental, error 'aux'"
   ]
  },
  {
   "cell_type": "code",
   "execution_count": 9,
   "metadata": {
    "collapsed": false
   },
   "outputs": [],
   "source": [
    "###aux = tweets\n",
    "tweets = tweets[(tweets.language == 'es') | (tweets.language == 'en')]"
   ]
  },
  {
   "cell_type": "code",
   "execution_count": 10,
   "metadata": {
    "collapsed": false
   },
   "outputs": [
    {
     "data": {
      "text/html": [
       "<div>\n",
       "<table border=\"1\" class=\"dataframe\">\n",
       "  <thead>\n",
       "    <tr style=\"text-align: right;\">\n",
       "      <th></th>\n",
       "      <th>text</th>\n",
       "      <th>language</th>\n",
       "      <th>country</th>\n",
       "      <th>python</th>\n",
       "      <th>java</th>\n",
       "      <th>javascript</th>\n",
       "      <th>programming</th>\n",
       "      <th>programación</th>\n",
       "      <th>programacion</th>\n",
       "      <th>relevante</th>\n",
       "    </tr>\n",
       "  </thead>\n",
       "  <tbody>\n",
       "    <tr>\n",
       "      <th>26</th>\n",
       "      <td>Developing Scalable Apps in #Python\\nwith #Goo...</td>\n",
       "      <td>en</td>\n",
       "      <td>None</td>\n",
       "      <td>False</td>\n",
       "      <td>False</td>\n",
       "      <td>False</td>\n",
       "      <td>True</td>\n",
       "      <td>False</td>\n",
       "      <td>False</td>\n",
       "      <td>True</td>\n",
       "    </tr>\n",
       "    <tr>\n",
       "      <th>66</th>\n",
       "      <td>RT @devbattles: How I Learned to Stop Worrying...</td>\n",
       "      <td>en</td>\n",
       "      <td>None</td>\n",
       "      <td>True</td>\n",
       "      <td>False</td>\n",
       "      <td>False</td>\n",
       "      <td>True</td>\n",
       "      <td>False</td>\n",
       "      <td>False</td>\n",
       "      <td>True</td>\n",
       "    </tr>\n",
       "    <tr>\n",
       "      <th>110</th>\n",
       "      <td>RT @imissyouoa: #linux Qt Creator 3.4 Brings C...</td>\n",
       "      <td>en</td>\n",
       "      <td>None</td>\n",
       "      <td>False</td>\n",
       "      <td>False</td>\n",
       "      <td>False</td>\n",
       "      <td>True</td>\n",
       "      <td>False</td>\n",
       "      <td>False</td>\n",
       "      <td>True</td>\n",
       "    </tr>\n",
       "    <tr>\n",
       "      <th>149</th>\n",
       "      <td>Deal! Learn for $49 Only: Step By Step Java Pr...</td>\n",
       "      <td>en</td>\n",
       "      <td>None</td>\n",
       "      <td>False</td>\n",
       "      <td>True</td>\n",
       "      <td>False</td>\n",
       "      <td>True</td>\n",
       "      <td>False</td>\n",
       "      <td>False</td>\n",
       "      <td>True</td>\n",
       "    </tr>\n",
       "    <tr>\n",
       "      <th>179</th>\n",
       "      <td>@_ruunyan I WAS TALKING ABOUT THE PROGRAMMING ...</td>\n",
       "      <td>en</td>\n",
       "      <td>None</td>\n",
       "      <td>True</td>\n",
       "      <td>False</td>\n",
       "      <td>False</td>\n",
       "      <td>True</td>\n",
       "      <td>False</td>\n",
       "      <td>False</td>\n",
       "      <td>True</td>\n",
       "    </tr>\n",
       "    <tr>\n",
       "      <th>250</th>\n",
       "      <td>i cant do this java programming i quit</td>\n",
       "      <td>en</td>\n",
       "      <td>None</td>\n",
       "      <td>False</td>\n",
       "      <td>True</td>\n",
       "      <td>False</td>\n",
       "      <td>True</td>\n",
       "      <td>False</td>\n",
       "      <td>False</td>\n",
       "      <td>True</td>\n",
       "    </tr>\n",
       "    <tr>\n",
       "      <th>302</th>\n",
       "      <td>Deal! Learn for $10 Only: Intro to Java Progra...</td>\n",
       "      <td>en</td>\n",
       "      <td>None</td>\n",
       "      <td>False</td>\n",
       "      <td>True</td>\n",
       "      <td>False</td>\n",
       "      <td>True</td>\n",
       "      <td>False</td>\n",
       "      <td>False</td>\n",
       "      <td>True</td>\n",
       "    </tr>\n",
       "    <tr>\n",
       "      <th>397</th>\n",
       "      <td>Qt Creator 3.4 Brings C++ Programming Improvem...</td>\n",
       "      <td>en</td>\n",
       "      <td>None</td>\n",
       "      <td>False</td>\n",
       "      <td>False</td>\n",
       "      <td>False</td>\n",
       "      <td>True</td>\n",
       "      <td>False</td>\n",
       "      <td>False</td>\n",
       "      <td>True</td>\n",
       "    </tr>\n",
       "    <tr>\n",
       "      <th>440</th>\n",
       "      <td>Most shared #python #math #programming #statis...</td>\n",
       "      <td>en</td>\n",
       "      <td>None</td>\n",
       "      <td>True</td>\n",
       "      <td>False</td>\n",
       "      <td>False</td>\n",
       "      <td>True</td>\n",
       "      <td>False</td>\n",
       "      <td>False</td>\n",
       "      <td>True</td>\n",
       "    </tr>\n",
       "    <tr>\n",
       "      <th>468</th>\n",
       "      <td>Java Swing GUI Programming Lesson 7 List Boxes...</td>\n",
       "      <td>en</td>\n",
       "      <td>None</td>\n",
       "      <td>False</td>\n",
       "      <td>True</td>\n",
       "      <td>False</td>\n",
       "      <td>True</td>\n",
       "      <td>False</td>\n",
       "      <td>False</td>\n",
       "      <td>True</td>\n",
       "    </tr>\n",
       "  </tbody>\n",
       "</table>\n",
       "</div>"
      ],
      "text/plain": [
       "                                                  text language country  \\\n",
       "26   Developing Scalable Apps in #Python\\nwith #Goo...       en    None   \n",
       "66   RT @devbattles: How I Learned to Stop Worrying...       en    None   \n",
       "110  RT @imissyouoa: #linux Qt Creator 3.4 Brings C...       en    None   \n",
       "149  Deal! Learn for $49 Only: Step By Step Java Pr...       en    None   \n",
       "179  @_ruunyan I WAS TALKING ABOUT THE PROGRAMMING ...       en    None   \n",
       "250             i cant do this java programming i quit       en    None   \n",
       "302  Deal! Learn for $10 Only: Intro to Java Progra...       en    None   \n",
       "397  Qt Creator 3.4 Brings C++ Programming Improvem...       en    None   \n",
       "440  Most shared #python #math #programming #statis...       en    None   \n",
       "468  Java Swing GUI Programming Lesson 7 List Boxes...       en    None   \n",
       "\n",
       "    python   java javascript programming programación programacion relevante  \n",
       "26   False  False      False        True        False        False      True  \n",
       "66    True  False      False        True        False        False      True  \n",
       "110  False  False      False        True        False        False      True  \n",
       "149  False   True      False        True        False        False      True  \n",
       "179   True  False      False        True        False        False      True  \n",
       "250  False   True      False        True        False        False      True  \n",
       "302  False   True      False        True        False        False      True  \n",
       "397  False  False      False        True        False        False      True  \n",
       "440   True  False      False        True        False        False      True  \n",
       "468  False   True      False        True        False        False      True  "
      ]
     },
     "execution_count": 10,
     "metadata": {},
     "output_type": "execute_result"
    }
   ],
   "source": [
    "tweets[:10]"
   ]
  },
  {
   "cell_type": "markdown",
   "metadata": {},
   "source": [
    "##Preparación de la data para el análisis sentimental"
   ]
  },
  {
   "cell_type": "markdown",
   "metadata": {},
   "source": [
    "Por cada lenguaje de programación que se desea analizar creamos un diccionario con los datos\n",
    "necesarios para enviar al analizador sentimental. \n",
    "**Creando a la final un diccionario personalizado conteniendo principalmente los datos formateados como cadenas de acuerdo a como lo solicita el analizador sentiment140 **"
   ]
  },
  {
   "cell_type": "code",
   "execution_count": 11,
   "metadata": {
    "collapsed": false
   },
   "outputs": [],
   "source": [
    "insentiments = dict()\n",
    "for proglang in proglangs.keys():\n",
    "    # En español\n",
    "    chunk_es = tweets[(tweets[proglang] == True) & (tweets.language == 'es')]\n",
    "    chunk_es = chunk_es.ix[:,['text']]\n",
    "    chunk_es['query'] = proglang\n",
    "    insentiments[proglang] = {'es': '{\"language\": \"es\", \"data\": %s }' % \n",
    "                            chunk_es.to_json(orient='records')}\n",
    "    # Enn inglés\n",
    "    chunk_en = tweets[(tweets[proglang] == True) & (tweets.language == 'en')]\n",
    "    chunk_en = chunk_en.ix[:,['text']]\n",
    "    chunk_en['query'] = proglang\n",
    "    # ojo: no se reemplaza el contenido del diccionario sino que se agrega\n",
    "    insentiments[proglang].update({'en': '{\"language\": \"en\", \"data\": %s }' % \n",
    "                            chunk_en.to_json(orient='records')})"
   ]
  },
  {
   "cell_type": "markdown",
   "metadata": {},
   "source": [
    "###La estructura final de insentiment:"
   ]
  },
  {
   "cell_type": "code",
   "execution_count": null,
   "metadata": {
    "collapsed": true
   },
   "outputs": [],
   "source": [
    "{\n",
    "  \"java\": {\n",
    "    \"es\": \"{\\\"language\\\": \\\"es\\\", \\\"data\\\": [...] }\",\n",
    "    \"en\": \"{\\\"language\\\": \\\"en\\\", \\\"data\\\": [...] }\",\n",
    "        },\n",
    "  \"python\": {\n",
    "    \"es\": \"{\\\"language\\\": \\\"es\\\", \\\"data\\\": [...] }\",\n",
    "    \"en\": \"{\\\"language\\\": \\\"en\\\", \\\"data\\\": [...] }\",\n",
    "        },\n",
    "  \"javascript\": {\n",
    "    \"es\": \"{\\\"language\\\": \\\"es\\\", \\\"data\\\": [...] }\",\n",
    "    \"en\": \"{\\\"language\\\": \\\"en\\\", \\\"data\\\": [...] }\",\n",
    "        },\n",
    "}        "
   ]
  },
  {
   "cell_type": "markdown",
   "metadata": {},
   "source": [
    "###La estructura de el campo \"data\""
   ]
  },
  {
   "cell_type": "code",
   "execution_count": 37,
   "metadata": {
    "collapsed": false
   },
   "outputs": [
    {
     "data": {
      "text/plain": [
       "{'query': 'java', 'text': ' ... '}"
      ]
     },
     "execution_count": 37,
     "metadata": {},
     "output_type": "execute_result"
    }
   ],
   "source": [
    "{\"text\" : \" ... \", \"query\" : \"java\"}"
   ]
  },
  {
   "cell_type": "markdown",
   "metadata": {},
   "source": [
    "##Análisis Sentimental con la aplicación \"Sentiment140\""
   ]
  },
  {
   "cell_type": "code",
   "execution_count": 12,
   "metadata": {
    "collapsed": false
   },
   "outputs": [],
   "source": [
    "def parse_response(json_response):\n",
    "    # obviamos los valores neutrales\n",
    "    negative_tweets, positive_tweets = 0, 0\n",
    "    for t in json_response[\"data\"]:\n",
    "        if int(t[\"polarity\"]) == 0:\n",
    "            negative_tweets += 1\n",
    "        elif int(t[\"polarity\"]) == 4:\n",
    "            positive_tweets += 1\n",
    "    return negative_tweets, positive_tweets"
   ]
  },
  {
   "cell_type": "code",
   "execution_count": 13,
   "metadata": {
    "collapsed": false
   },
   "outputs": [],
   "source": [
    "#La version del articulo de Fernando Marengo  usa urllib2\n",
    "#intentamos en nuestra version usar algo mas moderno para enviar la data en formato\n",
    "#JSON directamente en vez de transformarlo a str\n",
    "\n",
    "#import urllib2\n",
    "import requests\n",
    "URL_SENTIMENT140 = \"http://www.sentiment140.com/api/bulkClassifyJson\"\n",
    "###req = urllib.request.http.client.Request(URL_SENTIMENT140)\n",
    "###req.add_header('Content-Type', 'application/json')\n",
    "###response = urllib2.urlopen(req, str(result))\n",
    "outsentiments = dict()\n",
    "sentiments = pd.DataFrame(columns=['Programming','Language', 'negative', 'positive'])\n",
    "for proglang in insentiments.keys():\n",
    "    response = requests.post(URL_SENTIMENT140, insentiments[proglang]['es'])\n",
    "    polarity = parse_response(response.json())\n",
    "    sentiments.loc[len(sentiments)] = [proglang, 'es', polarity[0], polarity[1]]\n",
    "    #es = dict()\n",
    "    #es['negative'], es['positive'] = parse_response(response.json())\n",
    "    #outsentiments[proglang] = {'es': es}\n",
    "    response = requests.post(URL_SENTIMENT140, insentiments[proglang]['en'])\n",
    "    polarity = parse_response(response.json())\n",
    "    sentiments.loc[len(sentiments)] = [proglang, 'en', polarity[0], polarity[1]]\n",
    "    #en = dict()\n",
    "    #en['negative'], en['positive'] = parse_response(response.json())\n",
    "    # Ojo, no se reemplaza\n",
    "    #outsentiments[proglang].update({'en' : en})"
   ]
  },
  {
   "cell_type": "code",
   "execution_count": 14,
   "metadata": {
    "collapsed": false
   },
   "outputs": [
    {
     "data": {
      "text/html": [
       "<div>\n",
       "<table border=\"1\" class=\"dataframe\">\n",
       "  <thead>\n",
       "    <tr style=\"text-align: right;\">\n",
       "      <th></th>\n",
       "      <th>Programming</th>\n",
       "      <th>Language</th>\n",
       "      <th>negative</th>\n",
       "      <th>positive</th>\n",
       "    </tr>\n",
       "  </thead>\n",
       "  <tbody>\n",
       "    <tr>\n",
       "      <th>0</th>\n",
       "      <td>java</td>\n",
       "      <td>es</td>\n",
       "      <td>0</td>\n",
       "      <td>0</td>\n",
       "    </tr>\n",
       "    <tr>\n",
       "      <th>1</th>\n",
       "      <td>java</td>\n",
       "      <td>en</td>\n",
       "      <td>2</td>\n",
       "      <td>2</td>\n",
       "    </tr>\n",
       "    <tr>\n",
       "      <th>2</th>\n",
       "      <td>javascript</td>\n",
       "      <td>es</td>\n",
       "      <td>0</td>\n",
       "      <td>0</td>\n",
       "    </tr>\n",
       "    <tr>\n",
       "      <th>3</th>\n",
       "      <td>javascript</td>\n",
       "      <td>en</td>\n",
       "      <td>0</td>\n",
       "      <td>1</td>\n",
       "    </tr>\n",
       "    <tr>\n",
       "      <th>4</th>\n",
       "      <td>python</td>\n",
       "      <td>es</td>\n",
       "      <td>0</td>\n",
       "      <td>0</td>\n",
       "    </tr>\n",
       "    <tr>\n",
       "      <th>5</th>\n",
       "      <td>python</td>\n",
       "      <td>en</td>\n",
       "      <td>0</td>\n",
       "      <td>4</td>\n",
       "    </tr>\n",
       "  </tbody>\n",
       "</table>\n",
       "</div>"
      ],
      "text/plain": [
       "  Programming Language  negative  positive\n",
       "0        java       es         0         0\n",
       "1        java       en         2         2\n",
       "2  javascript       es         0         0\n",
       "3  javascript       en         0         1\n",
       "4      python       es         0         0\n",
       "5      python       en         0         4"
      ]
     },
     "execution_count": 14,
     "metadata": {},
     "output_type": "execute_result"
    }
   ],
   "source": [
    "sentiments"
   ]
  },
  {
   "cell_type": "markdown",
   "metadata": {},
   "source": [
    "###TODO: Realizar Análisis detenido de los resultados"
   ]
  },
  {
   "cell_type": "code",
   "execution_count": 15,
   "metadata": {
    "collapsed": false
   },
   "outputs": [
    {
     "data": {
      "text/plain": [
       "<matplotlib.axes._subplots.AxesSubplot at 0x7f59c8866780>"
      ]
     },
     "execution_count": 15,
     "metadata": {},
     "output_type": "execute_result"
    },
    {
     "data": {
      "image/png": "[encoded data removed]",
      "text/plain": [
       "<matplotlib.figure.Figure at 0x7f59ac966550>"
      ]
     },
     "metadata": {},
     "output_type": "display_data"
    }
   ],
   "source": [
    "sentiments.plot()"
   ]
  },
  {
   "cell_type": "markdown",
   "metadata": {},
   "source": [
    "http://text-processing.com/docs/sentiment.html "
   ]
  },
  {
   "cell_type": "markdown",
   "metadata": {},
   "source": [
    "## Analysis Sentimental con la apalicación text-processing (NLTK)\n"
   ]
  },
  {
   "cell_type": "code",
   "execution_count": null,
   "metadata": {
    "collapsed": true
   },
   "outputs": [],
   "source": [
    "#curl -d \"text=\\u6291\\u3048\\u304d\\u308c\\u306a\\u3044 My soul \\u304c\\uff0c\\u6291\\u3048\\u304d\\u308c\\u306a\\u3044 Python \\u306b\\u805e\\u3053\\u3048\\u308b\" http://text-processing.com/api/sentiment/"
   ]
  },
  {
   "cell_type": "markdown",
   "metadata": {},
   "source": [
    "The polarity values are: \n",
    "* 0: negative\n",
    "* 2: neutral\n",
    "* 4: positive"
   ]
  }
 ],
 "metadata": {
  "kernelspec": {
   "display_name": "Python 3",
   "language": "python",
   "name": "python3"
  },
  "language_info": {
   "codemirror_mode": {
    "name": "ipython",
    "version": 3
   },
   "file_extension": ".py",
   "mimetype": "text/x-python",
   "name": "python",
   "nbconvert_exporter": "python",
   "pygments_lexer": "ipython3",
   "version": "3.4.0"
  }
 },
 "nbformat": 4,
 "nbformat_minor": 0
}
