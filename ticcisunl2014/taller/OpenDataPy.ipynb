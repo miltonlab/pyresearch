{
 "metadata": {
  "name": "",
  "signature": "sha256:127c1d84a5bfa3d9dc39f32016bcbaa32c0798143aad88bb0617104bbec31a64"
 },
 "nbformat": 3,
 "nbformat_minor": 0,
 "worksheets": [
  {
   "cells": [
    {
     "cell_type": "markdown",
     "metadata": {},
     "source": [
      "# Explorando OpenData con Python\n",
      "\n",
      "<img align=\"left\" src='./opendata-logo.jpg' width='200' height='200'/> \n",
      "<img align=\"left\" src='./python-logo.jpg' width='200' height='200'/> \n",
      "\n",
      "###Milton Labanda  \n",
      "###TIC-CIS-UNL2014  \n"
     ]
    },
    {
     "cell_type": "markdown",
     "metadata": {},
     "source": [
      "## Agenda\n",
      " * Revisi\u00f3n flash de Estruturas de Datos en Python\n",
      " * Que es IPython?\n",
      " * Que es OpenData ?\n",
      " * La librer\u00eda PANDAS (Python Data Analysis Library)\n",
      " * Series y DataFrames\n",
      " * An\u00e1lisis de datos con pandas"
     ]
    },
    {
     "cell_type": "code",
     "collapsed": false,
     "input": [
      "import pandas as pd\n",
      "import matplotlib as plt"
     ],
     "language": "python",
     "metadata": {},
     "outputs": [],
     "prompt_number": 4
    },
    {
     "cell_type": "code",
     "collapsed": false,
     "input": [
      "from datetime import datetime"
     ],
     "language": "python",
     "metadata": {},
     "outputs": [],
     "prompt_number": 11
    },
    {
     "cell_type": "markdown",
     "metadata": {},
     "source": [
      "##Series"
     ]
    },
    {
     "cell_type": "code",
     "collapsed": false,
     "input": [
      "taller=pd.Series(['OpenData y Python', datetime(2014, 4, 5), '08h30', '12h30', 4])"
     ],
     "language": "python",
     "metadata": {},
     "outputs": [],
     "prompt_number": 13
    },
    {
     "cell_type": "code",
     "collapsed": false,
     "input": [
      "taller"
     ],
     "language": "python",
     "metadata": {},
     "outputs": [
      {
       "metadata": {},
       "output_type": "pyout",
       "prompt_number": 16,
       "text": [
        "0      OpenData y Python\n",
        "1    2014-03-05 00:00:00\n",
        "2                  08h30\n",
        "3                  12h30\n",
        "4                      4\n",
        "dtype: object"
       ]
      }
     ],
     "prompt_number": 16
    },
    {
     "cell_type": "code",
     "collapsed": false,
     "input": [
      "taller.index = ['Nombre', 'fecha', 'inicio', 'fin', 'duracion']"
     ],
     "language": "python",
     "metadata": {},
     "outputs": [],
     "prompt_number": 18
    },
    {
     "cell_type": "code",
     "collapsed": false,
     "input": [
      "taller"
     ],
     "language": "python",
     "metadata": {},
     "outputs": [
      {
       "metadata": {},
       "output_type": "pyout",
       "prompt_number": 19,
       "text": [
        "Nombre        OpenData y Python\n",
        "fecha       2014-03-05 00:00:00\n",
        "inicio                    08h30\n",
        "fin                       12h30\n",
        "duracion                      4\n",
        "dtype: object"
       ]
      }
     ],
     "prompt_number": 19
    },
    {
     "cell_type": "code",
     "collapsed": false,
     "input": [
      "#Estadios donde jugar\u00e1 Ecuador el Mundial Brazil 2014\n",
      "#http://es.wikipedia.org/wiki/Copa_Mundial_de_F%C3%BAtbol_de_2014\n",
      "estadios = pd.Series({'Belo Horizonte': 69950, 'Brasilia':70807, 'Cuiab\u00e1':42500, 'Curitiba':41375,\n",
      "                      'Manaos': 50000, 'Porto Alegre':60000, 'Rio de Janeiro': 76525, 'Sao Paulo':65281})\n",
      "# Solo donde jugar\u00e1 Ecuador\n",
      "#estadios = pd.Series({'Rio de Janeiro': 76525, 'Brasilia':70807, 'Curitiva':41375,"
     ],
     "language": "python",
     "metadata": {},
     "outputs": [],
     "prompt_number": 43
    },
    {
     "cell_type": "code",
     "collapsed": false,
     "input": [
      "estadios"
     ],
     "language": "python",
     "metadata": {},
     "outputs": [
      {
       "metadata": {},
       "output_type": "pyout",
       "prompt_number": 22,
       "text": [
        "Belo Horizonte    69950\n",
        "Brasilia          70807\n",
        "Cuiab\u00e1            42500\n",
        "Curitiva          41375\n",
        "Manaos            50000\n",
        "Porto Alegre      60000\n",
        "Rio de Janeiro    76525\n",
        "Sao Paulo         65281\n",
        "dtype: int64"
       ]
      }
     ],
     "prompt_number": 22
    },
    {
     "cell_type": "code",
     "collapsed": false,
     "input": [
      "estadios['Brasilia']"
     ],
     "language": "python",
     "metadata": {},
     "outputs": [
      {
       "metadata": {},
       "output_type": "pyout",
       "prompt_number": 23,
       "text": [
        "70807"
       ]
      }
     ],
     "prompt_number": 23
    },
    {
     "cell_type": "code",
     "collapsed": false,
     "input": [
      "# Donde jugar\u00e1 Ecuador\n",
      "estadios[['Brasilia', 'Curitiba', 'Rio de Janeiro']]"
     ],
     "language": "python",
     "metadata": {},
     "outputs": [
      {
       "metadata": {},
       "output_type": "pyout",
       "prompt_number": 44,
       "text": [
        "Brasilia          70807\n",
        "Curitiba          41375\n",
        "Rio de Janeiro    76525\n",
        "dtype: int64"
       ]
      }
     ],
     "prompt_number": 44
    },
    {
     "cell_type": "markdown",
     "metadata": {},
     "source": [
      "###Selecciones"
     ]
    },
    {
     "cell_type": "code",
     "collapsed": false,
     "input": [
      "estadios > 50000"
     ],
     "language": "python",
     "metadata": {},
     "outputs": [
      {
       "metadata": {},
       "output_type": "pyout",
       "prompt_number": 26,
       "text": [
        "Belo Horizonte     True\n",
        "Brasilia           True\n",
        "Cuiab\u00e1            False\n",
        "Curitiva          False\n",
        "Manaos            False\n",
        "Porto Alegre       True\n",
        "Rio de Janeiro     True\n",
        "Sao Paulo          True\n",
        "dtype: bool"
       ]
      }
     ],
     "prompt_number": 26
    },
    {
     "cell_type": "code",
     "collapsed": false,
     "input": [
      "estadios[estadios > 50000]"
     ],
     "language": "python",
     "metadata": {},
     "outputs": [
      {
       "metadata": {},
       "output_type": "pyout",
       "prompt_number": 34,
       "text": [
        "Belo Horizonte    69950\n",
        "Brasilia          70807\n",
        "Porto Alegre      60000\n",
        "Rio de Janeiro    76525\n",
        "Sao Paulo         65281\n",
        "dtype: int64"
       ]
      }
     ],
     "prompt_number": 34
    },
    {
     "cell_type": "code",
     "collapsed": false,
     "input": [
      "estadios['Porto Alegre']"
     ],
     "language": "python",
     "metadata": {},
     "outputs": [
      {
       "metadata": {},
       "output_type": "pyout",
       "prompt_number": 35,
       "text": [
        "60000"
       ]
      }
     ],
     "prompt_number": 35
    },
    {
     "cell_type": "code",
     "collapsed": false,
     "input": [
      "'Sao Paulo' in estadios"
     ],
     "language": "python",
     "metadata": {},
     "outputs": [
      {
       "metadata": {},
       "output_type": "pyout",
       "prompt_number": 38,
       "text": [
        "True"
       ]
      }
     ],
     "prompt_number": 38
    },
    {
     "cell_type": "markdown",
     "metadata": {},
     "source": [
      "###Operaciones"
     ]
    },
    {
     "cell_type": "code",
     "collapsed": false,
     "input": [
      "estadios.mean(), estadios.median()"
     ],
     "language": "python",
     "metadata": {},
     "outputs": [
      {
       "metadata": {},
       "output_type": "pyout",
       "prompt_number": 40,
       "text": [
        "(59554.75, 62640.5)"
       ]
      }
     ],
     "prompt_number": 40
    },
    {
     "cell_type": "code",
     "collapsed": false,
     "input": [
      "estadios / 2"
     ],
     "language": "python",
     "metadata": {},
     "outputs": [
      {
       "metadata": {},
       "output_type": "pyout",
       "prompt_number": 45,
       "text": [
        "Belo Horizonte    34975.0\n",
        "Brasilia          35403.5\n",
        "Cuiab\u00e1            21250.0\n",
        "Curitiba          20687.5\n",
        "Manaos            25000.0\n",
        "Porto Alegre      30000.0\n",
        "Rio de Janeiro    38262.5\n",
        "Sao Paulo         32640.5\n",
        "dtype: float64"
       ]
      }
     ],
     "prompt_number": 45
    },
    {
     "cell_type": "code",
     "collapsed": false,
     "input": [
      "estadios**2"
     ],
     "language": "python",
     "metadata": {},
     "outputs": [
      {
       "metadata": {},
       "output_type": "pyout",
       "prompt_number": 47,
       "text": [
        "Belo Horizonte    4893002500\n",
        "Brasilia          5013631249\n",
        "Cuiab\u00e1            1806250000\n",
        "Curitiba          1711890625\n",
        "Manaos            2500000000\n",
        "Porto Alegre      3600000000\n",
        "Rio de Janeiro    5856075625\n",
        "Sao Paulo         4261608961\n",
        "dtype: int64"
       ]
      }
     ],
     "prompt_number": 47
    },
    {
     "cell_type": "code",
     "collapsed": false,
     "input": [
      "ecuador = estadios[['Brasilia', 'Curitiba', 'Rio de Janeiro']]"
     ],
     "language": "python",
     "metadata": {},
     "outputs": [],
     "prompt_number": 48
    },
    {
     "cell_type": "code",
     "collapsed": false,
     "input": [
      "ecuador"
     ],
     "language": "python",
     "metadata": {},
     "outputs": [
      {
       "metadata": {},
       "output_type": "pyout",
       "prompt_number": 49,
       "text": [
        "Brasilia          70807\n",
        "Curitiba          41375\n",
        "Rio de Janeiro    76525\n",
        "dtype: int64"
       ]
      }
     ],
     "prompt_number": 49
    },
    {
     "cell_type": "code",
     "collapsed": false,
     "input": [
      "ecuador + estadios[['Rio de Janeiro', 'Curitiba', 'Sao Paulo']]"
     ],
     "language": "python",
     "metadata": {},
     "outputs": [
      {
       "metadata": {},
       "output_type": "pyout",
       "prompt_number": 51,
       "text": [
        "Brasilia             NaN\n",
        "Curitiba           82750\n",
        "Rio de Janeiro    153050\n",
        "Sao Paulo            NaN\n",
        "dtype: float64"
       ]
      }
     ],
     "prompt_number": 51
    },
    {
     "cell_type": "code",
     "collapsed": false,
     "input": [],
     "language": "python",
     "metadata": {},
     "outputs": []
    }
   ],
   "metadata": {}
  }
 ]
}