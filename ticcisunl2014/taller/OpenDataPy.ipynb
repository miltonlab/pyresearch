{
 "metadata": {
  "name": "",
  "signature": "sha256:8b6a75ffd1f27e10d143a6c31d8b2deb2d2bf4552fa54436a6e535eca4862f1d"
 },
 "nbformat": 3,
 "nbformat_minor": 0,
 "worksheets": [
  {
   "cells": [
    {
     "cell_type": "code",
     "collapsed": false,
     "input": [
      "import pandas as pd\n",
      "import matplotlib as plt"
     ],
     "language": "python",
     "metadata": {},
     "outputs": [],
     "prompt_number": 4
    },
    {
     "cell_type": "code",
     "collapsed": false,
     "input": [
      "from datetime import datetime"
     ],
     "language": "python",
     "metadata": {},
     "outputs": [],
     "prompt_number": 11
    },
    {
     "cell_type": "code",
     "collapsed": false,
     "input": [
      "taller=pd.Series(['OpenData y Python', datetime(2014, 3, 5), '08h30', '12h30', 4])"
     ],
     "language": "python",
     "metadata": {},
     "outputs": [],
     "prompt_number": 13
    },
    {
     "cell_type": "code",
     "collapsed": false,
     "input": [
      "taller"
     ],
     "language": "python",
     "metadata": {},
     "outputs": [
      {
       "metadata": {},
       "output_type": "pyout",
       "prompt_number": 16,
       "text": [
        "0      OpenData y Python\n",
        "1    2014-03-05 00:00:00\n",
        "2                  08h30\n",
        "3                  12h30\n",
        "4                      4\n",
        "dtype: object"
       ]
      }
     ],
     "prompt_number": 16
    },
    {
     "cell_type": "code",
     "collapsed": false,
     "input": [
      "taller.index = ['Nombre', 'fecha', 'inicio', 'fin', 'duracion']"
     ],
     "language": "python",
     "metadata": {},
     "outputs": [],
     "prompt_number": 18
    },
    {
     "cell_type": "code",
     "collapsed": false,
     "input": [
      "taller"
     ],
     "language": "python",
     "metadata": {},
     "outputs": [
      {
       "metadata": {},
       "output_type": "pyout",
       "prompt_number": 19,
       "text": [
        "Nombre        OpenData y Python\n",
        "fecha       2014-03-05 00:00:00\n",
        "inicio                    08h30\n",
        "fin                       12h30\n",
        "duracion                      4\n",
        "dtype: object"
       ]
      }
     ],
     "prompt_number": 19
    },
    {
     "cell_type": "code",
     "collapsed": false,
     "input": [
      "#Estadios donde jugar\u00e1 Ecuador el Mundial Brazil 2014\n",
      "#http://es.wikipedia.org/wiki/Copa_Mundial_de_F%C3%BAtbol_de_2014\n",
      "estadios = pd.Series({'Belo Horizonte': 69950, 'Brasilia':70807, 'Cuiab\u00e1':42500, 'Curitiva':41375})"
     ],
     "language": "python",
     "metadata": {},
     "outputs": [],
     "prompt_number": 20
    },
    {
     "cell_type": "code",
     "collapsed": false,
     "input": [],
     "language": "python",
     "metadata": {},
     "outputs": []
    }
   ],
   "metadata": {}
  }
 ]
}