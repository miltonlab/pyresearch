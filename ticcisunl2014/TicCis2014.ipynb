{
 "metadata": {
  "celltoolbar": "Slideshow",
  "name": "",
  "signature": "sha256:e7490aece4bef4a97e9bfc5137ede9934ac29e2af3a20d9a2612bb84c0bd66eb"
 },
 "nbformat": 3,
 "nbformat_minor": 0,
 "worksheets": [
  {
   "cells": [
    {
     "cell_type": "markdown",
     "metadata": {
      "slideshow": {
       "slide_type": "slide"
      }
     },
     "source": [
      "<center>\n",
      "<h1>Python atractivo para Cient\u00edficos e Ingenieros </h1>\n",
      "![](pythonsci.jpg)\n",
      "</center>\n",
      "**I Congreso de Tecnolog\u00edas de la Informaci\u00f3n** (CIS - [U N L](http://unl.edu.ec))  \n",
      "**Milton Labanda** (*[@miltonlab](http://twitter.com/miltonlab)*) \n",
      "<!--Junio 2014-->"
     ]
    },
    {
     "cell_type": "markdown",
     "metadata": {
      "slideshow": {
       "slide_type": "slide"
      }
     },
     "source": [
      "##Que hace generalmente un cient\u00edfico ?\n",
      " 1. **Observa**\n",
      " 1. Realiza experimentos o **simulaciones**\n",
      " 1. Obtiene **datos** de los experimentos\n",
      " 1. **Procesa** y **visualiza** los datos obtenidos\n",
      " 1. Propone **modelos**, entre otras cosas  ..."
     ]
    },
    {
     "cell_type": "markdown",
     "metadata": {
      "slideshow": {
       "slide_type": "slide"
      }
     },
     "source": [
      "## Qu\u00e9s es Python ?\n",
      " * **Python.org** dice *\"Python is a programming language that lets you work quickly and integrate systems more effectively\"*\n",
      " * Un lenguaje de prop\u00f3sito general que puede funcionar como: **procedimental, funcional y orientado a objetos**.\n",
      " * Un lenguaje limpio, simple y **\"muy expresivo\"**: con pocas palabras se dice y se hace mucho\n",
      " * Su int\u00e9rprete y sus herramientas tienen **licenciamiento de Software Libre** compatible con la licencia **GPL**\n",
      " * A dispoci\u00f3n miles de **librer\u00edas, paquetes y m\u00f3dulos** para diversos \u00e1mbitos"
     ]
    },
    {
     "cell_type": "markdown",
     "metadata": {
      "slideshow": {
       "slide_type": "slide"
      }
     },
     "source": [
      "## IPython Notebook\n",
      " * **\"El paper ejecutable para los cient\u00edficos\"**\n",
      " * Un int\u00e9rprete interactivo avanzado que ha revolucionando la manera en que se utiliza Python en \u00e1mbitos *cient\u00edficos, conferencias y tutoriales*\n",
      " * Mucho m\u00e1s que un shell: *autocompletado, historial, ayuda en l\u00ednea, salida al sistema, gesti\u00f3n de archivos* ...\n",
      " * Mucho ahorro de tiempo en escritura de c\u00f3digo y pruebas\n",
      " * Se puede ejecutar c\u00f3digo de otros lenguajes: *R, Octave, Cython, Bash, Perl, Ruby, etc.*\n",
      " * Permite escribir en formato *Markdown, HTML, o texto puro (raw)*\n",
      " * Permite escribir en **LateX**\n",
      " * Permite incluir im\u00e1genes, links a archivos locales, videos, etc \n",
      " * Exporta hacia difentes formatos tales como: PDF, RST, Latex, **reveal.js** (usado en esta presentaci\u00f3n), etc"
     ]
    },
    {
     "cell_type": "markdown",
     "metadata": {
      "slideshow": {
       "slide_type": "slide"
      }
     },
     "source": [
      "## La librer\u00eda *Numpy*\n",
      " * **Estructuras base para los c\u00e1lculos** \n",
      " * Codigo parecido a notaci\u00f3n cient\u00edfica\n",
      " * C\u00f3digo pyth\u00f3nico y sin bucles (parecido a *Matlab*)\n",
      " * Muchas funciones matem\u00e1ticas aplicables a matrices de datos\n",
      " * Array Slices (indexado) multidimensionales\n",
      " * Funciones propias de Arreglos: diagonal, transpose, where, unique, fill, etc.\n",
      " * Persistencia de arreglos en archivos de texto"
     ]
    },
    {
     "cell_type": "markdown",
     "metadata": {
      "slideshow": {
       "slide_type": "slide"
      }
     },
     "source": [
      "## NumPy pr\u00e1ctico"
     ]
    },
    {
     "cell_type": "code",
     "collapsed": false,
     "input": [
      "import numpy as np"
     ],
     "language": "python",
     "metadata": {
      "slideshow": {
       "slide_type": "fragment"
      }
     },
     "outputs": [],
     "prompt_number": 1
    },
    {
     "cell_type": "markdown",
     "metadata": {
      "slideshow": {
       "slide_type": "subslide"
      }
     },
     "source": [
      "**Los arreglos, la estructura b\u00e1sica**"
     ]
    },
    {
     "cell_type": "code",
     "collapsed": false,
     "input": [
      "a = np.array([[5,2,9,4],[1,8,8,9],[6,6,4,7],[3,5,6,2]])\n",
      "a"
     ],
     "language": "python",
     "metadata": {
      "slideshow": {
       "slide_type": "fragment"
      }
     },
     "outputs": [
      {
       "metadata": {},
       "output_type": "pyout",
       "prompt_number": 2,
       "text": [
        "array([[5, 2, 9, 4],\n",
        "       [1, 8, 8, 9],\n",
        "       [6, 6, 4, 7],\n",
        "       [3, 5, 6, 2]])"
       ]
      }
     ],
     "prompt_number": 2
    },
    {
     "cell_type": "code",
     "collapsed": false,
     "input": [
      "# Seleccionar columna 2\n",
      "a[:,2]"
     ],
     "language": "python",
     "metadata": {
      "slideshow": {
       "slide_type": "fragment"
      }
     },
     "outputs": [
      {
       "metadata": {},
       "output_type": "pyout",
       "prompt_number": 3,
       "text": [
        "array([9, 8, 4, 6])"
       ]
      }
     ],
     "prompt_number": 3
    },
    {
     "cell_type": "code",
     "collapsed": false,
     "input": [
      "# Seleccionar fila 2\n",
      "a[2,:]"
     ],
     "language": "python",
     "metadata": {
      "slideshow": {
       "slide_type": "fragment"
      }
     },
     "outputs": [
      {
       "metadata": {},
       "output_type": "pyout",
       "prompt_number": 4,
       "text": [
        "array([6, 6, 4, 7])"
       ]
      }
     ],
     "prompt_number": 4
    },
    {
     "cell_type": "code",
     "collapsed": false,
     "input": [
      "# Selcci\u00f3n de un subarreglo\n",
      "a[0:2,1:3]"
     ],
     "language": "python",
     "metadata": {
      "slideshow": {
       "slide_type": "fragment"
      }
     },
     "outputs": [
      {
       "metadata": {},
       "output_type": "pyout",
       "prompt_number": 5,
       "text": [
        "array([[2, 9],\n",
        "       [8, 8]])"
       ]
      }
     ],
     "prompt_number": 5
    },
    {
     "cell_type": "code",
     "collapsed": false,
     "input": [
      "# Selecci\u00f3n condicional\n",
      "np.where(a%2==0,a,0)"
     ],
     "language": "python",
     "metadata": {
      "slideshow": {
       "slide_type": "fragment"
      }
     },
     "outputs": [
      {
       "metadata": {},
       "output_type": "pyout",
       "prompt_number": 6,
       "text": [
        "array([[0, 2, 0, 4],\n",
        "       [0, 8, 8, 0],\n",
        "       [6, 6, 4, 0],\n",
        "       [0, 0, 6, 2]])"
       ]
      }
     ],
     "prompt_number": 6
    },
    {
     "cell_type": "code",
     "collapsed": false,
     "input": [
      "a.flatten()"
     ],
     "language": "python",
     "metadata": {
      "slideshow": {
       "slide_type": "subslide"
      }
     },
     "outputs": [
      {
       "metadata": {},
       "output_type": "pyout",
       "prompt_number": 7,
       "text": [
        "array([5, 2, 9, 4, 1, 8, 8, 9, 6, 6, 4, 7, 3, 5, 6, 2])"
       ]
      }
     ],
     "prompt_number": 7
    },
    {
     "cell_type": "code",
     "collapsed": false,
     "input": [
      "c=a.copy()\n",
      "c.sort(axis=1)\n",
      "c"
     ],
     "language": "python",
     "metadata": {
      "slideshow": {
       "slide_type": "fragment"
      }
     },
     "outputs": [
      {
       "metadata": {},
       "output_type": "pyout",
       "prompt_number": 8,
       "text": [
        "array([[2, 4, 5, 9],\n",
        "       [1, 8, 8, 9],\n",
        "       [4, 6, 6, 7],\n",
        "       [2, 3, 5, 6]])"
       ]
      }
     ],
     "prompt_number": 8
    },
    {
     "cell_type": "code",
     "collapsed": false,
     "input": [
      "np.diag((5,4,3,5))"
     ],
     "language": "python",
     "metadata": {
      "slideshow": {
       "slide_type": "fragment"
      }
     },
     "outputs": [
      {
       "metadata": {},
       "output_type": "pyout",
       "prompt_number": 9,
       "text": [
        "array([[5, 0, 0, 0],\n",
        "       [0, 4, 0, 0],\n",
        "       [0, 0, 3, 0],\n",
        "       [0, 0, 0, 5]])"
       ]
      }
     ],
     "prompt_number": 9
    },
    {
     "cell_type": "code",
     "collapsed": false,
     "input": [
      "np.identity((4))"
     ],
     "language": "python",
     "metadata": {
      "slideshow": {
       "slide_type": "fragment"
      }
     },
     "outputs": [
      {
       "metadata": {},
       "output_type": "pyout",
       "prompt_number": 10,
       "text": [
        "array([[ 1.,  0.,  0.,  0.],\n",
        "       [ 0.,  1.,  0.,  0.],\n",
        "       [ 0.,  0.,  1.,  0.],\n",
        "       [ 0.,  0.,  0.,  1.]])"
       ]
      }
     ],
     "prompt_number": 10
    },
    {
     "cell_type": "markdown",
     "metadata": {
      "slideshow": {
       "slide_type": "subslide"
      }
     },
     "source": [
      "**Funciones y trabajo con Arreglos**"
     ]
    },
    {
     "cell_type": "code",
     "collapsed": false,
     "input": [
      "a>5"
     ],
     "language": "python",
     "metadata": {
      "slideshow": {
       "slide_type": "fragment"
      }
     },
     "outputs": [
      {
       "metadata": {},
       "output_type": "pyout",
       "prompt_number": 11,
       "text": [
        "array([[False, False,  True, False],\n",
        "       [False,  True,  True,  True],\n",
        "       [ True,  True, False,  True],\n",
        "       [False, False,  True, False]], dtype=bool)"
       ]
      }
     ],
     "prompt_number": 11
    },
    {
     "cell_type": "code",
     "collapsed": false,
     "input": [
      "a*3"
     ],
     "language": "python",
     "metadata": {
      "slideshow": {
       "slide_type": "fragment"
      }
     },
     "outputs": [
      {
       "metadata": {},
       "output_type": "pyout",
       "prompt_number": 12,
       "text": [
        "array([[15,  6, 27, 12],\n",
        "       [ 3, 24, 24, 27],\n",
        "       [18, 18, 12, 21],\n",
        "       [ 9, 15, 18,  6]])"
       ]
      }
     ],
     "prompt_number": 12
    },
    {
     "cell_type": "code",
     "collapsed": false,
     "input": [
      "a/2"
     ],
     "language": "python",
     "metadata": {
      "slideshow": {
       "slide_type": "fragment"
      }
     },
     "outputs": [
      {
       "metadata": {},
       "output_type": "pyout",
       "prompt_number": 13,
       "text": [
        "array([[2, 1, 4, 2],\n",
        "       [0, 4, 4, 4],\n",
        "       [3, 3, 2, 3],\n",
        "       [1, 2, 3, 1]])"
       ]
      }
     ],
     "prompt_number": 13
    },
    {
     "cell_type": "code",
     "collapsed": false,
     "input": [
      "np.sum(a), np.sum(a,0), np.sum(a,1)"
     ],
     "language": "python",
     "metadata": {
      "slideshow": {
       "slide_type": "fragment"
      }
     },
     "outputs": [
      {
       "metadata": {},
       "output_type": "pyout",
       "prompt_number": 14,
       "text": [
        "(85, array([15, 21, 27, 22]), array([20, 26, 23, 16]))"
       ]
      }
     ],
     "prompt_number": 14
    },
    {
     "cell_type": "code",
     "collapsed": false,
     "input": [
      "a.mean(), np.median(a), a.std(), a.var()"
     ],
     "language": "python",
     "metadata": {
      "slideshow": {
       "slide_type": "fragment"
      }
     },
     "outputs": [
      {
       "metadata": {},
       "output_type": "pyout",
       "prompt_number": 15,
       "text": [
        "(5.3125, 5.5, 2.4423029603224902, 5.96484375)"
       ]
      }
     ],
     "prompt_number": 15
    },
    {
     "cell_type": "code",
     "collapsed": false,
     "input": [
      "a.max(), a.max(0), a.max(1)"
     ],
     "language": "python",
     "metadata": {
      "slideshow": {
       "slide_type": "fragment"
      }
     },
     "outputs": [
      {
       "metadata": {},
       "output_type": "pyout",
       "prompt_number": 16,
       "text": [
        "(9, array([6, 8, 9, 9]), array([9, 9, 7, 6]))"
       ]
      }
     ],
     "prompt_number": 16
    },
    {
     "cell_type": "markdown",
     "metadata": {
      "slideshow": {
       "slide_type": "subslide"
      }
     },
     "source": [
      "**Algebra Lineal**"
     ]
    },
    {
     "cell_type": "code",
     "collapsed": false,
     "input": [
      "a"
     ],
     "language": "python",
     "metadata": {
      "slideshow": {
       "slide_type": "fragment"
      }
     },
     "outputs": [
      {
       "metadata": {},
       "output_type": "pyout",
       "prompt_number": 17,
       "text": [
        "array([[5, 2, 9, 4],\n",
        "       [1, 8, 8, 9],\n",
        "       [6, 6, 4, 7],\n",
        "       [3, 5, 6, 2]])"
       ]
      }
     ],
     "prompt_number": 17
    },
    {
     "cell_type": "code",
     "collapsed": false,
     "input": [
      "# Matriz triangular superior e inferior\n",
      "np.tril(a)"
     ],
     "language": "python",
     "metadata": {
      "slideshow": {
       "slide_type": "fragment"
      }
     },
     "outputs": [
      {
       "metadata": {},
       "output_type": "pyout",
       "prompt_number": 18,
       "text": [
        "array([[5, 0, 0, 0],\n",
        "       [1, 8, 0, 0],\n",
        "       [6, 6, 4, 0],\n",
        "       [3, 5, 6, 2]])"
       ]
      }
     ],
     "prompt_number": 18
    },
    {
     "cell_type": "code",
     "collapsed": false,
     "input": [
      "np.triu(a)"
     ],
     "language": "python",
     "metadata": {
      "slideshow": {
       "slide_type": "fragment"
      }
     },
     "outputs": [
      {
       "metadata": {},
       "output_type": "pyout",
       "prompt_number": 19,
       "text": [
        "array([[5, 2, 9, 4],\n",
        "       [0, 8, 8, 9],\n",
        "       [0, 0, 4, 7],\n",
        "       [0, 0, 0, 2]])"
       ]
      }
     ],
     "prompt_number": 19
    },
    {
     "cell_type": "code",
     "collapsed": false,
     "input": [
      "np.linalg.inv(a)"
     ],
     "language": "python",
     "metadata": {
      "slideshow": {
       "slide_type": "fragment"
      }
     },
     "outputs": [
      {
       "metadata": {},
       "output_type": "pyout",
       "prompt_number": 20,
       "text": [
        "array([[ 0.0372093 , -0.13488372,  0.14418605,  0.02790698],\n",
        "       [-0.16877076,  0.00465116,  0.02458472,  0.23056478],\n",
        "       [ 0.10431894,  0.03255814, -0.11362126,  0.04252492],\n",
        "       [ 0.05315615,  0.09302326,  0.06312292, -0.24584718]])"
       ]
      }
     ],
     "prompt_number": 20
    },
    {
     "cell_type": "code",
     "collapsed": false,
     "input": [
      "np.linalg.matrix_power(a,2)"
     ],
     "language": "python",
     "metadata": {
      "slideshow": {
       "slide_type": "subslide"
      }
     },
     "outputs": [
      {
       "metadata": {},
       "output_type": "pyout",
       "prompt_number": 21,
       "text": [
        "array([[ 93, 100, 121, 109],\n",
        "       [ 88, 159, 159, 150],\n",
        "       [ 81, 119, 160, 120],\n",
        "       [ 62,  92, 103, 103]])"
       ]
      }
     ],
     "prompt_number": 21
    },
    {
     "cell_type": "code",
     "collapsed": false,
     "input": [
      "# El arreglo debe ser cuadrado\n",
      "np.linalg.det(a)"
     ],
     "language": "python",
     "metadata": {
      "slideshow": {
       "slide_type": "fragment"
      }
     },
     "outputs": [
      {
       "metadata": {},
       "output_type": "pyout",
       "prompt_number": 22,
       "text": [
        "1504.9999999999998"
       ]
      }
     ],
     "prompt_number": 22
    },
    {
     "cell_type": "code",
     "collapsed": false,
     "input": [
      "a.transpose()"
     ],
     "language": "python",
     "metadata": {
      "slideshow": {
       "slide_type": "fragment"
      }
     },
     "outputs": [
      {
       "metadata": {},
       "output_type": "pyout",
       "prompt_number": 23,
       "text": [
        "array([[5, 1, 6, 3],\n",
        "       [2, 8, 6, 5],\n",
        "       [9, 8, 4, 6],\n",
        "       [4, 9, 7, 2]])"
       ]
      }
     ],
     "prompt_number": 23
    },
    {
     "cell_type": "code",
     "collapsed": false,
     "input": [
      "np.identity(3)"
     ],
     "language": "python",
     "metadata": {
      "slideshow": {
       "slide_type": "fragment"
      }
     },
     "outputs": [
      {
       "metadata": {},
       "output_type": "pyout",
       "prompt_number": 24,
       "text": [
        "array([[ 1.,  0.,  0.],\n",
        "       [ 0.,  1.,  0.],\n",
        "       [ 0.,  0.,  1.]])"
       ]
      }
     ],
     "prompt_number": 24
    },
    {
     "cell_type": "markdown",
     "metadata": {
      "slideshow": {
       "slide_type": "subslide"
      }
     },
     "source": [
      "**Operaciones con matrices**"
     ]
    },
    {
     "cell_type": "code",
     "collapsed": false,
     "input": [
      "b = np.array([[5, 4, 2, 0], [9, 9, 6, 1], [3, 0, 5, 3], [8, 0, 6, 1]])\n",
      "b"
     ],
     "language": "python",
     "metadata": {
      "slideshow": {
       "slide_type": "fragment"
      }
     },
     "outputs": [
      {
       "metadata": {},
       "output_type": "pyout",
       "prompt_number": 25,
       "text": [
        "array([[5, 4, 2, 0],\n",
        "       [9, 9, 6, 1],\n",
        "       [3, 0, 5, 3],\n",
        "       [8, 0, 6, 1]])"
       ]
      }
     ],
     "prompt_number": 25
    },
    {
     "cell_type": "code",
     "collapsed": false,
     "input": [
      "np.vdot(a,b)"
     ],
     "language": "python",
     "metadata": {
      "slideshow": {
       "slide_type": "fragment"
      }
     },
     "outputs": [
      {
       "metadata": {},
       "output_type": "pyout",
       "prompt_number": 26,
       "text": [
        "310"
       ]
      }
     ],
     "prompt_number": 26
    },
    {
     "cell_type": "code",
     "collapsed": false,
     "input": [
      "a>b"
     ],
     "language": "python",
     "metadata": {
      "slideshow": {
       "slide_type": "fragment"
      }
     },
     "outputs": [
      {
       "metadata": {},
       "output_type": "pyout",
       "prompt_number": 27,
       "text": [
        "array([[False, False,  True,  True],\n",
        "       [False, False,  True,  True],\n",
        "       [ True,  True, False,  True],\n",
        "       [False,  True, False,  True]], dtype=bool)"
       ]
      }
     ],
     "prompt_number": 27
    },
    {
     "cell_type": "code",
     "collapsed": false,
     "input": [
      "a.dot(b)"
     ],
     "language": "python",
     "metadata": {
      "slideshow": {
       "slide_type": "fragment"
      }
     },
     "outputs": [
      {
       "metadata": {},
       "output_type": "pyout",
       "prompt_number": 28,
       "text": [
        "array([[102,  38,  91,  33],\n",
        "       [173,  76, 144,  41],\n",
        "       [152,  78, 110,  25],\n",
        "       [ 94,  57,  78,  25]])"
       ]
      }
     ],
     "prompt_number": 28
    },
    {
     "cell_type": "code",
     "collapsed": false,
     "input": [
      "a * b"
     ],
     "language": "python",
     "metadata": {
      "slideshow": {
       "slide_type": "fragment"
      }
     },
     "outputs": [
      {
       "metadata": {},
       "output_type": "pyout",
       "prompt_number": 29,
       "text": [
        "array([[25,  8, 18,  0],\n",
        "       [ 9, 72, 48,  9],\n",
        "       [18,  0, 20, 21],\n",
        "       [24,  0, 36,  2]])"
       ]
      }
     ],
     "prompt_number": 29
    },
    {
     "cell_type": "code",
     "collapsed": false,
     "input": [
      "np.concatenate((a,b))"
     ],
     "language": "python",
     "metadata": {
      "slideshow": {
       "slide_type": "fragment"
      }
     },
     "outputs": [
      {
       "metadata": {},
       "output_type": "pyout",
       "prompt_number": 30,
       "text": [
        "array([[5, 2, 9, 4],\n",
        "       [1, 8, 8, 9],\n",
        "       [6, 6, 4, 7],\n",
        "       [3, 5, 6, 2],\n",
        "       [5, 4, 2, 0],\n",
        "       [9, 9, 6, 1],\n",
        "       [3, 0, 5, 3],\n",
        "       [8, 0, 6, 1]])"
       ]
      }
     ],
     "prompt_number": 30
    },
    {
     "cell_type": "markdown",
     "metadata": {
      "slideshow": {
       "slide_type": "subslide"
      }
     },
     "source": [
      "**Utilitarios**"
     ]
    },
    {
     "cell_type": "code",
     "collapsed": false,
     "input": [
      "a.tolist()"
     ],
     "language": "python",
     "metadata": {
      "slideshow": {
       "slide_type": "fragment"
      }
     },
     "outputs": [
      {
       "metadata": {},
       "output_type": "pyout",
       "prompt_number": 31,
       "text": [
        "[[5, 2, 9, 4], [1, 8, 8, 9], [6, 6, 4, 7], [3, 5, 6, 2]]"
       ]
      }
     ],
     "prompt_number": 31
    },
    {
     "cell_type": "code",
     "collapsed": false,
     "input": [
      "a.tostring()"
     ],
     "language": "python",
     "metadata": {
      "slideshow": {
       "slide_type": "fragment"
      }
     },
     "outputs": [
      {
       "metadata": {},
       "output_type": "pyout",
       "prompt_number": 32,
       "text": [
        "'\\x05\\x00\\x00\\x00\\x02\\x00\\x00\\x00\\t\\x00\\x00\\x00\\x04\\x00\\x00\\x00\\x01\\x00\\x00\\x00\\x08\\x00\\x00\\x00\\x08\\x00\\x00\\x00\\t\\x00\\x00\\x00\\x06\\x00\\x00\\x00\\x06\\x00\\x00\\x00\\x04\\x00\\x00\\x00\\x07\\x00\\x00\\x00\\x03\\x00\\x00\\x00\\x05\\x00\\x00\\x00\\x06\\x00\\x00\\x00\\x02\\x00\\x00\\x00'"
       ]
      }
     ],
     "prompt_number": 32
    },
    {
     "cell_type": "code",
     "collapsed": false,
     "input": [
      "a.tofile('/tmp/arreglo.txt')"
     ],
     "language": "python",
     "metadata": {
      "slideshow": {
       "slide_type": "fragment"
      }
     },
     "outputs": [],
     "prompt_number": 33
    },
    {
     "cell_type": "markdown",
     "metadata": {
      "slideshow": {
       "slide_type": "subslide"
      }
     },
     "source": [
      "**Polinomios**"
     ]
    },
    {
     "cell_type": "code",
     "collapsed": false,
     "input": [
      "# Visualizando LATEX de paso en IPython Notebook !!!"
     ],
     "language": "python",
     "metadata": {
      "slideshow": {
       "slide_type": "fragment"
      }
     },
     "outputs": [],
     "prompt_number": 34
    },
    {
     "cell_type": "markdown",
     "metadata": {
      "slideshow": {
       "slide_type": "fragment"
      }
     },
     "source": [
      "$ polinomio -> x^4 - 11x^3 + 9x^2 + 11x - 10 $"
     ]
    },
    {
     "cell_type": "code",
     "collapsed": false,
     "input": [
      "# Coeficientes de Polinomios de menor a mayor\n",
      "p=np.polynomial.Polynomial([-10,11,9,-11,1])\n",
      "p.roots() #raices del polinomio"
     ],
     "language": "python",
     "metadata": {
      "slideshow": {
       "slide_type": "fragment"
      }
     },
     "outputs": [
      {
       "metadata": {},
       "output_type": "pyout",
       "prompt_number": 35,
       "text": [
        "array([ -1.        ,   0.99999998,   1.00000002,  10.        ])"
       ]
      }
     ],
     "prompt_number": 35
    },
    {
     "cell_type": "code",
     "collapsed": false,
     "input": [
      "# Obtencion de los coeficientes a partir de las raices\n",
      "np.poly([ -1,1,1,10])"
     ],
     "language": "python",
     "metadata": {
      "slideshow": {
       "slide_type": "fragment"
      }
     },
     "outputs": [
      {
       "metadata": {},
       "output_type": "pyout",
       "prompt_number": 36,
       "text": [
        "array([  1, -11,   9,  11, -10])"
       ]
      }
     ],
     "prompt_number": 36
    },
    {
     "cell_type": "code",
     "collapsed": false,
     "input": [
      "# Ejemplo 2 de polinomio \n",
      "ecuacion2=np.polynomial.Polynomial([-8,2,1])\n",
      "ecuacion2.roots()"
     ],
     "language": "python",
     "metadata": {
      "slideshow": {
       "slide_type": "fragment"
      }
     },
     "outputs": [
      {
       "metadata": {},
       "output_type": "pyout",
       "prompt_number": 37,
       "text": [
        "array([-4.,  2.])"
       ]
      }
     ],
     "prompt_number": 37
    },
    {
     "cell_type": "code",
     "collapsed": false,
     "input": [
      "# Evaluaci\u00f3n de un polinomio en un punto particular\n",
      "# las fuciones numpy.poly* reciben los coeficientes de mayor a menor\n",
      "np.polyval([1,2,-8], 4)"
     ],
     "language": "python",
     "metadata": {
      "slideshow": {
       "slide_type": "fragment"
      }
     },
     "outputs": [
      {
       "metadata": {},
       "output_type": "pyout",
       "prompt_number": 38,
       "text": [
        "16"
       ]
      }
     ],
     "prompt_number": 38
    },
    {
     "cell_type": "markdown",
     "metadata": {
      "slideshow": {
       "slide_type": "slide"
      }
     },
     "source": [
      "## La librer\u00eda *Matplolib*\n",
      " * **Visualizacion de datos**\n",
      " * Una librer\u00eda para el trazo (dibujo) orientada a objetos\n",
      " * Trazado de diferetes estilos de gr\u00e1ficos: barras, pastel, histogramas, etc\n",
      " * Personalizaci\u00f3n en detalle del aspecto visual"
     ]
    },
    {
     "cell_type": "markdown",
     "metadata": {
      "slideshow": {
       "slide_type": "slide"
      }
     },
     "source": [
      "## Matplolib pr\u00e1ctico"
     ]
    },
    {
     "cell_type": "code",
     "collapsed": false,
     "input": [
      "import numpy as np\n",
      "from matplotlib import pyplot \n",
      "%matplotlib inline"
     ],
     "language": "python",
     "metadata": {
      "slideshow": {
       "slide_type": "fragment"
      }
     },
     "outputs": [],
     "prompt_number": 39
    },
    {
     "cell_type": "code",
     "collapsed": false,
     "input": [
      "pyplot.axis([0, 6, 0, 20])\n",
      "pyplot.plot([1,2,3,4], [1,4,9,16], 'r-')"
     ],
     "language": "python",
     "metadata": {
      "slideshow": {
       "slide_type": "subslide"
      }
     },
     "outputs": [
      {
       "metadata": {},
       "output_type": "pyout",
       "prompt_number": 40,
       "text": [
        "[<matplotlib.lines.Line2D at 0xb0a310c>]"
       ]
      },
      {
       "metadata": {},
       "output_type": "display_data",
       "png": "[encoded data removed]",
       "text": [
        "<matplotlib.figure.Figure at 0xb0a312c>"
       ]
      }
     ],
     "prompt_number": 40
    },
    {
     "cell_type": "code",
     "collapsed": false,
     "input": [
      "# Modificando el aspecto\n",
      "x=np.arange(-20,20)\n",
      "pyplot.title('Area de la circunferencia')\n",
      "# Latex\n",
      "pyplot.text(0,1000, r'$\\pi r^2$', fontsize=30)\n",
      "pyplot.plot(x, x*x*np.pi, 'm')\n",
      "#pyplot.show()"
     ],
     "language": "python",
     "metadata": {
      "slideshow": {
       "slide_type": "subslide"
      }
     },
     "outputs": [
      {
       "metadata": {},
       "output_type": "pyout",
       "prompt_number": 41,
       "text": [
        "[<matplotlib.lines.Line2D at 0xb27c5cc>]"
       ]
      },
      {
       "metadata": {},
       "output_type": "display_data",
       "png": "[encoded data removed]",
       "text": [
        "<matplotlib.figure.Figure at 0xb0b664c>"
       ]
      }
     ],
     "prompt_number": 41
    },
    {
     "cell_type": "code",
     "collapsed": false,
     "input": [
      "# Graficos de Pastel\n",
      "distros = ['Mint', 'Ubuntu', 'Debian', 'Fedora', 'OpenSuSE', 'Arch',\n",
      "           'Centos', 'RedHat']\n",
      "# Datos seg\u00fan http://distrowatch.com la tercera semana de Mayo del 2014\n",
      "ranking = [3105, 2157, 1865, 1218, 1207, 1176, 743, 687]\n",
      "\n",
      "pyplot.pie(ranking, labels=distros, autopct='%.2f%%')\n",
      "#pyplot.show()"
     ],
     "language": "python",
     "metadata": {
      "slideshow": {
       "slide_type": "subslide"
      }
     },
     "outputs": [
      {
       "metadata": {},
       "output_type": "pyout",
       "prompt_number": 42,
       "text": [
        "([<matplotlib.patches.Wedge at 0xb54c6ec>,\n",
        "  <matplotlib.patches.Wedge at 0xb54cb8c>,\n",
        "  <matplotlib.patches.Wedge at 0xb54cfac>,\n",
        "  <matplotlib.patches.Wedge at 0xb55772c>,\n",
        "  <matplotlib.patches.Wedge at 0xb557b2c>,\n",
        "  <matplotlib.patches.Wedge at 0xb557f2c>,\n",
        "  <matplotlib.patches.Wedge at 0xb88dfec>,\n",
        "  <matplotlib.patches.Wedge at 0xb88d40c>],\n",
        " [<matplotlib.text.Text at 0xb54ca2c>,\n",
        "  <matplotlib.text.Text at 0xb54cecc>,\n",
        "  <matplotlib.text.Text at 0xb55764c>,\n",
        "  <matplotlib.text.Text at 0xb557a4c>,\n",
        "  <matplotlib.text.Text at 0xb557e4c>,\n",
        "  <matplotlib.text.Text at 0xb55726c>,\n",
        "  <matplotlib.text.Text at 0xb88d32c>,\n",
        "  <matplotlib.text.Text at 0xb88d72c>],\n",
        " [<matplotlib.text.Text at 0xb54cb4c>,\n",
        "  <matplotlib.text.Text at 0xb54ca8c>,\n",
        "  <matplotlib.text.Text at 0xb54cf2c>,\n",
        "  <matplotlib.text.Text at 0xb54cf6c>,\n",
        "  <matplotlib.text.Text at 0xb557aac>,\n",
        "  <matplotlib.text.Text at 0xb557eac>,\n",
        "  <matplotlib.text.Text at 0xb5572cc>,\n",
        "  <matplotlib.text.Text at 0xb55730c>])"
       ]
      },
      {
       "metadata": {},
       "output_type": "display_data",
       "png": "[encoded data removed]",
       "text": [
        "<matplotlib.figure.Figure at 0xb29822c>"
       ]
      }
     ],
     "prompt_number": 42
    },
    {
     "cell_type": "code",
     "collapsed": false,
     "input": [
      "x=np.random.randn(100000)\n",
      "pyplot.hist(x, facecolor='m', bins=20)\n",
      "pyplot.grid(True)\n",
      "pyplot.title('Ejemplo de Histograma')"
     ],
     "language": "python",
     "metadata": {
      "slideshow": {
       "slide_type": "subslide"
      }
     },
     "outputs": [
      {
       "metadata": {},
       "output_type": "pyout",
       "prompt_number": 43,
       "text": [
        "<matplotlib.text.Text at 0xb8b268c>"
       ]
      },
      {
       "metadata": {},
       "output_type": "display_data",
       "png": "[encoded data removed]",
       "text": [
        "<matplotlib.figure.Figure at 0xb53bb2c>"
       ]
      }
     ],
     "prompt_number": 43
    },
    {
     "cell_type": "markdown",
     "metadata": {
      "slideshow": {
       "slide_type": "slide"
      }
     },
     "source": [
      "## La librer\u00eda *SciPy*\n",
      " * **La librer\u00eda para computaci\u00f3n cient\u00edfica** propiamente dicha\n",
      " * Colecci\u00f3n de herramientas y algoritmos matem\u00e1ticos.\n",
      " * Resoluci\u00f3n de problemas de ingenier\u00eda y ciencias tales como optimizaci\u00f3n, integraci\u00f3n, procesamiento de se\u00f1ales e im\u00e1genes, etc\n",
      " * Manipulaci\u00f3n y procesamiento de im\u00e1genes.\n",
      " * Extensible a trav\u00e9s de los agregados o paquetes denominados **SciKits** (SciPy Toolkits)."
     ]
    },
    {
     "cell_type": "markdown",
     "metadata": {
      "slideshow": {
       "slide_type": "slide"
      }
     },
     "source": [
      "## SciPy pr\u00e1ctico"
     ]
    },
    {
     "cell_type": "code",
     "collapsed": false,
     "input": [
      "import scipy\n",
      "import scipy.optimize"
     ],
     "language": "python",
     "metadata": {
      "slideshow": {
       "slide_type": "fragment"
      }
     },
     "outputs": [],
     "prompt_number": 44
    },
    {
     "cell_type": "markdown",
     "metadata": {
      "slideshow": {
       "slide_type": "subslide"
      }
     },
     "source": [
      "**Ej.**: Encontrar las ra\u00edces de la ecuaci\u00f3n no lineal: $$ x + 2 cos(x) = 0 $$"
     ]
    },
    {
     "cell_type": "code",
     "collapsed": false,
     "input": [
      "def f(x):\n",
      "    return x + 2 * scipy.cos(x)"
     ],
     "language": "python",
     "metadata": {
      "slideshow": {
       "slide_type": "fragment"
      }
     },
     "outputs": [],
     "prompt_number": 45
    },
    {
     "cell_type": "code",
     "collapsed": false,
     "input": [
      "scipy.optimize.bisect(f, -2, 2)"
     ],
     "language": "python",
     "metadata": {
      "slideshow": {
       "slide_type": "fragment"
      }
     },
     "outputs": [
      {
       "metadata": {},
       "output_type": "pyout",
       "prompt_number": 46,
       "text": [
        "-1.0298665293221347"
       ]
      }
     ],
     "prompt_number": 46
    },
    {
     "cell_type": "code",
     "collapsed": false,
     "input": [
      "scipy.optimize.newton(f, 2)"
     ],
     "language": "python",
     "metadata": {
      "slideshow": {
       "slide_type": "fragment"
      }
     },
     "outputs": [
      {
       "metadata": {},
       "output_type": "pyout",
       "prompt_number": 47,
       "text": [
        "-1.0298665293222757"
       ]
      }
     ],
     "prompt_number": 47
    },
    {
     "cell_type": "markdown",
     "metadata": {
      "slideshow": {
       "slide_type": "subslide"
      }
     },
     "source": [
      "Integrar una funci\u00f3n de una variable entre dos puntos \n",
      "\n",
      "**Ej.**: Resolver la ecuaci\u00f3n $$A=\\int_0^2 x^2 dx$$"
     ]
    },
    {
     "cell_type": "code",
     "collapsed": false,
     "input": [
      "import scipy.integrate\n",
      "def f(x):\n",
      "    y = x * x\n",
      "    return y\n",
      "result, error = scipy.integrate.quad(f,0,2.0)\n",
      "result, error"
     ],
     "language": "python",
     "metadata": {
      "slideshow": {
       "slide_type": "fragment"
      }
     },
     "outputs": [
      {
       "metadata": {},
       "output_type": "pyout",
       "prompt_number": 48,
       "text": [
        "(2.6666666666666665, 2.9605947323337504e-14)"
       ]
      }
     ],
     "prompt_number": 48
    },
    {
     "cell_type": "markdown",
     "metadata": {
      "slideshow": {
       "slide_type": "subslide"
      }
     },
     "source": [
      "**Ej.**: Resolver la ecuaci\u00f3n linear ordinaria: $$ \\frac{dx}{dt} = -x$$ con la condici\u00f3n inicial $$ x(0) = 2$$"
     ]
    },
    {
     "cell_type": "code",
     "collapsed": false,
     "input": [
      "def dx_dt(x, t=0):\n",
      "    y = -x\n",
      "    return y\n",
      "t = scipy.linspace(0,5,1000)\n",
      "x0 = 2\n",
      "x = scipy.integrate.odeint(dx_dt, x0, t)"
     ],
     "language": "python",
     "metadata": {
      "slideshow": {
       "slide_type": "fragment"
      }
     },
     "outputs": [],
     "prompt_number": 49
    },
    {
     "cell_type": "code",
     "collapsed": false,
     "input": [
      "import matplotlib; import matplotlib.pyplot as pyplot\n",
      "pyplot.plot(t,x)"
     ],
     "language": "python",
     "metadata": {
      "slideshow": {
       "slide_type": "fragment"
      }
     },
     "outputs": [
      {
       "metadata": {},
       "output_type": "pyout",
       "prompt_number": 50,
       "text": [
        "[<matplotlib.lines.Line2D at 0xb5b48ec>]"
       ]
      },
      {
       "metadata": {},
       "output_type": "display_data",
       "png": "[encoded data removed]",
       "text": [
        "<matplotlib.figure.Figure at 0xbae59ac>"
       ]
      }
     ],
     "prompt_number": 50
    },
    {
     "cell_type": "markdown",
     "metadata": {
      "slideshow": {
       "slide_type": "slide"
      }
     },
     "source": [
      "## Enlaces\n",
      " * [Sitio Oficial del lenguaje de programaci\u00f3n Python](http://python.org) python.org\n",
      " * [IPython](http://ipython.org) ipython.org\n",
      " * [Galer\u00eda Matplotlib](http://matplotlib.org/1.3.1/gallery.html) matplotlib.org/1.3.1/\n",
      " * [SciPy](http://www.scipy.org) www.scipy.org\n",
      " * [SciKit para procesamiento de Im\u00e1genes](http://scipy-lectures.github.io/packages/scikit-image/) scikit-image \n",
      " * [Conferencia anual de Python Cient\u00edfico](https://conference.scipy.org/scipy2014/) conference.scipy.org/scipy2014\n",
      " * [Blog Pybonacci](https://pybonacci.wordpress.com/) pybonacci.wordpress.com"
     ]
    }
   ],
   "metadata": {}
  }
 ]
}